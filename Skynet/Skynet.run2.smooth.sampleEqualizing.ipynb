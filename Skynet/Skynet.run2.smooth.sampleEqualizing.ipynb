{
 "cells": [
  {
   "cell_type": "code",
   "execution_count": 2,
   "metadata": {},
   "outputs": [],
   "source": [
    "# Imports\n",
    "\n",
    "import pandas as pd\n",
    "import numpy as np\n",
    "import matplotlib.pyplot as plt\n",
    "import scipy\n",
    "import random\n",
    "from scipy import signal"
   ]
  },
  {
   "cell_type": "code",
   "execution_count": 3,
   "metadata": {},
   "outputs": [
    {
     "name": "stderr",
     "output_type": "stream",
     "text": [
      "/usr/local/lib/python3.6/dist-packages/tensorflow/python/framework/dtypes.py:516: FutureWarning: Passing (type, 1) or '1type' as a synonym of type is deprecated; in a future version of numpy, it will be understood as (type, (1,)) / '(1,)type'.\n",
      "  _np_qint8 = np.dtype([(\"qint8\", np.int8, 1)])\n",
      "/usr/local/lib/python3.6/dist-packages/tensorflow/python/framework/dtypes.py:517: FutureWarning: Passing (type, 1) or '1type' as a synonym of type is deprecated; in a future version of numpy, it will be understood as (type, (1,)) / '(1,)type'.\n",
      "  _np_quint8 = np.dtype([(\"quint8\", np.uint8, 1)])\n",
      "/usr/local/lib/python3.6/dist-packages/tensorflow/python/framework/dtypes.py:518: FutureWarning: Passing (type, 1) or '1type' as a synonym of type is deprecated; in a future version of numpy, it will be understood as (type, (1,)) / '(1,)type'.\n",
      "  _np_qint16 = np.dtype([(\"qint16\", np.int16, 1)])\n",
      "/usr/local/lib/python3.6/dist-packages/tensorflow/python/framework/dtypes.py:519: FutureWarning: Passing (type, 1) or '1type' as a synonym of type is deprecated; in a future version of numpy, it will be understood as (type, (1,)) / '(1,)type'.\n",
      "  _np_quint16 = np.dtype([(\"quint16\", np.uint16, 1)])\n",
      "/usr/local/lib/python3.6/dist-packages/tensorflow/python/framework/dtypes.py:520: FutureWarning: Passing (type, 1) or '1type' as a synonym of type is deprecated; in a future version of numpy, it will be understood as (type, (1,)) / '(1,)type'.\n",
      "  _np_qint32 = np.dtype([(\"qint32\", np.int32, 1)])\n",
      "/usr/local/lib/python3.6/dist-packages/tensorflow/python/framework/dtypes.py:525: FutureWarning: Passing (type, 1) or '1type' as a synonym of type is deprecated; in a future version of numpy, it will be understood as (type, (1,)) / '(1,)type'.\n",
      "  np_resource = np.dtype([(\"resource\", np.ubyte, 1)])\n",
      "/usr/local/lib/python3.6/dist-packages/tensorboard/compat/tensorflow_stub/dtypes.py:541: FutureWarning: Passing (type, 1) or '1type' as a synonym of type is deprecated; in a future version of numpy, it will be understood as (type, (1,)) / '(1,)type'.\n",
      "  _np_qint8 = np.dtype([(\"qint8\", np.int8, 1)])\n",
      "/usr/local/lib/python3.6/dist-packages/tensorboard/compat/tensorflow_stub/dtypes.py:542: FutureWarning: Passing (type, 1) or '1type' as a synonym of type is deprecated; in a future version of numpy, it will be understood as (type, (1,)) / '(1,)type'.\n",
      "  _np_quint8 = np.dtype([(\"quint8\", np.uint8, 1)])\n",
      "/usr/local/lib/python3.6/dist-packages/tensorboard/compat/tensorflow_stub/dtypes.py:543: FutureWarning: Passing (type, 1) or '1type' as a synonym of type is deprecated; in a future version of numpy, it will be understood as (type, (1,)) / '(1,)type'.\n",
      "  _np_qint16 = np.dtype([(\"qint16\", np.int16, 1)])\n",
      "/usr/local/lib/python3.6/dist-packages/tensorboard/compat/tensorflow_stub/dtypes.py:544: FutureWarning: Passing (type, 1) or '1type' as a synonym of type is deprecated; in a future version of numpy, it will be understood as (type, (1,)) / '(1,)type'.\n",
      "  _np_quint16 = np.dtype([(\"quint16\", np.uint16, 1)])\n",
      "/usr/local/lib/python3.6/dist-packages/tensorboard/compat/tensorflow_stub/dtypes.py:545: FutureWarning: Passing (type, 1) or '1type' as a synonym of type is deprecated; in a future version of numpy, it will be understood as (type, (1,)) / '(1,)type'.\n",
      "  _np_qint32 = np.dtype([(\"qint32\", np.int32, 1)])\n",
      "/usr/local/lib/python3.6/dist-packages/tensorboard/compat/tensorflow_stub/dtypes.py:550: FutureWarning: Passing (type, 1) or '1type' as a synonym of type is deprecated; in a future version of numpy, it will be understood as (type, (1,)) / '(1,)type'.\n",
      "  np_resource = np.dtype([(\"resource\", np.ubyte, 1)])\n"
     ]
    }
   ],
   "source": [
    "import tensorflow as tf"
   ]
  },
  {
   "cell_type": "code",
   "execution_count": 4,
   "metadata": {},
   "outputs": [],
   "source": [
    "# 1. Drop unneeded columns in frames data\n",
    "\n",
    "# Returns the list of used columns (dropping lower joints, useless features...)\n",
    "def computeUsedColumns() :\n",
    "    # header computed on one frame row (skipping rows 2-6) with following replace regex\n",
    "    # ([A-z]+)\\s*\\w+\\s+[\\-0-9\\.]+\\s+[\\-0-9\\.]+\\s+[\\-0-9\\.]+\\s+[\\-0-9\\.]+\\s+[\\-0-9\\.]+\\s+[\\-0-9\\.]+\\s+[\\-0-9\\.]+\\s+\n",
    "    # $1\\t$1Status\\t$1LocX\\t$1LocY\\t$1LocZ\\t$1OrW\\t$1OrX\\t$1OrY\\t$1OrZ\\t\n",
    "    header = [\"Index\",\"Time\",\"SkeletonId\",\"HandLeftConfidence\",\"HandLeftState\",\"HandRightConfidence\",\"HandRightState\",\"SpineBase\",\"SpineBaseStatus\",\"SpineBaseLocX\",\"SpineBaseLocY\",\"SpineBaseLocZ\",\"SpineBaseOrW\",\"SpineBaseOrX\",\"SpineBaseOrY\",\"SpineBaseOrZ\",\"SpineMid\",\"SpineMidStatus\",\"SpineMidLocX\",\"SpineMidLocY\",\"SpineMidLocZ\",\"SpineMidOrW\",\"SpineMidOrX\",\"SpineMidOrY\",\"SpineMidOrZ\",\"Neck\",\"NeckStatus\",\"NeckLocX\",\"NeckLocY\",\"NeckLocZ\",\"NeckOrW\",\"NeckOrX\",\"NeckOrY\",\"NeckOrZ\",\"Head\",\"HeadStatus\",\"HeadLocX\",\"HeadLocY\",\"HeadLocZ\",\"HeadOrW\",\"HeadOrX\",\"HeadOrY\",\"HeadOrZ\",\"ShoulderLeft\",\"ShoulderLeftStatus\",\"ShoulderLeftLocX\",\"ShoulderLeftLocY\",\"ShoulderLeftLocZ\",\"ShoulderLeftOrW\",\"ShoulderLeftOrX\",\"ShoulderLeftOrY\",\"ShoulderLeftOrZ\",\"ElbowLeft\",\"ElbowLeftStatus\",\"ElbowLeftLocX\",\"ElbowLeftLocY\",\"ElbowLeftLocZ\",\"ElbowLeftOrW\",\"ElbowLeftOrX\",\"ElbowLeftOrY\",\"ElbowLeftOrZ\",\"WristLeft\",\"WristLeftStatus\",\"WristLeftLocX\",\"WristLeftLocY\",\"WristLeftLocZ\",\"WristLeftOrW\",\"WristLeftOrX\",\"WristLeftOrY\",\"WristLeftOrZ\",\"HandLeft\",\"HandLeftStatus\",\"HandLeftLocX\",\"HandLeftLocY\",\"HandLeftLocZ\",\"HandLeftOrW\",\"HandLeftOrX\",\"HandLeftOrY\",\"HandLeftOrZ\",\"ShoulderRight\",\"ShoulderRightStatus\",\"ShoulderRightLocX\",\"ShoulderRightLocY\",\"ShoulderRightLocZ\",\"ShoulderRightOrW\",\"ShoulderRightOrX\",\"ShoulderRightOrY\",\"ShoulderRightOrZ\",\"ElbowRight\",\"ElbowRightStatus\",\"ElbowRightLocX\",\"ElbowRightLocY\",\"ElbowRightLocZ\",\"ElbowRightOrW\",\"ElbowRightOrX\",\"ElbowRightOrY\",\"ElbowRightOrZ\",\"WristRight\",\"WristRightStatus\",\"WristRightLocX\",\"WristRightLocY\",\"WristRightLocZ\",\"WristRightOrW\",\"WristRightOrX\",\"WristRightOrY\",\"WristRightOrZ\",\"HandRight\",\"HandRightStatus\",\"HandRightLocX\",\"HandRightLocY\",\"HandRightLocZ\",\"HandRightOrW\",\"HandRightOrX\",\"HandRightOrY\",\"HandRightOrZ\",\"HipLeft\",\"HipLeftStatus\",\"HipLeftLocX\",\"HipLeftLocY\",\"HipLeftLocZ\",\"HipLeftOrW\",\"HipLeftOrX\",\"HipLeftOrY\",\"HipLeftOrZ\",\"KneeLeft\",\"KneeLeftStatus\",\"KneeLeftLocX\",\"KneeLeftLocY\",\"KneeLeftLocZ\",\"KneeLeftOrW\",\"KneeLeftOrX\",\"KneeLeftOrY\",\"KneeLeftOrZ\",\"AnkleLeft\",\"AnkleLeftStatus\",\"AnkleLeftLocX\",\"AnkleLeftLocY\",\"AnkleLeftLocZ\",\"AnkleLeftOrW\",\"AnkleLeftOrX\",\"AnkleLeftOrY\",\"AnkleLeftOrZ\",\"FootLeft\",\"FootLeftStatus\",\"FootLeftLocX\",\"FootLeftLocY\",\"FootLeftLocZ\",\"FootLeftOrW\",\"FootLeftOrX\",\"FootLeftOrY\",\"FootLeftOrZ\",\"HipRight\",\"HipRightStatus\",\"HipRightLocX\",\"HipRightLocY\",\"HipRightLocZ\",\"HipRightOrW\",\"HipRightOrX\",\"HipRightOrY\",\"HipRightOrZ\",\"KneeRight\",\"KneeRightStatus\",\"KneeRightLocX\",\"KneeRightLocY\",\"KneeRightLocZ\",\"KneeRightOrW\",\"KneeRightOrX\",\"KneeRightOrY\",\"KneeRightOrZ\",\"AnkleRight\",\"AnkleRightStatus\",\"AnkleRightLocX\",\"AnkleRightLocY\",\"AnkleRightLocZ\",\"AnkleRightOrW\",\"AnkleRightOrX\",\"AnkleRightOrY\",\"AnkleRightOrZ\",\"FootRight\",\"FootRightStatus\",\"FootRightLocX\",\"FootRightLocY\",\"FootRightLocZ\",\"FootRightOrW\",\"FootRightOrX\",\"FootRightOrY\",\"FootRightOrZ\",\"SpineShoulder\",\"SpineShoulderStatus\",\"SpineShoulderLocX\",\"SpineShoulderLocY\",\"SpineShoulderLocZ\",\"SpineShoulderOrW\",\"SpineShoulderOrX\",\"SpineShoulderOrY\",\"SpineShoulderOrZ\",\"HandTipLeft\",\"HandTipLeftStatus\",\"HandTipLeftLocX\",\"HandTipLeftLocY\",\"HandTipLeftLocZ\",\"HandTipLeftOrW\",\"HandTipLeftOrX\",\"HandTipLeftOrY\",\"HandTipLeftOrZ\",\"ThumbLeft\",\"ThumbLeftStatus\",\"ThumbLeftLocX\",\"ThumbLeftLocY\",\"ThumbLeftLocZ\",\"ThumbLeftOrW\",\"ThumbLeftOrX\",\"ThumbLeftOrY\",\"ThumbLeftOrZ\",\"HandTipRight\",\"HandTipRightStatus\",\"HandTipRightLocX\",\"HandTipRightLocY\",\"HandTipRightLocZ\",\"HandTipRightOrW\",\"HandTipRightOrX\",\"HandTipRightOrY\",\"HandTipRightOrZ\",\"ThumbRight\",\"ThumbRightStatus\",\"ThumbRightLocX\",\"ThumbRightLocY\",\"ThumbRightLocZ\",\"ThumbRightOrW\",\"ThumbRightOrX\",\"ThumbRightOrY\",\"ThumbRightOrZ\"]\n",
    "    cols = dict()\n",
    "    for i in range(len(header)) :\n",
    "        cols[i] = header[i]\n",
    "\n",
    "    # confidence\n",
    "    for i in range(2,7) :\n",
    "        del cols[i]\n",
    "\n",
    "    # joint name\n",
    "    for i in range(7,224,9) :\n",
    "        del cols[i]\n",
    "\n",
    "    # 8 lower joints\n",
    "    for i in [116, 125, 134, 143, 152, 161, 170, 179] :\n",
    "        for j in range(8) :\n",
    "            del cols[i+j]\n",
    "\n",
    "    # always null orientations\n",
    "    for i in [39, 201, 210, 219, 228] :\n",
    "        for j in range(4) :\n",
    "            del cols[i+j]\n",
    "\n",
    "    # remove tracking status features\n",
    "    for i in [8, 17, 26, 35, 44, 53, 62, 71, 80, 89, 98, 107, 188, 197, 206, 215, 224] :\n",
    "        del cols[i]\n",
    "\n",
    "    return cols\n",
    "\n",
    "# Loads a skeleton dataframe from 'filepath' CSV, keeping only 'cols' columns\n",
    "def loadEggnogSkeleton(filepath, cols):\n",
    "    filepath = \"datasets/eggnog.original/\" + filepath\n",
    "    dataframe = pd.read_csv(filepath, header=None, skiprows=[0], usecols=list(cols.keys()), names=list(cols.values()))\n",
    "    return dataframe"
   ]
  },
  {
   "cell_type": "code",
   "execution_count": 5,
   "metadata": {},
   "outputs": [],
   "source": [
    "# 2. Train & test set construction\n",
    "\n",
    "# hyperparameters\n",
    "# moveDetectionDuraction (ns) : window of time around which the frames are considered as a start/end frame [-moveDetectionDuration,moveDetectionDuration]\n",
    "\n",
    "# Loads frames corresponding timestamps from 'filepath' CSV\n",
    "def loadTimestamps(filepath):\n",
    "    filepath = \"datasets/eggnog.original/\" + filepath\n",
    "    # print(filepath)\n",
    "    dataframe = pd.read_csv(filepath)\n",
    "    return dataframe\n",
    "\n",
    "def createFrameTest(eFrames, timestamps, moveDetectionDuration) :\n",
    "    def getFrameLabels(frame) :\n",
    "        isSF, isEF = False, False\n",
    "        timestampsLen = len(timestamps)\n",
    "        for f in eFrames :\n",
    "            if f < timestampsLen and abs(frame[1] - timestamps[f][1]) < moveDetectionDuration :\n",
    "                isSF = True\n",
    "                #print(timestamps[f][1] - moveDetectionDuration, \"<\", frame[1], \"<\", timestamps[f][1] + moveDetectionDuration, \"for frame\",f)\n",
    "                break\n",
    "#        for f in eFrames :\n",
    "#            if abs(frame[1] - f*1000000000/30) < moveDetectionDuration :\n",
    "#                isEF = True\n",
    "#                print(frame[1], \"ef frame\", f)\n",
    "#                break\n",
    "        return isSF\n",
    "    return getFrameLabels\n",
    "    \n"
   ]
  },
  {
   "cell_type": "code",
   "execution_count": 6,
   "metadata": {
    "scrolled": true
   },
   "outputs": [],
   "source": [
    "# 3. Dataset creation & labels parsing\n",
    "\n",
    "# Creates and returns the dataset as an array of [frames as numpy array, labels as list of booleans] loaded from the \"Labels.tsv\"\n",
    "#    by matching each movement end label found with its corresponding frames (within a time interval) marking it as \"True\"\n",
    "def createDataset(columns, moveDetectionDuration = 333333) :\n",
    "    labels = pd.read_csv(\"datasets/eggnog/Labels.tsv\", sep='\\t')\n",
    "    eFrames = list()\n",
    "    data = dict()\n",
    "    lastFile = \"\"\n",
    "    n=0\n",
    "    ns, nf = 0, 0\n",
    "    diag = True\n",
    "    for i in range(len(labels)) :\n",
    "        l = labels.loc[i]\n",
    "        n+=1\n",
    "        #if n > 10000 : break\n",
    "        # else : print(str(n)+\"/400\")\n",
    "        if lastFile != \"\" and lastFile != l[\"File Name\"] :\n",
    "            lastFile = lastFile.replace(\"\\\\\", \"/\")\n",
    "            eggSkel = loadEggnogSkeleton(lastFile+\"_Skeleton.txt\", columns)\n",
    "            timestampsOk = False\n",
    "            try:\n",
    "                timestamps = loadTimestamps(lastFile+\"_RGB.frames\")\n",
    "                timestampsOk = True\n",
    "            except FileNotFoundError:\n",
    "                try:\n",
    "                    timestamps = loadTimestamps(lastFile+\"_Video.frames\")\n",
    "                    timestampsOk = True\n",
    "                except FileNotFoundError:\n",
    "                    print(lastFile+ \" ignored, no frame file found\")\n",
    "                    nf +=1\n",
    "            if(timestampsOk) :\n",
    "                frames = eggSkel.drop([\"Index\", \"Time\"], 1)\n",
    "                labs = list(map(createFrameTest(eFrames, timestamps.values, moveDetectionDuration), eggSkel.values))\n",
    "                data[lastFile] = [frames, labs]\n",
    "                if diag : \n",
    "                    a = np.array(labs)\n",
    "                    movFramesCount = np.sum(a == True)\n",
    "                    print(lastFile+\" well processed: \"+str(len(eFrames))+\" labs => \"+ str(movFramesCount)+\"/\"+str(len(labs))+\" frames marked.\")\n",
    "                else :\n",
    "                    print(lastFile+\" well processed !\")\n",
    "                ns += 1\n",
    "                if (ns>50):\n",
    "                    return data\n",
    "            #else :\n",
    "            #    print(lastFile+\" couldnt be parsed: timestamps == False\")\n",
    "            eFrames = list()\n",
    "        lastFile = l[\"File Name\"]\n",
    "        eFrames.append(l[\"End Frame\"])\n",
    "    print(str(ns) +\" files loaded for \"+str(nf)+\" fails (frames file not found), itered on \"+str(n)+\" total labels\")\n",
    "    return data"
   ]
  },
  {
   "cell_type": "code",
   "execution_count": 7,
   "metadata": {},
   "outputs": [],
   "source": [
    "# 4. Smoothing datas with savgol filter\n",
    "\n",
    "def smoothDataset(data, windowLength = 13, order = 1) :\n",
    "    for i in data :\n",
    "        print(\"Smoothing \"+str(i)+\"..\")\n",
    "        for s in data[i][0] :\n",
    "            data[i][0][s] = signal.savgol_filter(data[i][0][s], windowLength, order)\n",
    "    print(\"Smoothing finished !\")\n",
    "    return data"
   ]
  },
  {
   "cell_type": "code",
   "execution_count": 8,
   "metadata": {},
   "outputs": [],
   "source": [
    "#5. Create batch for lstm training\n",
    "\n",
    "def multivariate_data(dataset, target, start_index, end_index, history_size,\n",
    "                      target_size, step, single_step=False):\n",
    "  data = []\n",
    "  labels = []\n",
    "\n",
    "  start_index = start_index + history_size\n",
    "  if end_index is None:\n",
    "    end_index = len(dataset) - target_size\n",
    "\n",
    "  for i in range(start_index, end_index):\n",
    "    indices = range(i-history_size, i, step)\n",
    "    data.append(dataset[indices])\n",
    "\n",
    "    if single_step:\n",
    "      labels.append(target[i+target_size])\n",
    "    else:\n",
    "      labels.append(target[i:i+target_size])\n",
    "\n",
    "  return np.array(data), np.array(labels)"
   ]
  },
  {
   "cell_type": "code",
   "execution_count": 9,
   "metadata": {},
   "outputs": [],
   "source": [
    "#6. Create Dataset, return x_train_single, y_train_single, x_val_single, y_val_single\n",
    "\n",
    "def createSets(data, ratio, maxFilesNumber):\n",
    "    #Parameters\n",
    "    past_history = 15\n",
    "    future_target = 0\n",
    "    STEP = 1\n",
    "    TRAIN_SPLIT = None\n",
    "    BUFFER_SIZE = 10000\n",
    "    BATCH_SIZE = 256\n",
    "    \n",
    "    maxIndexFile=maxFilesNumber\n",
    "    #maxIndexFile=len(data)\n",
    "    valStart=int(ratio*maxIndexFile)\n",
    "    \n",
    "    \n",
    "    #Training set\n",
    "    print(\"Creating training set with \"+str(valStart)+\" files\")\n",
    "    x_train_single, y_train_single = [[[]]], [[[]]]\n",
    "    i = 0\n",
    "    for file in data :\n",
    "        i += 1\n",
    "        if i > valStart : break # reducing dataset size for first tries\n",
    "        print(str(i) + \". Processing \"+file+\"..\")\n",
    "        X = data[file][0].values\n",
    "        Y = data[file][1]\n",
    "        x_train_step, y_train_step = multivariate_data(X, Y, 0,\n",
    "                                                           TRAIN_SPLIT, past_history,\n",
    "                                                           future_target, STEP,\n",
    "                                                           single_step=True)    \n",
    "        x_train_single += x_train_step.tolist()\n",
    "        y_train_single += y_train_step.tolist()\n",
    "    \n",
    "    x_train_single, y_train_single = x_train_single[1:], y_train_single[1:]\n",
    "    \n",
    "    #Validation set\n",
    "    print(\"Creating validation set with \"+str(maxIndexFile-valStart)+\" files\")\n",
    "    x_val_single, y_val_single = [[[]]], [[[]]] \n",
    "    i=valStart\n",
    "    for file in data :\n",
    "        i += 1\n",
    "        if i > maxIndexFile : break # reducing dataset size for first tries\n",
    "        print(str(i) + \". Processing \"+file+\"..\")\n",
    "        X = data[file][0].values\n",
    "        Y = data[file][1]\n",
    "        x_val_step, y_val_step = multivariate_data(X, Y,\n",
    "                                                   0, TRAIN_SPLIT, past_history,\n",
    "                                                   future_target, STEP,\n",
    "                                                   single_step=True)    \n",
    "\n",
    "        x_val_single += x_val_step.tolist()\n",
    "        y_val_single += y_val_step.tolist()\n",
    "\n",
    "\n",
    "    x_val_single, y_val_single = x_val_single[1:], y_val_single[1:]\n",
    "    \n",
    "    print(\"done!\")\n",
    "    \n",
    "    #return traing and validation sets\n",
    "    return x_train_single, y_train_single, x_val_single, y_val_single\n",
    "    "
   ]
  },
  {
   "cell_type": "code",
   "execution_count": 10,
   "metadata": {},
   "outputs": [],
   "source": [
    "#7. Equalize number of samples given the targetRation, 0.5 for 50/50\n",
    "\n",
    "def equalizeSamples(X, Y, targetRatio):\n",
    "    \n",
    "    print(\"counting true labels\")\n",
    "    #count true labels\n",
    "    count=0\n",
    "    \n",
    "    lenX=len(X)\n",
    "    for i in range (lenX):\n",
    "        if(Y[i]==1):\n",
    "            count+=1\n",
    "            \n",
    "    print(\"Found \" + str(count) + \" TRUE samples out of \" + str(lenX) + \" total samples\")\n",
    "    \n",
    "    print(\"Equalizing samples\")\n",
    "            \n",
    "    #equalize samples\n",
    "    ratio=count/len(X)\n",
    "    \n",
    "    while (ratio<targetRatio):\n",
    "        randTrainIndex=random.randrange(0, len(X))\n",
    "        \n",
    "        #find random True Sample\n",
    "        while True:\n",
    "            randTrueSampleIndex=random.randrange(0, len(X))\n",
    "            if Y[randTrueSampleIndex]==1:\n",
    "                break\n",
    "        \n",
    "        randomXTrueSample=X[randTrueSampleIndex]\n",
    "        randomYTrueSample=Y[randTrueSampleIndex]\n",
    "        \n",
    "        #for i in range (len(randomXTrueSample[0])):\n",
    "        #    noise = np.random.normal(0,1,15)\n",
    "        #    for j in range(len(randomXTrueSample)):\n",
    "        #        randomXTrueSample[j][i]+=noise[j]\n",
    "                \n",
    "        \n",
    "        X.insert(randTrainIndex, randomXTrueSample)\n",
    "        Y.insert(randTrainIndex, randomYTrueSample)\n",
    "        \n",
    "        count +=1\n",
    "        ratio=count/len(X)\n",
    "        \n",
    "    print(\"Samples equalized with \" +str(ratio)+ \" ratio\")\n",
    "    \n",
    "    return X, Y"
   ]
  },
  {
   "cell_type": "code",
   "execution_count": 11,
   "metadata": {},
   "outputs": [],
   "source": [
    "#8. Plot ratio of True/False Samples\n",
    "\n",
    "def plotRatio(Y):\n",
    "    count=0\n",
    "    lenY=len(Y)\n",
    "    for i in range(lenY):\n",
    "        if (Y[i]==1):\n",
    "            count+=1\n",
    "            \n",
    "    labels = 'continuous', 'gesture'\n",
    "    sizes = [len(Y)-count, count]\n",
    "    explode = (0, 0.1)\n",
    "\n",
    "    fig1, ax1 = plt.subplots()\n",
    "    ax1.pie(sizes, explode=explode, labels=labels, autopct='%1.1f%%', shadow=True, startangle=90)\n",
    "    ax1.axis('equal')\n",
    "\n",
    "    plt.show()"
   ]
  },
  {
   "cell_type": "code",
   "execution_count": 12,
   "metadata": {},
   "outputs": [],
   "source": [
    "#9. Plot training and validation loss for the given model history\n",
    "\n",
    "def plot_train_history(history, title):\n",
    "  loss = history.history['loss']\n",
    "  val_loss = history.history['val_loss']\n",
    "\n",
    "  epochs = range(len(loss))\n",
    "\n",
    "  plt.figure()\n",
    "\n",
    "  plt.plot(epochs, loss, 'b', label='Training loss')\n",
    "  plt.plot(epochs, val_loss, 'r', label='Validation loss')\n",
    "  plt.title(title)\n",
    "  plt.legend()\n",
    "\n",
    "  plt.show()"
   ]
  },
  {
   "cell_type": "code",
   "execution_count": 13,
   "metadata": {},
   "outputs": [],
   "source": [
    "#10. Create TensorFlow Model\n",
    "\n",
    "def createLSTM(nLSTM, output):\n",
    "    single_step_model = tf.keras.models.Sequential()\n",
    "    single_step_model.add(tf.keras.layers.LSTM(nLSTM))\n",
    "    single_step_model.add(tf.keras.layers.Dense(output))\n",
    "    single_step_model.compile(optimizer=tf.keras.optimizers.RMSprop(), loss='binary_crossentropy')\n",
    "    return single_step_model"
   ]
  },
  {
   "cell_type": "code",
   "execution_count": 14,
   "metadata": {},
   "outputs": [],
   "source": [
    "#11. Fit Model\n",
    "\n",
    "def trainLSTM(model, epochs, batchSize): \n",
    "    x_train_single = np.array(xTrain)\n",
    "    y_train_single = np.array(yTrain)\n",
    "    history = model.fit(x_train_single, y_train_single, epochs=epochs, batch_size=batchSize,validation_split=0.1)\n",
    "    return history"
   ]
  },
  {
   "cell_type": "code",
   "execution_count": 15,
   "metadata": {},
   "outputs": [],
   "source": [
    "#12. Confusion Matrix\n",
    "\n",
    "def confusionMatrix(model, X, Y):\n",
    "    y_pred=model.predict_classes(X)\n",
    "    con_mat=tf.math.confusion_matrix(labels=Y, predictions=y_pred).numpy()\n",
    "    return con_mat"
   ]
  },
  {
   "cell_type": "code",
   "execution_count": 16,
   "metadata": {},
   "outputs": [
    {
     "name": "stdout",
     "output_type": "stream",
     "text": [
      "s01/part1_layout_p02/20151105_191251_00 well processed: 239 labs => 415/11799 frames marked.\n",
      "s01/part1_layout_p02/20151105_192144_00 well processed: 16 labs => 30/511 frames marked.\n",
      "s01/part1_layout_p02/20151105_192312_00 well processed: 21 labs => 38/618 frames marked.\n",
      "s01/part1_layout_p02/20151105_192407_00 well processed: 23 labs => 40/816 frames marked.\n",
      "s01/part1_layout_p02/20151105_192610_00 well processed: 34 labs => 60/1048 frames marked.\n",
      "s01/part1_layout_p02/20151105_192717_00 well processed: 41 labs => 66/1307 frames marked.\n",
      "s01/part1_layout_p02/20151105_193157_00 well processed: 233 labs => 379/7548 frames marked.\n",
      "s01/part2_layout_p01/20151105_194301_00 well processed: 53 labs => 90/1825 frames marked.\n",
      "s01/part2_layout_p01/20151105_194456_00 well processed: 60 labs => 103/1703 frames marked.\n",
      "s01/part2_layout_p01/20151105_194650_00 well processed: 119 labs => 203/3719 frames marked.\n",
      "s01/part2_layout_p01/20151105_194955_00 well processed: 26 labs => 47/883 frames marked.\n",
      "s01/part2_layout_p01/20151105_195111_00 well processed: 159 labs => 279/4671 frames marked.\n",
      "s01/part2_layout_p01/20151105_195450_00 well processed: 92 labs => 167/2237 frames marked.\n",
      "s02/part1_layout_p04/20151106_214357_00 well processed: 21 labs => 30/632 frames marked.\n",
      "s02/part1_layout_p04/20151106_214521_00 well processed: 24 labs => 25/727 frames marked.\n",
      "s02/part1_layout_p04/20151106_214647_00 well processed: 88 labs => 116/2544 frames marked.\n",
      "s02/part1_layout_p04/20151106_215028_00 well processed: 11 labs => 13/291 frames marked.\n",
      "s02/part1_layout_p04/20151106_215120_00 well processed: 57 labs => 64/1337 frames marked.\n",
      "s02/part1_layout_p04/20151106_215320_00 well processed: 73 labs => 112/1740 frames marked.\n",
      "s02/part1_layout_p04/20151106_215547_00 well processed: 53 labs => 68/1528 frames marked.\n",
      "s02/part1_layout_p04/20151106_215829_00 well processed: 176 labs => 219/4635 frames marked.\n",
      "s02/part2_layout_p03/20151106_220752_00 well processed: 30 labs => 53/941 frames marked.\n",
      "s02/part2_layout_p03/20151106_220857_00 well processed: 20 labs => 34/739 frames marked.\n",
      "s02/part2_layout_p03/20151106_221002_00 well processed: 9 labs => 15/282 frames marked.\n",
      "s02/part2_layout_p03/20151106_221038_00 well processed: 63 labs => 114/1863 frames marked.\n",
      "s02/part2_layout_p03/20151106_221259_00 well processed: 46 labs => 81/1169 frames marked.\n",
      "s02/part2_layout_p03/20151106_221434_00 well processed: 136 labs => 246/4525 frames marked.\n",
      "s02/part2_layout_p03/20151106_221752_00 well processed: 121 labs => 215/4330 frames marked.\n",
      "s02/part2_layout_p03/20151106_222114_00 well processed: 93 labs => 165/3204 frames marked.\n",
      "s02/part2_layout_p03/20151106_222352_00 well processed: 54 labs => 102/1812 frames marked.\n",
      "s03/part1_layout_p06/20151109_191547_00 well processed: 51 labs => 78/1509 frames marked.\n",
      "s03/part1_layout_p06/20151109_191726_00 well processed: 30 labs => 47/679 frames marked.\n",
      "s03/part1_layout_p06/20151109_191826_00 well processed: 38 labs => 55/872 frames marked.\n",
      "s03/part1_layout_p06/20151109_191947_00 well processed: 142 labs => 231/3258 frames marked.\n",
      "s03/part1_layout_p06/20151109_192232_00 well processed: 35 labs => 64/607 frames marked.\n",
      "s03/part1_layout_p06/20151109_192321_00 well processed: 25 labs => 45/527 frames marked.\n",
      "s03/part1_layout_p06/20151109_192442_00 well processed: 119 labs => 197/3524 frames marked.\n",
      "s03/part1_layout_p06/20151109_192740_00 well processed: 15 labs => 25/451 frames marked.\n",
      "s03/part1_layout_p06/20151109_192824_00 well processed: 16 labs => 24/450 frames marked.\n",
      "s03/part2_layout_p05/20151109_193224_00 well processed: 46 labs => 72/1357 frames marked.\n",
      "s03/part2_layout_p05/20151109_193356_00 well processed: 56 labs => 85/2192 frames marked.\n",
      "s03/part2_layout_p05/20151109_193627_00 well processed: 106 labs => 172/3083 frames marked.\n",
      "s03/part2_layout_p05/20151109_193937_00 well processed: 63 labs => 108/1550 frames marked.\n",
      "s03/part2_layout_p05/20151109_194134_00 well processed: 114 labs => 185/3001 frames marked.\n",
      "s03/part2_layout_p05/20151109_194414_00 well processed: 54 labs => 86/1711 frames marked.\n",
      "s03/part2_layout_p05/20151109_194614_00 well processed: 65 labs => 107/1561 frames marked.\n",
      "s03/part2_layout_p05/20151109_194757_00 well processed: 79 labs => 127/1943 frames marked.\n",
      "s03/part2_layout_p05/20151109_195011_00 well processed: 83 labs => 143/1882 frames marked.\n",
      "s03/part2_layout_p05/20151109_195206_00 well processed: 23 labs => 37/402 frames marked.\n",
      "s04/part1_layout_p08/20151113_223703_00 well processed: 80 labs => 141/1843 frames marked.\n",
      "s04/part1_layout_p08/20151113_223852_00 well processed: 41 labs => 72/806 frames marked.\n"
     ]
    },
    {
     "data": {
      "text/plain": [
       "[<matplotlib.lines.Line2D at 0x7fe8669f8cf8>]"
      ]
     },
     "execution_count": 16,
     "metadata": {},
     "output_type": "execute_result"
    },
    {
     "data": {
      "image/png": "[encoded data removed]",
      "text/plain": [
       "<Figure size 432x288 with 1 Axes>"
      ]
     },
     "metadata": {
      "needs_background": "light"
     },
     "output_type": "display_data"
    }
   ],
   "source": [
    "# ----------------------\n",
    "# Lets run dat sh*t !\n",
    "# ----------------------\n",
    "\n",
    "columns = computeUsedColumns()\n",
    "data = createDataset(columns, moveDetectionDuration = 333333)\n",
    "plt.plot(data[\"s01/part1_layout_p02/20151105_192144_00\"][0][\"ThumbRightLocX\"]) # smooth example before\n",
    "#smoothDataset(data, windowLength = 13, order = 1)\n",
    "plt.plot(data[\"s01/part1_layout_p02/20151105_192144_00\"][0][\"ThumbRightLocX\"]) # smooth example after"
   ]
  },
  {
   "cell_type": "code",
   "execution_count": 17,
   "metadata": {},
   "outputs": [
    {
     "name": "stdout",
     "output_type": "stream",
     "text": [
      "Creating training set with 40 files\n",
      "1. Processing s01/part1_layout_p02/20151105_191251_00..\n",
      "2. Processing s01/part1_layout_p02/20151105_192144_00..\n",
      "3. Processing s01/part1_layout_p02/20151105_192312_00..\n",
      "4. Processing s01/part1_layout_p02/20151105_192407_00..\n",
      "5. Processing s01/part1_layout_p02/20151105_192610_00..\n",
      "6. Processing s01/part1_layout_p02/20151105_192717_00..\n",
      "7. Processing s01/part1_layout_p02/20151105_193157_00..\n",
      "8. Processing s01/part2_layout_p01/20151105_194301_00..\n",
      "9. Processing s01/part2_layout_p01/20151105_194456_00..\n",
      "10. Processing s01/part2_layout_p01/20151105_194650_00..\n",
      "11. Processing s01/part2_layout_p01/20151105_194955_00..\n",
      "12. Processing s01/part2_layout_p01/20151105_195111_00..\n",
      "13. Processing s01/part2_layout_p01/20151105_195450_00..\n",
      "14. Processing s02/part1_layout_p04/20151106_214357_00..\n",
      "15. Processing s02/part1_layout_p04/20151106_214521_00..\n",
      "16. Processing s02/part1_layout_p04/20151106_214647_00..\n",
      "17. Processing s02/part1_layout_p04/20151106_215028_00..\n",
      "18. Processing s02/part1_layout_p04/20151106_215120_00..\n",
      "19. Processing s02/part1_layout_p04/20151106_215320_00..\n",
      "20. Processing s02/part1_layout_p04/20151106_215547_00..\n",
      "21. Processing s02/part1_layout_p04/20151106_215829_00..\n",
      "22. Processing s02/part2_layout_p03/20151106_220752_00..\n",
      "23. Processing s02/part2_layout_p03/20151106_220857_00..\n",
      "24. Processing s02/part2_layout_p03/20151106_221002_00..\n",
      "25. Processing s02/part2_layout_p03/20151106_221038_00..\n",
      "26. Processing s02/part2_layout_p03/20151106_221259_00..\n",
      "27. Processing s02/part2_layout_p03/20151106_221434_00..\n",
      "28. Processing s02/part2_layout_p03/20151106_221752_00..\n",
      "29. Processing s02/part2_layout_p03/20151106_222114_00..\n",
      "30. Processing s02/part2_layout_p03/20151106_222352_00..\n",
      "31. Processing s03/part1_layout_p06/20151109_191547_00..\n",
      "32. Processing s03/part1_layout_p06/20151109_191726_00..\n",
      "33. Processing s03/part1_layout_p06/20151109_191826_00..\n",
      "34. Processing s03/part1_layout_p06/20151109_191947_00..\n",
      "35. Processing s03/part1_layout_p06/20151109_192232_00..\n",
      "36. Processing s03/part1_layout_p06/20151109_192321_00..\n",
      "37. Processing s03/part1_layout_p06/20151109_192442_00..\n",
      "38. Processing s03/part1_layout_p06/20151109_192740_00..\n",
      "39. Processing s03/part1_layout_p06/20151109_192824_00..\n",
      "40. Processing s03/part2_layout_p05/20151109_193224_00..\n",
      "Creating validation set with 10 files\n",
      "41. Processing s01/part1_layout_p02/20151105_191251_00..\n",
      "42. Processing s01/part1_layout_p02/20151105_192144_00..\n",
      "43. Processing s01/part1_layout_p02/20151105_192312_00..\n",
      "44. Processing s01/part1_layout_p02/20151105_192407_00..\n",
      "45. Processing s01/part1_layout_p02/20151105_192610_00..\n",
      "46. Processing s01/part1_layout_p02/20151105_192717_00..\n",
      "47. Processing s01/part1_layout_p02/20151105_193157_00..\n",
      "48. Processing s01/part2_layout_p01/20151105_194301_00..\n",
      "49. Processing s01/part2_layout_p01/20151105_194456_00..\n",
      "50. Processing s01/part2_layout_p01/20151105_194650_00..\n",
      "done!\n"
     ]
    }
   ],
   "source": [
    "#Create training and validation sets\n",
    "xTrain, yTrain, xVal, yVal=createSets(data, 0.8, 50)\n",
    "del data, columns"
   ]
  },
  {
   "cell_type": "code",
   "execution_count": 18,
   "metadata": {},
   "outputs": [
    {
     "data": {
      "image/png": "[encoded data removed]",
      "text/plain": [
       "<Figure size 432x288 with 1 Axes>"
      ]
     },
     "metadata": {},
     "output_type": "display_data"
    },
    {
     "data": {
      "image/png": "[encoded data removed]",
      "text/plain": [
       "<Figure size 432x288 with 1 Axes>"
      ]
     },
     "metadata": {},
     "output_type": "display_data"
    }
   ],
   "source": [
    "plotRatio(yTrain)\n",
    "plotRatio(yVal)"
   ]
  },
  {
   "cell_type": "code",
   "execution_count": 19,
   "metadata": {},
   "outputs": [
    {
     "name": "stdout",
     "output_type": "stream",
     "text": [
      "counting true labels\n",
      "Found 4403 TRUE samples out of 83618 total samples\n",
      "Equalizing samples\n",
      "Samples equalized with 0.5 ratio\n"
     ]
    }
   ],
   "source": [
    "xTrain, yTrain=equalizeSamples(xTrain, yTrain, 0.5)\n",
    "#xVal, yVal=equalizeSamples(xVal, yVal, 0.5)"
   ]
  },
  {
   "cell_type": "code",
   "execution_count": 20,
   "metadata": {},
   "outputs": [
    {
     "data": {
      "image/png": "[encoded data removed]",
      "text/plain": [
       "<Figure size 432x288 with 1 Axes>"
      ]
     },
     "metadata": {},
     "output_type": "display_data"
    },
    {
     "data": {
      "image/png": "[encoded data removed]",
      "text/plain": [
       "<Figure size 432x288 with 1 Axes>"
      ]
     },
     "metadata": {},
     "output_type": "display_data"
    }
   ],
   "source": [
    "plotRatio(yTrain)\n",
    "plotRatio(yVal)"
   ]
  },
  {
   "cell_type": "code",
   "execution_count": 21,
   "metadata": {},
   "outputs": [
    {
     "name": "stdout",
     "output_type": "stream",
     "text": [
      "WARNING:tensorflow:From /usr/local/lib/python3.6/dist-packages/tensorflow/python/ops/init_ops.py:1251: calling VarianceScaling.__init__ (from tensorflow.python.ops.init_ops) with dtype is deprecated and will be removed in a future version.\n",
      "Instructions for updating:\n",
      "Call initializer instance with the dtype argument instead of passing it to the constructor\n"
     ]
    }
   ],
   "source": [
    "model=createLSTM(100, 1)"
   ]
  },
  {
   "cell_type": "code",
   "execution_count": 22,
   "metadata": {},
   "outputs": [
    {
     "name": "stdout",
     "output_type": "stream",
     "text": [
      "Train on 142587 samples, validate on 15843 samples\n",
      "WARNING:tensorflow:From /usr/local/lib/python3.6/dist-packages/tensorflow/python/ops/math_grad.py:1250: add_dispatch_support.<locals>.wrapper (from tensorflow.python.ops.array_ops) is deprecated and will be removed in a future version.\n",
      "Instructions for updating:\n",
      "Use tf.where in 2.0, which has the same broadcast rule as np.where\n",
      "Epoch 1/5\n",
      "142587/142587 [==============================] - 22s 154us/sample - loss: 7.7050 - val_loss: 7.7801\n",
      "Epoch 2/5\n",
      "142587/142587 [==============================] - 22s 151us/sample - loss: 7.7050 - val_loss: 7.7801\n",
      "Epoch 3/5\n",
      "142587/142587 [==============================] - 22s 151us/sample - loss: 7.7050 - val_loss: 7.7801\n",
      "Epoch 4/5\n",
      "142587/142587 [==============================] - 22s 151us/sample - loss: 7.7050 - val_loss: 7.7801\n",
      "Epoch 5/5\n",
      "142587/142587 [==============================] - 22s 151us/sample - loss: 7.7050 - val_loss: 7.7801\n"
     ]
    }
   ],
   "source": [
    "history=trainLSTM(model, 5, 64)"
   ]
  },
  {
   "cell_type": "code",
   "execution_count": 23,
   "metadata": {},
   "outputs": [
    {
     "data": {
      "image/png": "[encoded data removed]",
      "text/plain": [
       "<Figure size 432x288 with 1 Axes>"
      ]
     },
     "metadata": {
      "needs_background": "light"
     },
     "output_type": "display_data"
    }
   ],
   "source": [
    "plot_train_history(history, 'Single Step Training and validation loss')"
   ]
  },
  {
   "cell_type": "code",
   "execution_count": 24,
   "metadata": {},
   "outputs": [
    {
     "name": "stdout",
     "output_type": "stream",
     "text": [
      "1418\n"
     ]
    }
   ],
   "source": [
    "count=0\n",
    "for i in range (len(yVal)):\n",
    "    if (yVal[i]==1):\n",
    "        count+=1\n",
    "        \n",
    "print(count)"
   ]
  },
  {
   "cell_type": "code",
   "execution_count": 25,
   "metadata": {},
   "outputs": [
    {
     "ename": "ValueError",
     "evalue": "Error when checking model input: the list of Numpy arrays that you are passing to your model is not the size the model expected. Expected to see 1 array(s), but instead got the following list of 30744 arrays: [array([[ 0.00324407, -0.1549691 ,  2.12398   , ...,  0.08499116,\n        -0.02624537,  1.91189   ],\n       [ 0.00336724, -0.1549121 ,  2.124035  , ...,  0.08491641,\n        -0.02446463,  1.914459  ],...",
     "output_type": "error",
     "traceback": [
      "\u001b[0;31m---------------------------------------------------------------------------\u001b[0m",
      "\u001b[0;31mValueError\u001b[0m                                Traceback (most recent call last)",
      "\u001b[0;32m<ipython-input-25-ff015b6fafbf>\u001b[0m in \u001b[0;36m<module>\u001b[0;34m\u001b[0m\n\u001b[0;32m----> 1\u001b[0;31m \u001b[0mconfusionMatrix\u001b[0m\u001b[0;34m(\u001b[0m\u001b[0mmodel\u001b[0m\u001b[0;34m,\u001b[0m \u001b[0mxVal\u001b[0m\u001b[0;34m,\u001b[0m \u001b[0myVal\u001b[0m\u001b[0;34m)\u001b[0m\u001b[0;34m\u001b[0m\u001b[0;34m\u001b[0m\u001b[0m\n\u001b[0m",
      "\u001b[0;32m<ipython-input-15-891c88bc833d>\u001b[0m in \u001b[0;36mconfusionMatrix\u001b[0;34m(model, X, Y)\u001b[0m\n\u001b[1;32m      2\u001b[0m \u001b[0;34m\u001b[0m\u001b[0m\n\u001b[1;32m      3\u001b[0m \u001b[0;32mdef\u001b[0m \u001b[0mconfusionMatrix\u001b[0m\u001b[0;34m(\u001b[0m\u001b[0mmodel\u001b[0m\u001b[0;34m,\u001b[0m \u001b[0mX\u001b[0m\u001b[0;34m,\u001b[0m \u001b[0mY\u001b[0m\u001b[0;34m)\u001b[0m\u001b[0;34m:\u001b[0m\u001b[0;34m\u001b[0m\u001b[0;34m\u001b[0m\u001b[0m\n\u001b[0;32m----> 4\u001b[0;31m     \u001b[0my_pred\u001b[0m\u001b[0;34m=\u001b[0m\u001b[0mmodel\u001b[0m\u001b[0;34m.\u001b[0m\u001b[0mpredict_classes\u001b[0m\u001b[0;34m(\u001b[0m\u001b[0mX\u001b[0m\u001b[0;34m)\u001b[0m\u001b[0;34m\u001b[0m\u001b[0;34m\u001b[0m\u001b[0m\n\u001b[0m\u001b[1;32m      5\u001b[0m     \u001b[0mcon_mat\u001b[0m\u001b[0;34m=\u001b[0m\u001b[0mtf\u001b[0m\u001b[0;34m.\u001b[0m\u001b[0mmath\u001b[0m\u001b[0;34m.\u001b[0m\u001b[0mconfusion_matrix\u001b[0m\u001b[0;34m(\u001b[0m\u001b[0mlabels\u001b[0m\u001b[0;34m=\u001b[0m\u001b[0mY\u001b[0m\u001b[0;34m,\u001b[0m \u001b[0mpredictions\u001b[0m\u001b[0;34m=\u001b[0m\u001b[0my_pred\u001b[0m\u001b[0;34m)\u001b[0m\u001b[0;34m.\u001b[0m\u001b[0mnumpy\u001b[0m\u001b[0;34m(\u001b[0m\u001b[0;34m)\u001b[0m\u001b[0;34m\u001b[0m\u001b[0;34m\u001b[0m\u001b[0m\n\u001b[1;32m      6\u001b[0m     \u001b[0;32mreturn\u001b[0m \u001b[0mcon_mat\u001b[0m\u001b[0;34m\u001b[0m\u001b[0;34m\u001b[0m\u001b[0m\n",
      "\u001b[0;32m/usr/local/lib/python3.6/dist-packages/tensorflow/python/keras/engine/sequential.py\u001b[0m in \u001b[0;36mpredict_classes\u001b[0;34m(self, x, batch_size, verbose)\u001b[0m\n\u001b[1;32m    316\u001b[0m         \u001b[0mA\u001b[0m \u001b[0mnumpy\u001b[0m \u001b[0marray\u001b[0m \u001b[0mof\u001b[0m \u001b[0;32mclass\u001b[0m \u001b[0mpredictions\u001b[0m\u001b[0;34m.\u001b[0m\u001b[0;34m\u001b[0m\u001b[0;34m\u001b[0m\u001b[0m\n\u001b[1;32m    317\u001b[0m     \"\"\"\n\u001b[0;32m--> 318\u001b[0;31m     \u001b[0mproba\u001b[0m \u001b[0;34m=\u001b[0m \u001b[0mself\u001b[0m\u001b[0;34m.\u001b[0m\u001b[0mpredict\u001b[0m\u001b[0;34m(\u001b[0m\u001b[0mx\u001b[0m\u001b[0;34m,\u001b[0m \u001b[0mbatch_size\u001b[0m\u001b[0;34m=\u001b[0m\u001b[0mbatch_size\u001b[0m\u001b[0;34m,\u001b[0m \u001b[0mverbose\u001b[0m\u001b[0;34m=\u001b[0m\u001b[0mverbose\u001b[0m\u001b[0;34m)\u001b[0m\u001b[0;34m\u001b[0m\u001b[0;34m\u001b[0m\u001b[0m\n\u001b[0m\u001b[1;32m    319\u001b[0m     \u001b[0;32mif\u001b[0m \u001b[0mproba\u001b[0m\u001b[0;34m.\u001b[0m\u001b[0mshape\u001b[0m\u001b[0;34m[\u001b[0m\u001b[0;34m-\u001b[0m\u001b[0;36m1\u001b[0m\u001b[0;34m]\u001b[0m \u001b[0;34m>\u001b[0m \u001b[0;36m1\u001b[0m\u001b[0;34m:\u001b[0m\u001b[0;34m\u001b[0m\u001b[0;34m\u001b[0m\u001b[0m\n\u001b[1;32m    320\u001b[0m       \u001b[0;32mreturn\u001b[0m \u001b[0mproba\u001b[0m\u001b[0;34m.\u001b[0m\u001b[0margmax\u001b[0m\u001b[0;34m(\u001b[0m\u001b[0maxis\u001b[0m\u001b[0;34m=\u001b[0m\u001b[0;34m-\u001b[0m\u001b[0;36m1\u001b[0m\u001b[0;34m)\u001b[0m\u001b[0;34m\u001b[0m\u001b[0;34m\u001b[0m\u001b[0m\n",
      "\u001b[0;32m/usr/local/lib/python3.6/dist-packages/tensorflow/python/keras/engine/training.py\u001b[0m in \u001b[0;36mpredict\u001b[0;34m(self, x, batch_size, verbose, steps, callbacks, max_queue_size, workers, use_multiprocessing)\u001b[0m\n\u001b[1;32m   1058\u001b[0m     \u001b[0;31m# generate symbolic tensors).\u001b[0m\u001b[0;34m\u001b[0m\u001b[0;34m\u001b[0m\u001b[0;34m\u001b[0m\u001b[0m\n\u001b[1;32m   1059\u001b[0m     x, _, _ = self._standardize_user_data(\n\u001b[0;32m-> 1060\u001b[0;31m         x, check_steps=True, steps_name='steps', steps=steps)\n\u001b[0m\u001b[1;32m   1061\u001b[0m \u001b[0;34m\u001b[0m\u001b[0m\n\u001b[1;32m   1062\u001b[0m     \u001b[0;32mif\u001b[0m \u001b[0mself\u001b[0m\u001b[0;34m.\u001b[0m\u001b[0mrun_eagerly\u001b[0m\u001b[0;34m:\u001b[0m\u001b[0;34m\u001b[0m\u001b[0;34m\u001b[0m\u001b[0m\n",
      "\u001b[0;32m/usr/local/lib/python3.6/dist-packages/tensorflow/python/keras/engine/training.py\u001b[0m in \u001b[0;36m_standardize_user_data\u001b[0;34m(self, x, y, sample_weight, class_weight, batch_size, check_steps, steps_name, steps, validation_split, shuffle, extract_tensors_from_dataset)\u001b[0m\n\u001b[1;32m   2649\u001b[0m           \u001b[0mfeed_input_shapes\u001b[0m\u001b[0;34m,\u001b[0m\u001b[0;34m\u001b[0m\u001b[0;34m\u001b[0m\u001b[0m\n\u001b[1;32m   2650\u001b[0m           \u001b[0mcheck_batch_axis\u001b[0m\u001b[0;34m=\u001b[0m\u001b[0;32mFalse\u001b[0m\u001b[0;34m,\u001b[0m  \u001b[0;31m# Don't enforce the batch size.\u001b[0m\u001b[0;34m\u001b[0m\u001b[0;34m\u001b[0m\u001b[0m\n\u001b[0;32m-> 2651\u001b[0;31m           exception_prefix='input')\n\u001b[0m\u001b[1;32m   2652\u001b[0m \u001b[0;34m\u001b[0m\u001b[0m\n\u001b[1;32m   2653\u001b[0m     \u001b[0;32mif\u001b[0m \u001b[0my\u001b[0m \u001b[0;32mis\u001b[0m \u001b[0;32mnot\u001b[0m \u001b[0;32mNone\u001b[0m\u001b[0;34m:\u001b[0m\u001b[0;34m\u001b[0m\u001b[0;34m\u001b[0m\u001b[0m\n",
      "\u001b[0;32m/usr/local/lib/python3.6/dist-packages/tensorflow/python/keras/engine/training_utils.py\u001b[0m in \u001b[0;36mstandardize_input_data\u001b[0;34m(data, names, shapes, check_batch_axis, exception_prefix)\u001b[0m\n\u001b[1;32m    344\u001b[0m                        \u001b[0;34m'Expected to see '\u001b[0m \u001b[0;34m+\u001b[0m \u001b[0mstr\u001b[0m\u001b[0;34m(\u001b[0m\u001b[0mlen\u001b[0m\u001b[0;34m(\u001b[0m\u001b[0mnames\u001b[0m\u001b[0;34m)\u001b[0m\u001b[0;34m)\u001b[0m \u001b[0;34m+\u001b[0m \u001b[0;34m' array(s), '\u001b[0m\u001b[0;34m\u001b[0m\u001b[0;34m\u001b[0m\u001b[0m\n\u001b[1;32m    345\u001b[0m                        \u001b[0;34m'but instead got the following list of '\u001b[0m \u001b[0;34m+\u001b[0m\u001b[0;34m\u001b[0m\u001b[0;34m\u001b[0m\u001b[0m\n\u001b[0;32m--> 346\u001b[0;31m                        str(len(data)) + ' arrays: ' + str(data)[:200] + '...')\n\u001b[0m\u001b[1;32m    347\u001b[0m     \u001b[0;32melif\u001b[0m \u001b[0mlen\u001b[0m\u001b[0;34m(\u001b[0m\u001b[0mnames\u001b[0m\u001b[0;34m)\u001b[0m \u001b[0;34m>\u001b[0m \u001b[0;36m1\u001b[0m\u001b[0;34m:\u001b[0m\u001b[0;34m\u001b[0m\u001b[0;34m\u001b[0m\u001b[0m\n\u001b[1;32m    348\u001b[0m       raise ValueError('Error when checking model ' + exception_prefix +\n",
      "\u001b[0;31mValueError\u001b[0m: Error when checking model input: the list of Numpy arrays that you are passing to your model is not the size the model expected. Expected to see 1 array(s), but instead got the following list of 30744 arrays: [array([[ 0.00324407, -0.1549691 ,  2.12398   , ...,  0.08499116,\n        -0.02624537,  1.91189   ],\n       [ 0.00336724, -0.1549121 ,  2.124035  , ...,  0.08491641,\n        -0.02446463,  1.914459  ],..."
     ]
    }
   ],
   "source": [
    "confusionMatrix(model, xVal, yVal)"
   ]
  },
  {
   "cell_type": "code",
   "execution_count": null,
   "metadata": {},
   "outputs": [],
   "source": [
    "acc=(25235+580)/len(xVal)"
   ]
  },
  {
   "cell_type": "code",
   "execution_count": null,
   "metadata": {},
   "outputs": [],
   "source": [
    "389/(1029+389)"
   ]
  },
  {
   "cell_type": "code",
   "execution_count": null,
   "metadata": {},
   "outputs": [],
   "source": [
    "(389+24800)/len(yVal)"
   ]
  },
  {
   "cell_type": "code",
   "execution_count": null,
   "metadata": {},
   "outputs": [],
   "source": [
    "len(xVal)*4.6/100"
   ]
  },
  {
   "cell_type": "code",
   "execution_count": null,
   "metadata": {},
   "outputs": [],
   "source": [
    "y_pred=model.predict_classes(xVal[:10000])"
   ]
  },
  {
   "cell_type": "code",
   "execution_count": null,
   "metadata": {},
   "outputs": [],
   "source": [
    "plt.plot(y_pred[:10000])\n"
   ]
  },
  {
   "cell_type": "code",
   "execution_count": null,
   "metadata": {},
   "outputs": [],
   "source": [
    "plt.plot(yVal[:10000])\n"
   ]
  },
  {
   "cell_type": "code",
   "execution_count": null,
   "metadata": {},
   "outputs": [],
   "source": [
    "del y_pred"
   ]
  },
  {
   "cell_type": "code",
   "execution_count": null,
   "metadata": {},
   "outputs": [],
   "source": [
    "trueLabelX=[]\n",
    "trueLabelY=[]\n",
    "for i in range (len(yVal)):\n",
    "    if yVal[i]==1:\n",
    "        trueLabelX.append(xVal[i])\n",
    "        trueLabelY.append(yVal[i])"
   ]
  },
  {
   "cell_type": "code",
   "execution_count": null,
   "metadata": {},
   "outputs": [],
   "source": [
    "\n",
    "for k in range(5):\n",
    "    label1=[]\n",
    "    for i in range (len(xVal[0])):\n",
    "        label1.append(xVal[i][0][k])\n",
    "    plt.figure(k)\n",
    "    plt.plot(label1)"
   ]
  },
  {
   "cell_type": "code",
   "execution_count": null,
   "metadata": {},
   "outputs": [],
   "source": []
  },
  {
   "cell_type": "code",
   "execution_count": null,
   "metadata": {},
   "outputs": [],
   "source": [
    "test=np.array(xVal)"
   ]
  },
  {
   "cell_type": "code",
   "execution_count": null,
   "metadata": {},
   "outputs": [],
   "source": [
    "test.shape"
   ]
  },
  {
   "cell_type": "code",
   "execution_count": null,
   "metadata": {},
   "outputs": [],
   "source": []
  },
  {
   "cell_type": "code",
   "execution_count": null,
   "metadata": {},
   "outputs": [],
   "source": [
    "noise = np.random.normal(0,1,100)"
   ]
  },
  {
   "cell_type": "code",
   "execution_count": null,
   "metadata": {},
   "outputs": [],
   "source": []
  }
 ],
 "metadata": {
  "kernelspec": {
   "display_name": "Python 3",
   "language": "python",
   "name": "python3"
  },
  "language_info": {
   "codemirror_mode": {
    "name": "ipython",
    "version": 3
   },
   "file_extension": ".py",
   "mimetype": "text/x-python",
   "name": "python",
   "nbconvert_exporter": "python",
   "pygments_lexer": "ipython3",
   "version": "3.6.9"
  }
 },
 "nbformat": 4,
 "nbformat_minor": 4
}
