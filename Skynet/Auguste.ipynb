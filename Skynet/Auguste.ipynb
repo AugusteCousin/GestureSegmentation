{
 "cells": [
  {
   "cell_type": "code",
   "execution_count": 2,
   "metadata": {},
   "outputs": [],
   "source": [
    "import tensorflow as tf"
   ]
  },
  {
   "cell_type": "code",
   "execution_count": 3,
   "metadata": {},
   "outputs": [],
   "source": [
    "import numpy as np\n",
    "import matplotlib.pyplot as plt\n",
    "import pandas as pd"
   ]
  },
  {
   "cell_type": "code",
   "execution_count": 4,
   "metadata": {},
   "outputs": [
    {
     "data": {
      "text/plain": [
       "'2.1.0'"
      ]
     },
     "execution_count": 4,
     "metadata": {},
     "output_type": "execute_result"
    }
   ],
   "source": [
    "tf.__version__"
   ]
  },
  {
   "cell_type": "code",
   "execution_count": 5,
   "metadata": {},
   "outputs": [],
   "source": [
    "#'SpineBaseStatus','SpineMidStatus','NeckStatus','HeadStatus','ShoulderLeftStatus','ElbowLeftStatus','WristLeftStatus','HandLeftStatus','ShoulderRightStatus','ElbowRightStatus','WristRightStatus','HandRightStatus','HipLeftStatus','KneeLeftStatus','AnkleLeftStatus','FootLeftStatus','HipRightStatus','KneeRightStatus','AnkleRightStatus','FootRightStatus','SpineShoulderStatus','HandTipLeftStatus','ThumbLeftStatus','HandTipRightStatus','ThumbRightStatus'"
   ]
  },
  {
   "cell_type": "code",
   "execution_count": 6,
   "metadata": {},
   "outputs": [
    {
     "data": {
      "text/plain": [
       "118"
      ]
     },
     "execution_count": 6,
     "metadata": {},
     "output_type": "execute_result"
    }
   ],
   "source": [
    "header = [\"Index\",\"Time\",\"SkeletonId\",\"HandLeftConfidence\",\"HandLeftState\",\"HandRightConfidence\",\"HandRightState\",\"SpineBase\",\"SpineBaseStatus\",\"SpineBaseLocX\",\"SpineBaseLocY\",\"SpineBaseLocZ\",\"SpineBaseOrW\",\"SpineBaseOrX\",\"SpineBaseOrY\",\"SpineBaseOrZ\",\"SpineMid\",\"SpineMidStatus\",\"SpineMidLocX\",\"SpineMidLocY\",\"SpineMidLocZ\",\"SpineMidOrW\",\"SpineMidOrX\",\"SpineMidOrY\",\"SpineMidOrZ\",\"Neck\",\"NeckStatus\",\"NeckLocX\",\"NeckLocY\",\"NeckLocZ\",\"NeckOrW\",\"NeckOrX\",\"NeckOrY\",\"NeckOrZ\",\"Head\",\"HeadStatus\",\"HeadLocX\",\"HeadLocY\",\"HeadLocZ\",\"HeadOrW\",\"HeadOrX\",\"HeadOrY\",\"HeadOrZ\",\"ShoulderLeft\",\"ShoulderLeftStatus\",\"ShoulderLeftLocX\",\"ShoulderLeftLocY\",\"ShoulderLeftLocZ\",\"ShoulderLeftOrW\",\"ShoulderLeftOrX\",\"ShoulderLeftOrY\",\"ShoulderLeftOrZ\",\"ElbowLeft\",\"ElbowLeftStatus\",\"ElbowLeftLocX\",\"ElbowLeftLocY\",\"ElbowLeftLocZ\",\"ElbowLeftOrW\",\"ElbowLeftOrX\",\"ElbowLeftOrY\",\"ElbowLeftOrZ\",\"WristLeft\",\"WristLeftStatus\",\"WristLeftLocX\",\"WristLeftLocY\",\"WristLeftLocZ\",\"WristLeftOrW\",\"WristLeftOrX\",\"WristLeftOrY\",\"WristLeftOrZ\",\"HandLeft\",\"HandLeftStatus\",\"HandLeftLocX\",\"HandLeftLocY\",\"HandLeftLocZ\",\"HandLeftOrW\",\"HandLeftOrX\",\"HandLeftOrY\",\"HandLeftOrZ\",\"ShoulderRight\",\"ShoulderRightStatus\",\"ShoulderRightLocX\",\"ShoulderRightLocY\",\"ShoulderRightLocZ\",\"ShoulderRightOrW\",\"ShoulderRightOrX\",\"ShoulderRightOrY\",\"ShoulderRightOrZ\",\"ElbowRight\",\"ElbowRightStatus\",\"ElbowRightLocX\",\"ElbowRightLocY\",\"ElbowRightLocZ\",\"ElbowRightOrW\",\"ElbowRightOrX\",\"ElbowRightOrY\",\"ElbowRightOrZ\",\"WristRight\",\"WristRightStatus\",\"WristRightLocX\",\"WristRightLocY\",\"WristRightLocZ\",\"WristRightOrW\",\"WristRightOrX\",\"WristRightOrY\",\"WristRightOrZ\",\"HandRight\",\"HandRightStatus\",\"HandRightLocX\",\"HandRightLocY\",\"HandRightLocZ\",\"HandRightOrW\",\"HandRightOrX\",\"HandRightOrY\",\"HandRightOrZ\",\"HipLeft\",\"HipLeftStatus\",\"HipLeftLocX\",\"HipLeftLocY\",\"HipLeftLocZ\",\"HipLeftOrW\",\"HipLeftOrX\",\"HipLeftOrY\",\"HipLeftOrZ\",\"KneeLeft\",\"KneeLeftStatus\",\"KneeLeftLocX\",\"KneeLeftLocY\",\"KneeLeftLocZ\",\"KneeLeftOrW\",\"KneeLeftOrX\",\"KneeLeftOrY\",\"KneeLeftOrZ\",\"AnkleLeft\",\"AnkleLeftStatus\",\"AnkleLeftLocX\",\"AnkleLeftLocY\",\"AnkleLeftLocZ\",\"AnkleLeftOrW\",\"AnkleLeftOrX\",\"AnkleLeftOrY\",\"AnkleLeftOrZ\",\"FootLeft\",\"FootLeftStatus\",\"FootLeftLocX\",\"FootLeftLocY\",\"FootLeftLocZ\",\"FootLeftOrW\",\"FootLeftOrX\",\"FootLeftOrY\",\"FootLeftOrZ\",\"HipRight\",\"HipRightStatus\",\"HipRightLocX\",\"HipRightLocY\",\"HipRightLocZ\",\"HipRightOrW\",\"HipRightOrX\",\"HipRightOrY\",\"HipRightOrZ\",\"KneeRight\",\"KneeRightStatus\",\"KneeRightLocX\",\"KneeRightLocY\",\"KneeRightLocZ\",\"KneeRightOrW\",\"KneeRightOrX\",\"KneeRightOrY\",\"KneeRightOrZ\",\"AnkleRight\",\"AnkleRightStatus\",\"AnkleRightLocX\",\"AnkleRightLocY\",\"AnkleRightLocZ\",\"AnkleRightOrW\",\"AnkleRightOrX\",\"AnkleRightOrY\",\"AnkleRightOrZ\",\"FootRight\",\"FootRightStatus\",\"FootRightLocX\",\"FootRightLocY\",\"FootRightLocZ\",\"FootRightOrW\",\"FootRightOrX\",\"FootRightOrY\",\"FootRightOrZ\",\"SpineShoulder\",\"SpineShoulderStatus\",\"SpineShoulderLocX\",\"SpineShoulderLocY\",\"SpineShoulderLocZ\",\"SpineShoulderOrW\",\"SpineShoulderOrX\",\"SpineShoulderOrY\",\"SpineShoulderOrZ\",\"HandTipLeft\",\"HandTipLeftStatus\",\"HandTipLeftLocX\",\"HandTipLeftLocY\",\"HandTipLeftLocZ\",\"HandTipLeftOrW\",\"HandTipLeftOrX\",\"HandTipLeftOrY\",\"HandTipLeftOrZ\",\"ThumbLeft\",\"ThumbLeftStatus\",\"ThumbLeftLocX\",\"ThumbLeftLocY\",\"ThumbLeftLocZ\",\"ThumbLeftOrW\",\"ThumbLeftOrX\",\"ThumbLeftOrY\",\"ThumbLeftOrZ\",\"HandTipRight\",\"HandTipRightStatus\",\"HandTipRightLocX\",\"HandTipRightLocY\",\"HandTipRightLocZ\",\"HandTipRightOrW\",\"HandTipRightOrX\",\"HandTipRightOrY\",\"HandTipRightOrZ\",\"ThumbRight\",\"ThumbRightStatus\",\"ThumbRightLocX\",\"ThumbRightLocY\",\"ThumbRightLocZ\",\"ThumbRightOrW\",\"ThumbRightOrX\",\"ThumbRightOrY\",\"ThumbRightOrZ\"]\n",
    "\n",
    "cols = dict()\n",
    "for i in range(len(header)) :\n",
    "    cols[i] = header[i]\n",
    "    \n",
    "# confidence\n",
    "for i in range(2,7) :\n",
    "    del cols[i]\n",
    "    \n",
    "# joint name\n",
    "for i in range(7,224,9) :\n",
    "    del cols[i]\n",
    "    \n",
    "# 8 lower joints\n",
    "for i in [116, 125, 134, 143, 152, 161, 170, 179] :\n",
    "    for j in range(8) :\n",
    "        del cols[i+j]\n",
    "        \n",
    "# always null orientations\n",
    "for i in [39, 201, 210, 219, 228] :\n",
    "    for j in range(4) :\n",
    "        del cols[i+j]\n",
    "        \n",
    "len(cols)"
   ]
  },
  {
   "cell_type": "code",
   "execution_count": 7,
   "metadata": {},
   "outputs": [],
   "source": [
    "#header = [\"Index\",\"Time\",\"SkeletonId\",\"HandLeftConfidence\",\"HandLeftState\",\"HandRightConfidence\",\"HandRightState\",\"SpineBase\",\"SpineBaseLocX\",\"SpineBaseLocY\",\"SpineBaseLocZ\",\"SpineBaseOrW\",\"SpineBaseOrX\",\"SpineBaseOrY\",\"SpineBaseOrZ\",\"SpineMid\",\"SpineMidLocX\",\"SpineMidLocY\",\"SpineMidLocZ\",\"SpineMidOrW\",\"SpineMidOrX\",\"SpineMidOrY\",\"SpineMidOrZ\",\"Neck\",\"NeckLocX\",\"NeckLocY\",\"NeckLocZ\",\"NeckOrW\",\"NeckOrX\",\"NeckOrY\",\"NeckOrZ\",\"Head\",\"HeadLocX\",\"HeadLocY\",\"HeadLocZ\",\"HeadOrW\",\"HeadOrX\",\"HeadOrY\",\"HeadOrZ\",\"ShoulderLeft\",\"ShoulderLeftLocX\",\"ShoulderLeftLocY\",\"ShoulderLeftLocZ\",\"ShoulderLeftOrW\",\"ShoulderLeftOrX\",\"ShoulderLeftOrY\",\"ShoulderLeftOrZ\",\"ElbowLeft\",\"ElbowLeftLocX\",\"ElbowLeftLocY\",\"ElbowLeftLocZ\",\"ElbowLeftOrW\",\"ElbowLeftOrX\",\"ElbowLeftOrY\",\"ElbowLeftOrZ\",\"WristLeft\",\"WristLeftLocX\",\"WristLeftLocY\",\"WristLeftLocZ\",\"WristLeftOrW\",\"WristLeftOrX\",\"WristLeftOrY\",\"WristLeftOrZ\",\"HandLeft\",\"HandLeftLocX\",\"HandLeftLocY\",\"HandLeftLocZ\",\"HandLeftOrW\",\"HandLeftOrX\",\"HandLeftOrY\",\"HandLeftOrZ\",\"ShoulderRight\",\"ShoulderRightLocX\",\"ShoulderRightLocY\",\"ShoulderRightLocZ\",\"ShoulderRightOrW\",\"ShoulderRightOrX\",\"ShoulderRightOrY\",\"ShoulderRightOrZ\",\"ElbowRight\",\"ElbowRightLocX\",\"ElbowRightLocY\",\"ElbowRightLocZ\",\"ElbowRightOrW\",\"ElbowRightOrX\",\"ElbowRightOrY\",\"ElbowRightOrZ\",\"WristRight\",\"WristRightLocX\",\"WristRightLocY\",\"WristRightLocZ\",\"WristRightOrW\",\"WristRightOrX\",\"WristRightOrY\",\"WristRightOrZ\",\"HandRight\",\"HandRightLocX\",\"HandRightLocY\",\"HandRightLocZ\",\"HandRightOrW\",\"HandRightOrX\",\"HandRightOrY\",\"HandRightOrZ\",\"HipLeft\",\"HipLeftLocX\",\"HipLeftLocY\",\"HipLeftLocZ\",\"HipLeftOrW\",\"HipLeftOrX\",\"HipLeftOrY\",\"HipLeftOrZ\",\"KneeLeft\",\"KneeLeftLocX\",\"KneeLeftLocY\",\"KneeLeftLocZ\",\"KneeLeftOrW\",\"KneeLeftOrX\",\"KneeLeftOrY\",\"KneeLeftOrZ\",\"AnkleLeft\",\"AnkleLeftLocX\",\"AnkleLeftLocY\",\"AnkleLeftLocZ\",\"AnkleLeftOrW\",\"AnkleLeftOrX\",\"AnkleLeftOrY\",\"AnkleLeftOrZ\",\"FootLeft\",\"FootLeftLocX\",\"FootLeftLocY\",\"FootLeftLocZ\",\"FootLeftOrW\",\"FootLeftOrX\",\"FootLeftOrY\",\"FootLeftOrZ\",\"HipRight\",\"HipRightLocX\",\"HipRightLocY\",\"HipRightLocZ\",\"HipRightOrW\",\"HipRightOrX\",\"HipRightOrY\",\"HipRightOrZ\",\"KneeRight\",\"KneeRightLocX\",\"KneeRightLocY\",\"KneeRightLocZ\",\"KneeRightOrW\",\"KneeRightOrX\",\"KneeRightOrY\",\"KneeRightOrZ\",\"AnkleRight\",\"AnkleRightLocX\",\"AnkleRightLocY\",\"AnkleRightLocZ\",\"AnkleRightOrW\",\"AnkleRightOrX\",\"AnkleRightOrY\",\"AnkleRightOrZ\",\"FootRight\",\"FootRightLocX\",\"FootRightLocY\",\"FootRightLocZ\",\"FootRightOrW\",\"FootRightOrX\",\"FootRightOrY\",\"FootRightOrZ\",\"SpineShoulder\",\"SpineShoulderLocX\",\"SpineShoulderLocY\",\"SpineShoulderLocZ\",\"SpineShoulderOrW\",\"SpineShoulderOrX\",\"SpineShoulderOrY\",\"SpineShoulderOrZ\",\"HandTipLeft\",\"HandTipLeftLocX\",\"HandTipLeftLocY\",\"HandTipLeftLocZ\",\"HandTipLeftOrW\",\"HandTipLeftOrX\",\"HandTipLeftOrY\",\"HandTipLeftOrZ\",\"ThumbLeft\",\"ThumbLeftLocX\",\"ThumbLeftLocY\",\"ThumbLeftLocZ\",\"ThumbLeftOrW\",\"ThumbLeftOrX\",\"ThumbLeftOrY\",\"ThumbLeftOrZ\",\"HandTipRight\",\"HandTipRightLocX\",\"HandTipRightLocY\",\"HandTipRightLocZ\",\"HandTipRightOrW\",\"HandTipRightOrX\",\"HandTipRightOrY\",\"HandTipRightOrZ\",\"ThumbRight\",\"ThumbRightLocX\",\"ThumbRightLocY\",\"ThumbRightLocZ\",\"ThumbRightOrW\",\"ThumbRightOrX\",\"ThumbRightOrY\",\"ThumbRightOrZ\"]\n"
   ]
  },
  {
   "cell_type": "code",
   "execution_count": 8,
   "metadata": {},
   "outputs": [],
   "source": [
    "def load_eggnog_skeleton(filepath):\n",
    "    filepath = \"datasets/eggnog/\" + filepath\n",
    "    dataframe = pd.read_csv(filepath, header=None, skiprows=[0], usecols=list(cols.keys()), names=list(cols.values()))\n",
    "    return dataframe"
   ]
  },
  {
   "cell_type": "code",
   "execution_count": 9,
   "metadata": {},
   "outputs": [],
   "source": [
    "eggn1 = load_eggnog_skeleton(\"s01/part1_layout_p02/20151105_191251_00_Skeleton.txt\")"
   ]
  },
  {
   "cell_type": "code",
   "execution_count": 10,
   "metadata": {},
   "outputs": [],
   "source": [
    "eggn1=eggn1.drop(['SpineBaseStatus','SpineMidStatus','NeckStatus','HeadStatus','ShoulderLeftStatus','ElbowLeftStatus','WristLeftStatus','HandLeftStatus','ShoulderRightStatus','ElbowRightStatus','WristRightStatus','HandRightStatus','SpineShoulderStatus','HandTipLeftStatus','ThumbLeftStatus','HandTipRightStatus','ThumbRightStatus'], axis=1)"
   ]
  },
  {
   "cell_type": "code",
   "execution_count": 11,
   "metadata": {},
   "outputs": [],
   "source": [
    "dataset = eggn1.values"
   ]
  },
  {
   "cell_type": "code",
   "execution_count": 12,
   "metadata": {},
   "outputs": [
    {
     "data": {
      "text/html": [
       "<div>\n",
       "<style scoped>\n",
       "    .dataframe tbody tr th:only-of-type {\n",
       "        vertical-align: middle;\n",
       "    }\n",
       "\n",
       "    .dataframe tbody tr th {\n",
       "        vertical-align: top;\n",
       "    }\n",
       "\n",
       "    .dataframe thead th {\n",
       "        text-align: right;\n",
       "    }\n",
       "</style>\n",
       "<table border=\"1\" class=\"dataframe\">\n",
       "  <thead>\n",
       "    <tr style=\"text-align: right;\">\n",
       "      <th></th>\n",
       "      <th>Index</th>\n",
       "      <th>Time</th>\n",
       "      <th>SpineBaseLocX</th>\n",
       "      <th>SpineBaseLocY</th>\n",
       "      <th>SpineBaseLocZ</th>\n",
       "      <th>SpineBaseOrW</th>\n",
       "      <th>SpineBaseOrX</th>\n",
       "      <th>SpineBaseOrY</th>\n",
       "      <th>SpineBaseOrZ</th>\n",
       "      <th>SpineMidLocX</th>\n",
       "      <th>...</th>\n",
       "      <th>HandTipLeftLocZ</th>\n",
       "      <th>ThumbLeftLocX</th>\n",
       "      <th>ThumbLeftLocY</th>\n",
       "      <th>ThumbLeftLocZ</th>\n",
       "      <th>HandTipRightLocX</th>\n",
       "      <th>HandTipRightLocY</th>\n",
       "      <th>HandTipRightLocZ</th>\n",
       "      <th>ThumbRightLocX</th>\n",
       "      <th>ThumbRightLocY</th>\n",
       "      <th>ThumbRightLocZ</th>\n",
       "    </tr>\n",
       "  </thead>\n",
       "  <tbody>\n",
       "    <tr>\n",
       "      <th>0</th>\n",
       "      <td>0</td>\n",
       "      <td>268528</td>\n",
       "      <td>0.003244</td>\n",
       "      <td>-0.154969</td>\n",
       "      <td>2.123980</td>\n",
       "      <td>0.130856</td>\n",
       "      <td>-0.026669</td>\n",
       "      <td>0.990814</td>\n",
       "      <td>0.021304</td>\n",
       "      <td>-0.013620</td>\n",
       "      <td>...</td>\n",
       "      <td>1.917817</td>\n",
       "      <td>0.018979</td>\n",
       "      <td>-0.093995</td>\n",
       "      <td>1.927484</td>\n",
       "      <td>0.079149</td>\n",
       "      <td>-0.104327</td>\n",
       "      <td>1.911678</td>\n",
       "      <td>0.084991</td>\n",
       "      <td>-0.026245</td>\n",
       "      <td>1.911890</td>\n",
       "    </tr>\n",
       "    <tr>\n",
       "      <th>1</th>\n",
       "      <td>1</td>\n",
       "      <td>599215</td>\n",
       "      <td>0.003367</td>\n",
       "      <td>-0.154912</td>\n",
       "      <td>2.124035</td>\n",
       "      <td>0.130436</td>\n",
       "      <td>-0.026785</td>\n",
       "      <td>0.990871</td>\n",
       "      <td>0.021072</td>\n",
       "      <td>-0.013537</td>\n",
       "      <td>...</td>\n",
       "      <td>1.927355</td>\n",
       "      <td>0.031237</td>\n",
       "      <td>-0.095832</td>\n",
       "      <td>1.916214</td>\n",
       "      <td>0.074514</td>\n",
       "      <td>-0.102982</td>\n",
       "      <td>1.912341</td>\n",
       "      <td>0.084916</td>\n",
       "      <td>-0.024465</td>\n",
       "      <td>1.914459</td>\n",
       "    </tr>\n",
       "    <tr>\n",
       "      <th>2</th>\n",
       "      <td>2</td>\n",
       "      <td>938357</td>\n",
       "      <td>0.003482</td>\n",
       "      <td>-0.154837</td>\n",
       "      <td>2.124029</td>\n",
       "      <td>0.129546</td>\n",
       "      <td>-0.026756</td>\n",
       "      <td>0.990994</td>\n",
       "      <td>0.020812</td>\n",
       "      <td>-0.013372</td>\n",
       "      <td>...</td>\n",
       "      <td>1.923634</td>\n",
       "      <td>0.030036</td>\n",
       "      <td>-0.100875</td>\n",
       "      <td>1.928158</td>\n",
       "      <td>0.075596</td>\n",
       "      <td>-0.104127</td>\n",
       "      <td>1.913285</td>\n",
       "      <td>0.084837</td>\n",
       "      <td>-0.026459</td>\n",
       "      <td>1.911928</td>\n",
       "    </tr>\n",
       "    <tr>\n",
       "      <th>3</th>\n",
       "      <td>3</td>\n",
       "      <td>1268540</td>\n",
       "      <td>0.004006</td>\n",
       "      <td>-0.154793</td>\n",
       "      <td>2.124232</td>\n",
       "      <td>0.129309</td>\n",
       "      <td>-0.027097</td>\n",
       "      <td>0.991028</td>\n",
       "      <td>0.020190</td>\n",
       "      <td>-0.012989</td>\n",
       "      <td>...</td>\n",
       "      <td>1.923634</td>\n",
       "      <td>0.025475</td>\n",
       "      <td>-0.096799</td>\n",
       "      <td>1.924643</td>\n",
       "      <td>0.077716</td>\n",
       "      <td>-0.105272</td>\n",
       "      <td>1.912861</td>\n",
       "      <td>0.084404</td>\n",
       "      <td>-0.027450</td>\n",
       "      <td>1.911473</td>\n",
       "    </tr>\n",
       "    <tr>\n",
       "      <th>4</th>\n",
       "      <td>4</td>\n",
       "      <td>1599181</td>\n",
       "      <td>0.004727</td>\n",
       "      <td>-0.154687</td>\n",
       "      <td>2.124572</td>\n",
       "      <td>0.129355</td>\n",
       "      <td>-0.027757</td>\n",
       "      <td>0.991018</td>\n",
       "      <td>0.019487</td>\n",
       "      <td>-0.012587</td>\n",
       "      <td>...</td>\n",
       "      <td>1.927221</td>\n",
       "      <td>0.034926</td>\n",
       "      <td>-0.097456</td>\n",
       "      <td>1.915226</td>\n",
       "      <td>0.077618</td>\n",
       "      <td>-0.105052</td>\n",
       "      <td>1.913540</td>\n",
       "      <td>0.084541</td>\n",
       "      <td>-0.026982</td>\n",
       "      <td>1.911907</td>\n",
       "    </tr>\n",
       "    <tr>\n",
       "      <th>...</th>\n",
       "      <td>...</td>\n",
       "      <td>...</td>\n",
       "      <td>...</td>\n",
       "      <td>...</td>\n",
       "      <td>...</td>\n",
       "      <td>...</td>\n",
       "      <td>...</td>\n",
       "      <td>...</td>\n",
       "      <td>...</td>\n",
       "      <td>...</td>\n",
       "      <td>...</td>\n",
       "      <td>...</td>\n",
       "      <td>...</td>\n",
       "      <td>...</td>\n",
       "      <td>...</td>\n",
       "      <td>...</td>\n",
       "      <td>...</td>\n",
       "      <td>...</td>\n",
       "      <td>...</td>\n",
       "      <td>...</td>\n",
       "      <td>...</td>\n",
       "    </tr>\n",
       "    <tr>\n",
       "      <th>11794</th>\n",
       "      <td>11794</td>\n",
       "      <td>4632935734</td>\n",
       "      <td>-0.025846</td>\n",
       "      <td>-0.139437</td>\n",
       "      <td>1.858503</td>\n",
       "      <td>0.044060</td>\n",
       "      <td>-0.035656</td>\n",
       "      <td>0.998370</td>\n",
       "      <td>-0.006756</td>\n",
       "      <td>-0.044548</td>\n",
       "      <td>...</td>\n",
       "      <td>1.661294</td>\n",
       "      <td>-0.054157</td>\n",
       "      <td>-0.049623</td>\n",
       "      <td>1.701136</td>\n",
       "      <td>-0.014369</td>\n",
       "      <td>0.033504</td>\n",
       "      <td>1.622428</td>\n",
       "      <td>0.016313</td>\n",
       "      <td>0.083015</td>\n",
       "      <td>1.625997</td>\n",
       "    </tr>\n",
       "    <tr>\n",
       "      <th>11795</th>\n",
       "      <td>11795</td>\n",
       "      <td>4633265867</td>\n",
       "      <td>-0.025781</td>\n",
       "      <td>-0.139493</td>\n",
       "      <td>1.858589</td>\n",
       "      <td>0.044233</td>\n",
       "      <td>-0.035482</td>\n",
       "      <td>0.998366</td>\n",
       "      <td>-0.007115</td>\n",
       "      <td>-0.044379</td>\n",
       "      <td>...</td>\n",
       "      <td>1.655631</td>\n",
       "      <td>-0.052488</td>\n",
       "      <td>-0.049045</td>\n",
       "      <td>1.703013</td>\n",
       "      <td>-0.008678</td>\n",
       "      <td>0.041261</td>\n",
       "      <td>1.623710</td>\n",
       "      <td>0.020514</td>\n",
       "      <td>0.077196</td>\n",
       "      <td>1.617203</td>\n",
       "    </tr>\n",
       "    <tr>\n",
       "      <th>11796</th>\n",
       "      <td>11796</td>\n",
       "      <td>4633596552</td>\n",
       "      <td>-0.025688</td>\n",
       "      <td>-0.139604</td>\n",
       "      <td>1.858650</td>\n",
       "      <td>0.044365</td>\n",
       "      <td>-0.035099</td>\n",
       "      <td>0.998370</td>\n",
       "      <td>-0.007543</td>\n",
       "      <td>-0.044064</td>\n",
       "      <td>...</td>\n",
       "      <td>1.676998</td>\n",
       "      <td>-0.057201</td>\n",
       "      <td>-0.053737</td>\n",
       "      <td>1.704430</td>\n",
       "      <td>-0.014777</td>\n",
       "      <td>0.042747</td>\n",
       "      <td>1.625858</td>\n",
       "      <td>0.017864</td>\n",
       "      <td>0.078070</td>\n",
       "      <td>1.617484</td>\n",
       "    </tr>\n",
       "    <tr>\n",
       "      <th>11797</th>\n",
       "      <td>11797</td>\n",
       "      <td>4633935706</td>\n",
       "      <td>-0.025646</td>\n",
       "      <td>-0.139743</td>\n",
       "      <td>1.858775</td>\n",
       "      <td>0.044221</td>\n",
       "      <td>-0.034879</td>\n",
       "      <td>0.998382</td>\n",
       "      <td>-0.007868</td>\n",
       "      <td>-0.043898</td>\n",
       "      <td>...</td>\n",
       "      <td>1.677456</td>\n",
       "      <td>-0.059727</td>\n",
       "      <td>-0.053606</td>\n",
       "      <td>1.705910</td>\n",
       "      <td>-0.018063</td>\n",
       "      <td>0.047123</td>\n",
       "      <td>1.628143</td>\n",
       "      <td>0.016692</td>\n",
       "      <td>0.080357</td>\n",
       "      <td>1.620121</td>\n",
       "    </tr>\n",
       "    <tr>\n",
       "      <th>11798</th>\n",
       "      <td>11798</td>\n",
       "      <td>4634265877</td>\n",
       "      <td>-0.025487</td>\n",
       "      <td>-0.140081</td>\n",
       "      <td>1.858894</td>\n",
       "      <td>0.044145</td>\n",
       "      <td>-0.034521</td>\n",
       "      <td>0.998395</td>\n",
       "      <td>-0.008172</td>\n",
       "      <td>-0.043544</td>\n",
       "      <td>...</td>\n",
       "      <td>1.691664</td>\n",
       "      <td>-0.067932</td>\n",
       "      <td>-0.061517</td>\n",
       "      <td>1.706684</td>\n",
       "      <td>-0.017487</td>\n",
       "      <td>0.049334</td>\n",
       "      <td>1.627677</td>\n",
       "      <td>0.016971</td>\n",
       "      <td>0.081341</td>\n",
       "      <td>1.619702</td>\n",
       "    </tr>\n",
       "  </tbody>\n",
       "</table>\n",
       "<p>11799 rows × 101 columns</p>\n",
       "</div>"
      ],
      "text/plain": [
       "       Index        Time  SpineBaseLocX  SpineBaseLocY  SpineBaseLocZ  \\\n",
       "0          0      268528       0.003244      -0.154969       2.123980   \n",
       "1          1      599215       0.003367      -0.154912       2.124035   \n",
       "2          2      938357       0.003482      -0.154837       2.124029   \n",
       "3          3     1268540       0.004006      -0.154793       2.124232   \n",
       "4          4     1599181       0.004727      -0.154687       2.124572   \n",
       "...      ...         ...            ...            ...            ...   \n",
       "11794  11794  4632935734      -0.025846      -0.139437       1.858503   \n",
       "11795  11795  4633265867      -0.025781      -0.139493       1.858589   \n",
       "11796  11796  4633596552      -0.025688      -0.139604       1.858650   \n",
       "11797  11797  4633935706      -0.025646      -0.139743       1.858775   \n",
       "11798  11798  4634265877      -0.025487      -0.140081       1.858894   \n",
       "\n",
       "       SpineBaseOrW  SpineBaseOrX  SpineBaseOrY  SpineBaseOrZ  SpineMidLocX  \\\n",
       "0          0.130856     -0.026669      0.990814      0.021304     -0.013620   \n",
       "1          0.130436     -0.026785      0.990871      0.021072     -0.013537   \n",
       "2          0.129546     -0.026756      0.990994      0.020812     -0.013372   \n",
       "3          0.129309     -0.027097      0.991028      0.020190     -0.012989   \n",
       "4          0.129355     -0.027757      0.991018      0.019487     -0.012587   \n",
       "...             ...           ...           ...           ...           ...   \n",
       "11794      0.044060     -0.035656      0.998370     -0.006756     -0.044548   \n",
       "11795      0.044233     -0.035482      0.998366     -0.007115     -0.044379   \n",
       "11796      0.044365     -0.035099      0.998370     -0.007543     -0.044064   \n",
       "11797      0.044221     -0.034879      0.998382     -0.007868     -0.043898   \n",
       "11798      0.044145     -0.034521      0.998395     -0.008172     -0.043544   \n",
       "\n",
       "       ...  HandTipLeftLocZ  ThumbLeftLocX  ThumbLeftLocY  ThumbLeftLocZ  \\\n",
       "0      ...         1.917817       0.018979      -0.093995       1.927484   \n",
       "1      ...         1.927355       0.031237      -0.095832       1.916214   \n",
       "2      ...         1.923634       0.030036      -0.100875       1.928158   \n",
       "3      ...         1.923634       0.025475      -0.096799       1.924643   \n",
       "4      ...         1.927221       0.034926      -0.097456       1.915226   \n",
       "...    ...              ...            ...            ...            ...   \n",
       "11794  ...         1.661294      -0.054157      -0.049623       1.701136   \n",
       "11795  ...         1.655631      -0.052488      -0.049045       1.703013   \n",
       "11796  ...         1.676998      -0.057201      -0.053737       1.704430   \n",
       "11797  ...         1.677456      -0.059727      -0.053606       1.705910   \n",
       "11798  ...         1.691664      -0.067932      -0.061517       1.706684   \n",
       "\n",
       "       HandTipRightLocX  HandTipRightLocY  HandTipRightLocZ  ThumbRightLocX  \\\n",
       "0              0.079149         -0.104327          1.911678        0.084991   \n",
       "1              0.074514         -0.102982          1.912341        0.084916   \n",
       "2              0.075596         -0.104127          1.913285        0.084837   \n",
       "3              0.077716         -0.105272          1.912861        0.084404   \n",
       "4              0.077618         -0.105052          1.913540        0.084541   \n",
       "...                 ...               ...               ...             ...   \n",
       "11794         -0.014369          0.033504          1.622428        0.016313   \n",
       "11795         -0.008678          0.041261          1.623710        0.020514   \n",
       "11796         -0.014777          0.042747          1.625858        0.017864   \n",
       "11797         -0.018063          0.047123          1.628143        0.016692   \n",
       "11798         -0.017487          0.049334          1.627677        0.016971   \n",
       "\n",
       "       ThumbRightLocY  ThumbRightLocZ  \n",
       "0           -0.026245        1.911890  \n",
       "1           -0.024465        1.914459  \n",
       "2           -0.026459        1.911928  \n",
       "3           -0.027450        1.911473  \n",
       "4           -0.026982        1.911907  \n",
       "...               ...             ...  \n",
       "11794        0.083015        1.625997  \n",
       "11795        0.077196        1.617203  \n",
       "11796        0.078070        1.617484  \n",
       "11797        0.080357        1.620121  \n",
       "11798        0.081341        1.619702  \n",
       "\n",
       "[11799 rows x 101 columns]"
      ]
     },
     "execution_count": 12,
     "metadata": {},
     "output_type": "execute_result"
    }
   ],
   "source": [
    "eggn1"
   ]
  },
  {
   "cell_type": "code",
   "execution_count": 13,
   "metadata": {},
   "outputs": [],
   "source": [
    "def multivariate_data(dataset, target, start_index, end_index, history_size,\n",
    "                      target_size, step, single_step=False):\n",
    "  data = []\n",
    "  labels = []\n",
    "\n",
    "  start_index = start_index + history_size\n",
    "  if end_index is None:\n",
    "    end_index = len(dataset) - target_size\n",
    "\n",
    "  for i in range(start_index, end_index):\n",
    "    indices = range(i-history_size, i, step)\n",
    "    data.append(dataset[indices])\n",
    "\n",
    "    if single_step:\n",
    "      labels.append(target[i+target_size])\n",
    "    else:\n",
    "      labels.append(target[i:i+target_size])\n",
    "\n",
    "  return np.array(data), np.array(labels)"
   ]
  },
  {
   "cell_type": "code",
   "execution_count": 14,
   "metadata": {},
   "outputs": [],
   "source": [
    "TRAIN_SPLIT = 10000\n",
    "BUFFER_SIZE = 10000\n",
    "BATCH_SIZE = 256\n",
    "EPOCHS=10\n",
    "EVALUATION_INTERVAL = 200"
   ]
  },
  {
   "cell_type": "code",
   "execution_count": 15,
   "metadata": {},
   "outputs": [],
   "source": [
    "past_history = 10\n",
    "future_target = 0\n",
    "STEP = 1\n",
    "\n",
    "x_train_single, y_train_single = multivariate_data(dataset, dataset[:, 1], 0,\n",
    "                                                   TRAIN_SPLIT, past_history,\n",
    "                                                   future_target, STEP,\n",
    "                                                   single_step=True)\n",
    "\n",
    "x_val_single, y_val_single = multivariate_data(dataset, dataset[:, 1],\n",
    "                                               TRAIN_SPLIT, None, past_history,\n",
    "                                               future_target, STEP,\n",
    "                                               single_step=True)"
   ]
  },
  {
   "cell_type": "code",
   "execution_count": 16,
   "metadata": {},
   "outputs": [
    {
     "name": "stdout",
     "output_type": "stream",
     "text": [
      "Single window of past history : (10, 101)\n"
     ]
    }
   ],
   "source": [
    "print ('Single window of past history : {}'.format(x_train_single[0].shape))"
   ]
  },
  {
   "cell_type": "code",
   "execution_count": 17,
   "metadata": {},
   "outputs": [],
   "source": [
    "train_data_single = tf.data.Dataset.from_tensor_slices((x_train_single, y_train_single))\n",
    "train_data_single = train_data_single.cache().shuffle(BUFFER_SIZE).batch(BATCH_SIZE).repeat()\n",
    "\n",
    "val_data_single = tf.data.Dataset.from_tensor_slices((x_val_single, y_val_single))\n",
    "val_data_single = val_data_single.batch(BATCH_SIZE).repeat()"
   ]
  },
  {
   "cell_type": "code",
   "execution_count": 21,
   "metadata": {},
   "outputs": [],
   "source": [
    "single_step_model = tf.keras.models.Sequential()\n",
    "single_step_model.add(tf.keras.layers.LSTM(x_train_single.shape[2],\n",
    "                                           input_shape=x_train_single.shape[-2:]))\n",
    "single_step_model.add(tf.keras.layers.Dense(1, activation=tf.nn.softmax))\n",
    "single_step_model.compile(optimizer=tf.keras.optimizers.RMSprop(), loss='mae')"
   ]
  },
  {
   "cell_type": "code",
   "execution_count": 22,
   "metadata": {},
   "outputs": [
    {
     "name": "stdout",
     "output_type": "stream",
     "text": [
      "Train for 200 steps, validate for 50 steps\n",
      "Epoch 1/10\n",
      "200/200 [==============================] - 8s 38ms/step - loss: 1982899601.5979 - val_loss: 4281676170.2400\n",
      "Epoch 2/10\n",
      "200/200 [==============================] - 5s 25ms/step - loss: 1978195748.6914 - val_loss: 4281676170.2400\n",
      "Epoch 3/10\n",
      "200/200 [==============================] - 5s 26ms/step - loss: 1965490711.3052 - val_loss: 4281676170.2400\n",
      "Epoch 4/10\n",
      "200/200 [==============================] - 5s 27ms/step - loss: 1985786910.3420 - val_loss: 4281676170.2400\n",
      "Epoch 5/10\n",
      "200/200 [==============================] - 5s 25ms/step - loss: 1971921479.0841 - val_loss: 4281676170.2400\n",
      "Epoch 6/10\n",
      "200/200 [==============================] - 5s 25ms/step - loss: 1971045331.1300 - val_loss: 4281676170.2400\n",
      "Epoch 7/10\n",
      "200/200 [==============================] - 5s 25ms/step - loss: 1976641270.1387 - val_loss: 4281676170.2400\n",
      "Epoch 8/10\n",
      "200/200 [==============================] - 5s 25ms/step - loss: 1967838216.0744 - val_loss: 4281676170.2400\n",
      "Epoch 9/10\n",
      "200/200 [==============================] - 5s 25ms/step - loss: 1969953235.1320 - val_loss: 4281676170.2400\n",
      "Epoch 10/10\n",
      "200/200 [==============================] - 5s 25ms/step - loss: 1963672022.6657 - val_loss: 4281676170.2400\n"
     ]
    }
   ],
   "source": [
    "single_step_history = single_step_model.fit(train_data_single, epochs=EPOCHS,\n",
    "                                            steps_per_epoch=EVALUATION_INTERVAL,\n",
    "                                            validation_data=val_data_single,\n",
    "                                            validation_steps=50)"
   ]
  },
  {
   "cell_type": "code",
   "execution_count": 160,
   "metadata": {},
   "outputs": [],
   "source": [
    "def plot_train_history(history, title):\n",
    "  loss = history.history['loss']\n",
    "  val_loss = history.history['val_loss']\n",
    "\n",
    "  epochs = range(len(loss))\n",
    "\n",
    "  plt.figure()\n",
    "\n",
    "  plt.plot(epochs, loss, 'b', label='Training loss')\n",
    "  plt.plot(epochs, val_loss, 'r', label='Validation loss')\n",
    "  plt.title(title)\n",
    "  plt.legend()\n",
    "\n",
    "  plt.show()"
   ]
  },
  {
   "cell_type": "code",
   "execution_count": 161,
   "metadata": {},
   "outputs": [
    {
     "data": {
      "image/png": "[encoded data removed]",
      "text/plain": [
       "<Figure size 432x288 with 1 Axes>"
      ]
     },
     "metadata": {
      "needs_background": "light"
     },
     "output_type": "display_data"
    }
   ],
   "source": [
    "plot_train_history(single_step_history,\n",
    "                   'Single Step Training and validation loss')"
   ]
  },
  {
   "cell_type": "code",
   "execution_count": 194,
   "metadata": {},
   "outputs": [
    {
     "data": {
      "text/plain": [
       "array([2.68528000e+05, 5.99215000e+05, 9.38357000e+05, ...,\n",
       "       4.63359655e+09, 4.63393571e+09, 4.63426588e+09])"
      ]
     },
     "execution_count": 194,
     "metadata": {},
     "output_type": "execute_result"
    }
   ],
   "source": [
    "dataset[:, 1]"
   ]
  },
  {
   "cell_type": "code",
   "execution_count": 209,
   "metadata": {},
   "outputs": [
    {
     "data": {
      "text/plain": [
       "(11799, 101)"
      ]
     },
     "execution_count": 209,
     "metadata": {},
     "output_type": "execute_result"
    }
   ],
   "source": [
    "dataset.shape"
   ]
  },
  {
   "cell_type": "code",
   "execution_count": 210,
   "metadata": {},
   "outputs": [
    {
     "data": {
      "text/plain": [
       "(1789, 10, 101)"
      ]
     },
     "execution_count": 210,
     "metadata": {},
     "output_type": "execute_result"
    }
   ],
   "source": [
    "x_val_single.shape"
   ]
  },
  {
   "cell_type": "code",
   "execution_count": 211,
   "metadata": {},
   "outputs": [
    {
     "data": {
      "text/plain": [
       "(9990, 10, 101)"
      ]
     },
     "execution_count": 211,
     "metadata": {},
     "output_type": "execute_result"
    }
   ],
   "source": [
    "x_train_single.shape"
   ]
  },
  {
   "cell_type": "code",
   "execution_count": 203,
   "metadata": {},
   "outputs": [
    {
     "data": {
      "text/plain": [
       "11799"
      ]
     },
     "execution_count": 203,
     "metadata": {},
     "output_type": "execute_result"
    }
   ],
   "source": [
    "len(dataset)"
   ]
  },
  {
   "cell_type": "code",
   "execution_count": 218,
   "metadata": {},
   "outputs": [],
   "source": [
    "from sklearn.model_selection import train_test_split"
   ]
  },
  {
   "cell_type": "code",
   "execution_count": 219,
   "metadata": {},
   "outputs": [
    {
     "ename": "NameError",
     "evalue": "name 'X' is not defined",
     "output_type": "error",
     "traceback": [
      "\u001b[0;31m---------------------------------------------------------------------------\u001b[0m",
      "\u001b[0;31mNameError\u001b[0m                                 Traceback (most recent call last)",
      "\u001b[0;32m<ipython-input-219-07b49d955381>\u001b[0m in \u001b[0;36m<module>\u001b[0;34m\u001b[0m\n\u001b[0;32m----> 1\u001b[0;31m \u001b[0mX_train\u001b[0m\u001b[0;34m,\u001b[0m \u001b[0mX_test\u001b[0m\u001b[0;34m,\u001b[0m \u001b[0mY_train\u001b[0m\u001b[0;34m,\u001b[0m \u001b[0mY_test\u001b[0m \u001b[0;34m=\u001b[0m \u001b[0mtrain_test_split\u001b[0m\u001b[0;34m(\u001b[0m\u001b[0mX\u001b[0m\u001b[0;34m,\u001b[0m\u001b[0mY\u001b[0m\u001b[0;34m,\u001b[0m \u001b[0mtest_size\u001b[0m \u001b[0;34m=\u001b[0m \u001b[0;36m0.10\u001b[0m\u001b[0;34m,\u001b[0m \u001b[0mrandom_state\u001b[0m \u001b[0;34m=\u001b[0m \u001b[0;36m42\u001b[0m\u001b[0;34m)\u001b[0m\u001b[0;34m\u001b[0m\u001b[0;34m\u001b[0m\u001b[0m\n\u001b[0m",
      "\u001b[0;31mNameError\u001b[0m: name 'X' is not defined"
     ]
    }
   ],
   "source": [
    "X_train, X_test, Y_train, Y_test = train_test_split(X,Y, test_size = 0.10, random_state = 42)"
   ]
  },
  {
   "cell_type": "code",
   "execution_count": 221,
   "metadata": {},
   "outputs": [
    {
     "data": {
      "text/plain": [
       "(11799, 101)"
      ]
     },
     "execution_count": 221,
     "metadata": {},
     "output_type": "execute_result"
    }
   ],
   "source": [
    "dataset.shape"
   ]
  },
  {
   "cell_type": "code",
   "execution_count": null,
   "metadata": {},
   "outputs": [],
   "source": []
  },
  {
   "cell_type": "code",
   "execution_count": null,
   "metadata": {},
   "outputs": [],
   "source": []
  },
  {
   "cell_type": "code",
   "execution_count": null,
   "metadata": {},
   "outputs": [],
   "source": []
  },
  {
   "cell_type": "code",
   "execution_count": null,
   "metadata": {},
   "outputs": [],
   "source": []
  }
 ],
 "metadata": {
  "kernelspec": {
   "display_name": "Python 3",
   "language": "python",
   "name": "python3"
  },
  "language_info": {
   "codemirror_mode": {
    "name": "ipython",
    "version": 3
   },
   "file_extension": ".py",
   "mimetype": "text/x-python",
   "name": "python",
   "nbconvert_exporter": "python",
   "pygments_lexer": "ipython3",
   "version": "3.6.9"
  }
 },
 "nbformat": 4,
 "nbformat_minor": 4
}
