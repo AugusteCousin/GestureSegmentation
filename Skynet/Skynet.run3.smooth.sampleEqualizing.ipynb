{
 "cells": [
  {
   "cell_type": "code",
   "execution_count": 219,
   "metadata": {},
   "outputs": [],
   "source": [
    "# Imports\n",
    "\n",
    "import pandas as pd\n",
    "import numpy as np\n",
    "import matplotlib.pyplot as plt\n",
    "import scipy\n",
    "import random\n",
    "from scipy import signal"
   ]
  },
  {
   "cell_type": "code",
   "execution_count": 220,
   "metadata": {},
   "outputs": [],
   "source": [
    "import tensorflow as tf"
   ]
  },
  {
   "cell_type": "code",
   "execution_count": 221,
   "metadata": {},
   "outputs": [],
   "source": [
    "# 1. Keeping only usable and useful features from the raw data\n",
    "\n",
    "# Returns the list of used columns (dropping lower joints, useless features...)\n",
    "def computeUsedColumns() :\n",
    "    # Header computed on one frame row (skipping rows 2-6) with following replace regex:\n",
    "    #\n",
    "    # ([A-z]+)\\s*\\w+\\s+[\\-0-9\\.]+\\s+[\\-0-9\\.]+\\s+[\\-0-9\\.]+\\s+[\\-0-9\\.]+\\s+[\\-0-9\\.]+\\s+[\\-0-9\\.]+\\s+[\\-0-9\\.]+\\s+\n",
    "    # $1\\t$1Status\\t$1LocX\\t$1LocY\\t$1LocZ\\t$1OrW\\t$1OrX\\t$1OrY\\t$1OrZ\\t\n",
    "    \n",
    "    header = [\"Index\", \"Time\", \"SkeletonId\", \"HandLeftConfidence\", \"HandLeftState\", \"HandRightConfidence\", \"HandRightState\", \n",
    "              \"SpineBase\", \"SpineBaseStatus\", \"SpineBaseLocX\", \"SpineBaseLocY\", \"SpineBaseLocZ\", \"SpineBaseOrW\", \n",
    "              \"SpineBaseOrX\", \"SpineBaseOrY\", \"SpineBaseOrZ\", \"SpineMid\", \"SpineMidStatus\", \"SpineMidLocX\", \"SpineMidLocY\", \n",
    "              \"SpineMidLocZ\", \"SpineMidOrW\", \"SpineMidOrX\", \"SpineMidOrY\", \"SpineMidOrZ\", \"Neck\", \"NeckStatus\", \"NeckLocX\", \n",
    "              \"NeckLocY\", \"NeckLocZ\", \"NeckOrW\", \"NeckOrX\", \"NeckOrY\", \"NeckOrZ\", \"Head\", \"HeadStatus\", \"HeadLocX\", \"HeadLocY\",\n",
    "              \"HeadLocZ\", \"HeadOrW\", \"HeadOrX\", \"HeadOrY\", \"HeadOrZ\", \"ShoulderLeft\", \"ShoulderLeftStatus\", \"ShoulderLeftLocX\",\n",
    "              \"ShoulderLeftLocY\", \"ShoulderLeftLocZ\", \"ShoulderLeftOrW\", \"ShoulderLeftOrX\", \"ShoulderLeftOrY\", \n",
    "              \"ShoulderLeftOrZ\", \"ElbowLeft\", \"ElbowLeftStatus\", \"ElbowLeftLocX\", \"ElbowLeftLocY\", \"ElbowLeftLocZ\", \n",
    "              \"ElbowLeftOrW\", \"ElbowLeftOrX\", \"ElbowLeftOrY\", \"ElbowLeftOrZ\", \"WristLeft\", \"WristLeftStatus\", \"WristLeftLocX\",\n",
    "              \"WristLeftLocY\", \"WristLeftLocZ\", \"WristLeftOrW\", \"WristLeftOrX\", \"WristLeftOrY\", \"WristLeftOrZ\", \"HandLeft\", \n",
    "              \"HandLeftStatus\", \"HandLeftLocX\", \"HandLeftLocY\", \"HandLeftLocZ\", \"HandLeftOrW\", \"HandLeftOrX\", \"HandLeftOrY\", \n",
    "              \"HandLeftOrZ\", \"ShoulderRight\", \"ShoulderRightStatus\", \"ShoulderRightLocX\", \"ShoulderRightLocY\",\n",
    "              \"ShoulderRightLocZ\", \"ShoulderRightOrW\", \"ShoulderRightOrX\", \"ShoulderRightOrY\", \"ShoulderRightOrZ\",\n",
    "              \"ElbowRight\", \"ElbowRightStatus\", \"ElbowRightLocX\", \"ElbowRightLocY\", \"ElbowRightLocZ\", \"ElbowRightOrW\",\n",
    "              \"ElbowRightOrX\", \"ElbowRightOrY\", \"ElbowRightOrZ\", \"WristRight\", \"WristRightStatus\", \"WristRightLocX\", \n",
    "              \"WristRightLocY\", \"WristRightLocZ\", \"WristRightOrW\", \"WristRightOrX\", \"WristRightOrY\", \"WristRightOrZ\", \n",
    "              \"HandRight\", \"HandRightStatus\", \"HandRightLocX\", \"HandRightLocY\", \"HandRightLocZ\", \"HandRightOrW\", \n",
    "              \"HandRightOrX\", \"HandRightOrY\", \"HandRightOrZ\", \"HipLeft\", \"HipLeftStatus\", \"HipLeftLocX\", \"HipLeftLocY\", \n",
    "              \"HipLeftLocZ\", \"HipLeftOrW\", \"HipLeftOrX\", \"HipLeftOrY\", \"HipLeftOrZ\", \"KneeLeft\", \"KneeLeftStatus\", \n",
    "              \"KneeLeftLocX\", \"KneeLeftLocY\", \"KneeLeftLocZ\", \"KneeLeftOrW\", \"KneeLeftOrX\", \"KneeLeftOrY\", \"KneeLeftOrZ\",\n",
    "              \"AnkleLeft\", \"AnkleLeftStatus\", \"AnkleLeftLocX\", \"AnkleLeftLocY\", \"AnkleLeftLocZ\", \"AnkleLeftOrW\", \n",
    "              \"AnkleLeftOrX\", \"AnkleLeftOrY\", \"AnkleLeftOrZ\", \"FootLeft\", \"FootLeftStatus\", \"FootLeftLocX\", \"FootLeftLocY\",\n",
    "              \"FootLeftLocZ\", \"FootLeftOrW\", \"FootLeftOrX\", \"FootLeftOrY\", \"FootLeftOrZ\", \"HipRight\", \"HipRightStatus\", \n",
    "              \"HipRightLocX\", \"HipRightLocY\", \"HipRightLocZ\", \"HipRightOrW\", \"HipRightOrX\", \"HipRightOrY\", \"HipRightOrZ\",\n",
    "              \"KneeRight\", \"KneeRightStatus\", \"KneeRightLocX\", \"KneeRightLocY\", \"KneeRightLocZ\", \"KneeRightOrW\", \n",
    "              \"KneeRightOrX\", \"KneeRightOrY\", \"KneeRightOrZ\", \"AnkleRight\", \"AnkleRightStatus\", \"AnkleRightLocX\", \n",
    "              \"AnkleRightLocY\", \"AnkleRightLocZ\", \"AnkleRightOrW\", \"AnkleRightOrX\", \"AnkleRightOrY\", \"AnkleRightOrZ\", \n",
    "              \"FootRight\", \"FootRightStatus\", \"FootRightLocX\", \"FootRightLocY\", \"FootRightLocZ\", \"FootRightOrW\", \n",
    "              \"FootRightOrX\", \"FootRightOrY\", \"FootRightOrZ\", \"SpineShoulder\", \"SpineShoulderStatus\", \"SpineShoulderLocX\", \n",
    "              \"SpineShoulderLocY\", \"SpineShoulderLocZ\", \"SpineShoulderOrW\", \"SpineShoulderOrX\", \"SpineShoulderOrY\",\n",
    "              \"SpineShoulderOrZ\", \"HandTipLeft\", \"HandTipLeftStatus\", \"HandTipLeftLocX\", \"HandTipLeftLocY\", \"HandTipLeftLocZ\", \n",
    "              \"HandTipLeftOrW\", \"HandTipLeftOrX\", \"HandTipLeftOrY\", \"HandTipLeftOrZ\", \"ThumbLeft\", \"ThumbLeftStatus\", \n",
    "              \"ThumbLeftLocX\", \"ThumbLeftLocY\", \"ThumbLeftLocZ\", \"ThumbLeftOrW\", \"ThumbLeftOrX\", \"ThumbLeftOrY\", \n",
    "              \"ThumbLeftOrZ\", \"HandTipRight\", \"HandTipRightStatus\", \"HandTipRightLocX\", \"HandTipRightLocY\", \"HandTipRightLocZ\",\n",
    "              \"HandTipRightOrW\", \"HandTipRightOrX\", \"HandTipRightOrY\", \"HandTipRightOrZ\", \"ThumbRight\", \"ThumbRightStatus\", \n",
    "              \"ThumbRightLocX\", \"ThumbRightLocY\", \"ThumbRightLocZ\", \"ThumbRightOrW\", \"ThumbRightOrX\", \"ThumbRightOrY\", \n",
    "              \"ThumbRightOrZ\"]\n",
    "    \n",
    "    cols = dict()\n",
    "    for i in range(len(header)) :\n",
    "        cols[i] = header[i]\n",
    "\n",
    "    # confidence\n",
    "    for i in range(2,7) :\n",
    "        del cols[i]\n",
    "\n",
    "    # joint name\n",
    "    for i in range(7,224,9) :\n",
    "        del cols[i]\n",
    "\n",
    "    # 8 lower joints\n",
    "    for i in [116, 125, 134, 143, 152, 161, 170, 179] :\n",
    "        for j in range(8) :\n",
    "            del cols[i+j]\n",
    "\n",
    "    # always null orientations\n",
    "    for i in [39, 201, 210, 219, 228] :\n",
    "        for j in range(4) :\n",
    "            del cols[i+j]\n",
    "\n",
    "    # remove tracking status features\n",
    "    for i in [8, 17, 26, 35, 44, 53, 62, 71, 80, 89, 98, 107, 188, 197, 206, 215, 224] :\n",
    "        del cols[i]\n",
    "\n",
    "    return cols"
   ]
  },
  {
   "cell_type": "code",
   "execution_count": null,
   "metadata": {},
   "outputs": [],
   "source": []
  },
  {
   "cell_type": "code",
   "execution_count": 222,
   "metadata": {},
   "outputs": [],
   "source": [
    "# 2. Data loading functions\n",
    "\n",
    "# hyperparameters\n",
    "# moveDetectionDuraction (s x10e-7) : window of time around which the frames are considered as \n",
    "#      a start/end frame\n",
    "#      Interval = [-moveDetectionDuration,moveDetectionDuration]\n",
    "\n",
    "# Loads a skeleton dataframe from 'filepath' CSV, keeping only 'cols' columns\n",
    "def loadEggnogSkeleton(filepath, cols):\n",
    "    filepath = \"datasets/eggnog.original/\" + filepath\n",
    "    dataframe = pd.read_csv(filepath, header=None, skiprows=[0], usecols=list(cols.keys()), names=list(cols.values()))\n",
    "    return dataframe\n",
    "\n",
    "# Loads frames corresponding timestamps from 'filepath' CSV\n",
    "def loadTimestamps(filepath):\n",
    "    filepath = \"datasets/eggnog.original/\" + filepath\n",
    "    dataframe = pd.read_csv(filepath)\n",
    "    return dataframe\n",
    "\n",
    "# Return a function used to test if the frame \"frame\" matches one of the \"eFrames\" label frame within the \n",
    "#      \"moveDetectionDuration\" time interval \n",
    "def createFrameTest(eFrames, timestamps, moveDetectionDuration) :\n",
    "    def getFrameLabels(frame) :\n",
    "        isSF, isEF = False, False\n",
    "        timestampsLen = len(timestamps)\n",
    "        for f in eFrames :\n",
    "            if f < timestampsLen and abs(frame[1] - timestamps[f][1]) < moveDetectionDuration :\n",
    "                isSF = True\n",
    "                break\n",
    "        return isSF\n",
    "    return getFrameLabels  \n"
   ]
  },
  {
   "cell_type": "code",
   "execution_count": 223,
   "metadata": {
    "scrolled": true
   },
   "outputs": [],
   "source": [
    "# 3. Dataset creation & labels parsing\n",
    "\n",
    "# Creates and returns the dataset as an array of [frames as numpy array, labels as list of booleans] loaded from the \n",
    "#    \"Labels.tsv\" by matching each movement end label found with its corresponding frames (within a time interval) \n",
    "#     marking them as \"True\"\n",
    "def createDataset(columns, moveDetectionDuration = 333333) :\n",
    "    labels = pd.read_csv(\"datasets/eggnog/Labels.tsv\", sep='\\t')\n",
    "    eFrames = list()\n",
    "    data = dict()\n",
    "    lastFile = \"\"\n",
    "    n=0\n",
    "    ns, nf = 0, 0\n",
    "    diag = True\n",
    "    for i in range(len(labels)) :\n",
    "        l = labels.loc[i]\n",
    "        n+=1\n",
    "        if lastFile != \"\" and lastFile != l[\"File Name\"] :\n",
    "            lastFile = lastFile.replace(\"\\\\\", \"/\")\n",
    "            eggSkel = loadEggnogSkeleton(lastFile+\"_Skeleton.txt\", columns)\n",
    "            timestampsOk = False\n",
    "            try:\n",
    "                timestamps = loadTimestamps(lastFile+\"_RGB.frames\")\n",
    "                timestampsOk = True\n",
    "            except FileNotFoundError:\n",
    "                try:\n",
    "                    timestamps = loadTimestamps(lastFile+\"_Video.frames\")\n",
    "                    timestampsOk = True\n",
    "                except FileNotFoundError:\n",
    "                    print(lastFile+ \" ignored, no frame file found\")\n",
    "                    nf +=1\n",
    "            if(timestampsOk) :\n",
    "                frames = eggSkel.drop([\"Index\", \"Time\"], 1)\n",
    "                labs = list(map(createFrameTest(eFrames, timestamps.values, moveDetectionDuration), eggSkel.values))\n",
    "                data[lastFile] = [frames, labs]\n",
    "                if diag : \n",
    "                    a = np.array(labs)\n",
    "                    movFramesCount = np.sum(a == True)\n",
    "                    print(lastFile+\" well processed: \"+str(len(eFrames))+\" labs => \"+ str(movFramesCount)+\"/\"+str(len(labs))\n",
    "                          +\" frames marked.\")\n",
    "                else :\n",
    "                    print(lastFile+\" well processed !\")\n",
    "                ns += 1\n",
    "            eFrames = list()\n",
    "        lastFile = l[\"File Name\"]\n",
    "        eFrames.append(l[\"End Frame\"])\n",
    "    print(str(ns) +\" files loaded for \"+str(nf)+\" fails (frames file not found), itered on \"+str(n)+\" total labels\")\n",
    "    return data"
   ]
  },
  {
   "cell_type": "code",
   "execution_count": 224,
   "metadata": {},
   "outputs": [],
   "source": [
    "# 4. Smoothing datas with savgol filter\n",
    "\n",
    "def smoothDataset(data, windowLength = 13, order = 1) :\n",
    "    for i in data :\n",
    "        print(\"Smoothing \"+str(i)+\"..\")\n",
    "        for s in data[i][0] :\n",
    "            data[i][0][s] = signal.savgol_filter(data[i][0][s], windowLength, order)\n",
    "    print(\"Smoothing finished !\")\n",
    "    return data"
   ]
  },
  {
   "cell_type": "code",
   "execution_count": 225,
   "metadata": {},
   "outputs": [],
   "source": [
    "#5. Create batch for lstm training\n",
    "\n",
    "def multivariate_data(dataset, target, start_index, end_index, history_size,\n",
    "                      target_size, step, single_step=False):\n",
    "  data = []\n",
    "  labels = []\n",
    "\n",
    "  start_index = start_index + history_size\n",
    "  if end_index is None:\n",
    "    end_index = len(dataset) - int(history_size/2) - target_size\n",
    "\n",
    "  for i in range(start_index, end_index):\n",
    "    indices = range(i-int(history_size/2), i+int(history_size/2), step)\n",
    "    data.append(dataset[indices])\n",
    "\n",
    "    if single_step:\n",
    "      labels.append(target[i+target_size])\n",
    "    else:\n",
    "      labels.append(target[i:i+target_size])\n",
    "\n",
    "  return np.array(data), np.array(labels)"
   ]
  },
  {
   "cell_type": "code",
   "execution_count": 226,
   "metadata": {},
   "outputs": [],
   "source": [
    "#6. Create Dataset, return x_train_single, y_train_single, x_val_single, y_val_single\n",
    "\n",
    "def createSets(data, ratio, maxFilesNumber):\n",
    "    #Parameters\n",
    "    past_history = 20\n",
    "    future_target = 0\n",
    "    STEP = 1\n",
    "    TRAIN_SPLIT = None\n",
    "    BUFFER_SIZE = 10000\n",
    "    BATCH_SIZE = 256\n",
    "    \n",
    "    maxIndexFile=maxFilesNumber\n",
    "    #maxIndexFile=len(data)\n",
    "    valStart=int(ratio*maxIndexFile)\n",
    "    \n",
    "    \n",
    "    #Training set\n",
    "    print(\"Creating training set with \"+str(valStart)+\" files\")\n",
    "    x_train_single, y_train_single = [[[]]], [[[]]]\n",
    "    i = 0\n",
    "    keys = list(data.keys())\n",
    "    \n",
    "    for j in range(valStart) :\n",
    "        file = keys[j]\n",
    "        i += 1\n",
    "        if i > valStart : break # reducing dataset size for first tries\n",
    "        print(str(i) + \". Processing \"+file+\"..\")\n",
    "        X = data[file][0].values\n",
    "        Y = data[file][1]\n",
    "        x_train_step, y_train_step = multivariate_data(X, Y, 0,\n",
    "                                                           TRAIN_SPLIT, past_history,\n",
    "                                                           future_target, STEP,\n",
    "                                                           single_step=True)    \n",
    "        x_train_single += x_train_step.tolist()\n",
    "        y_train_single += y_train_step.tolist()\n",
    "    \n",
    "    x_train_single, y_train_single = x_train_single[1:], y_train_single[1:]\n",
    "    \n",
    "    #Validation set\n",
    "    print(\"Creating validation set with \"+str(maxIndexFile-valStart)+\" files\")\n",
    "    x_val_single, y_val_single = [[[]]], [[[]]] \n",
    "    i=valStart\n",
    "    for j in range(maxIndexFile-valStart) :\n",
    "        file = keys[valStart+j]\n",
    "        i += 1\n",
    "        #if i > maxIndexFile : break # reducing dataset size for first tries\n",
    "        print(str(i) + \". Processing \"+file+\"..\")\n",
    "        X = data[file][0].values\n",
    "        Y = data[file][1]\n",
    "        x_val_step, y_val_step = multivariate_data(X, Y,\n",
    "                                                   0, TRAIN_SPLIT, past_history,\n",
    "                                                   future_target, STEP,\n",
    "                                                   single_step=True)    \n",
    "\n",
    "        x_val_single += x_val_step.tolist()\n",
    "        y_val_single += y_val_step.tolist()\n",
    "\n",
    "\n",
    "    x_val_single, y_val_single = x_val_single[1:], y_val_single[1:]\n",
    "    \n",
    "    print(\"done!\")\n",
    "    \n",
    "    #return traing and validation sets\n",
    "    return x_train_single, y_train_single, x_val_single, y_val_single\n",
    "    "
   ]
  },
  {
   "cell_type": "code",
   "execution_count": 227,
   "metadata": {},
   "outputs": [],
   "source": [
    "#7. Equalize number of samples given the targetRation, 0.5 for 50/50\n",
    "\n",
    "def equalizeSamples(X, Y, targetRatio):\n",
    "    \n",
    "    print(\"counting true labels\")\n",
    "    #count true labels\n",
    "    count=0\n",
    "    \n",
    "    lenX=len(X)\n",
    "    for i in range (lenX):\n",
    "        if(Y[i]==1):\n",
    "            count+=1\n",
    "            \n",
    "    falseLabelsTarget=len(X)/2\n",
    "            \n",
    "    print(\"Found \" + str(count) + \" TRUE samples out of \" + str(lenX) + \" total samples\")\n",
    "    \n",
    "    print(\"Equalizing samples\")\n",
    "            \n",
    "    #equalize samples\n",
    "    ratio=count/len(X)\n",
    "    \n",
    "    while (ratio<targetRatio):\n",
    "        randTrainIndex=random.randrange(0, len(X))\n",
    "        \n",
    "        #find random True Sample\n",
    "        while True:\n",
    "            randTrueSampleIndex=random.randrange(0, len(X))\n",
    "            if Y[randTrueSampleIndex]==1:\n",
    "                break;\n",
    "\n",
    "        randomXTrueSample=X[randTrueSampleIndex]\n",
    "        randomYTrueSample=Y[randTrueSampleIndex]\n",
    "\n",
    "        X.insert(randTrainIndex, randomXTrueSample)\n",
    "        Y.insert(randTrainIndex, randomYTrueSample)\n",
    "        count +=1\n",
    "        ratio=count/len(X)\n",
    "        \n",
    "    print(\"Samples equalized with \" +str(ratio)+ \" ratio\")\n",
    "    \n",
    "    return X, Y"
   ]
  },
  {
   "cell_type": "code",
   "execution_count": 228,
   "metadata": {},
   "outputs": [],
   "source": [
    "#8. Plot ratio of True/False Samples\n",
    "\n",
    "def plotRatio(Y):\n",
    "    count=0\n",
    "    lenY=len(Y)\n",
    "    for i in range(lenY):\n",
    "        if (Y[i]==1):\n",
    "            count+=1\n",
    "            \n",
    "    labels = 'continuous', 'gesture'\n",
    "    sizes = [len(Y)-count, count]\n",
    "    explode = (0, 0.1)\n",
    "\n",
    "    fig1, ax1 = plt.subplots()\n",
    "    ax1.pie(sizes, explode=explode, labels=labels, autopct='%1.1f%%', shadow=True, startangle=90)\n",
    "    ax1.axis('equal')\n",
    "\n",
    "    plt.show()"
   ]
  },
  {
   "cell_type": "code",
   "execution_count": 229,
   "metadata": {},
   "outputs": [],
   "source": [
    "#9. Plot training and validation loss for the given model history\n",
    "\n",
    "def plot_train_history(history, title):\n",
    "  loss = history.history['loss']\n",
    "  val_loss = history.history['val_loss']\n",
    "\n",
    "  epochs = range(len(loss))\n",
    "\n",
    "  plt.figure()\n",
    "\n",
    "  plt.plot(epochs, loss, 'b', label='Training loss')\n",
    "  plt.plot(epochs, val_loss, 'r', label='Validation loss')\n",
    "  plt.title(title)\n",
    "  plt.legend()\n",
    "\n",
    "  plt.show()"
   ]
  },
  {
   "cell_type": "code",
   "execution_count": 230,
   "metadata": {},
   "outputs": [],
   "source": [
    "#10. Create TensorFlow Model\n",
    "\n",
    "def createLSTM(nLSTM, output, shape):\n",
    "    single_step_model = tf.keras.models.Sequential()\n",
    "    single_step_model.add(tf.keras.layers.LSTM(nLSTM, input_shape=shape))\n",
    "    single_step_model.add(tf.keras.layers.Dense(output, input_dim=100))\n",
    "    single_step_model.compile(optimizer=tf.keras.optimizers.RMSprop(), loss='mae')\n",
    "    #single_step_model.compile(optimizer='sgd', loss='sparse_categorical_crossentropy')\n",
    "    #single_step_model.add(tf.keras.layers.Dense(1,\n",
    "    #            activation='softmax'))\n",
    "    #single_step_model.compile(optimizer='sgd',\n",
    "    #          loss='categorical_crossentropy')\n",
    "    return single_step_model"
   ]
  },
  {
   "cell_type": "code",
   "execution_count": 231,
   "metadata": {},
   "outputs": [],
   "source": [
    "def createModel(cell_type, n_layers, n_hidden, n_fc1, n_frames, skel_dim):\n",
    "    H=n_hidden\n",
    "    N=n_frames\n",
    "    D=skel_dim\n",
    "    model=tf.keras.models.Sequential()\n",
    "    for i in range(n_layers-1):\n",
    "        if (cell_type==\"LSTM\"):\n",
    "            model.add(tf.keras.layers.LSTM(H, return_sequences=True, input_shape=(N, D)))\n",
    "        elif (cell_type==\"GRU\"):\n",
    "            model.add(tf.keras.layers.GRU(H, return_sequences=True, input_shape=(N,D)))\n",
    "        else :\n",
    "            print(\"expecting LSTM or GRU\")\n",
    "            return\n",
    "    if (cell_type==\"LSTM\"):\n",
    "        model.add(tf.keras.layers.LSTM(H, input_shape=(N, D)))\n",
    "    elif (cell_type==\"GRU\"):\n",
    "        model.add(tf.keras.layers.GRU(H, input_shape=(N,D)))\n",
    "    else :\n",
    "        print(\"expecting LSTM or GRU\")\n",
    "        return\n",
    "    model.add(tf.keras.layers.Dense(n_fc1))\n",
    "    model.add(tf.keras.layers.Dense(2, input_dim=n_fc1))\n",
    "    model.add(tf.keras.layers.Softmax())\n",
    "    model.compile(optimizer='adam', loss='categorical_crossentropy')\n",
    "    return model"
   ]
  },
  {
   "cell_type": "code",
   "execution_count": 232,
   "metadata": {},
   "outputs": [],
   "source": [
    "#11. Fit Model\n",
    "\n",
    "def trainLSTM(model, epochs, batchSize, X, Y, xVal, yVal): \n",
    "    x_train_single = np.array(X)\n",
    "    y_train_single = np.array(Y)\n",
    "    x_val_single = np.array(xVal)\n",
    "    y_val_single = np.array(yVal)\n",
    "    history = model.fit(x_train_single, y_train_single, epochs=epochs, validation_data=(x_val_single, y_val_single))\n",
    "    return history"
   ]
  },
  {
   "cell_type": "code",
   "execution_count": 233,
   "metadata": {},
   "outputs": [],
   "source": [
    "#11. Confusion Matrix\n",
    "\n",
    "def confusionMatrix(model, X, Y):\n",
    "    y_pred=model.predict_classes(X)\n",
    "    con_mat=tf.math.confusion_matrix(labels=Y, predictions=y_pred).numpy()\n",
    "    return con_mat"
   ]
  },
  {
   "cell_type": "code",
   "execution_count": 151,
   "metadata": {},
   "outputs": [],
   "source": [
    "#13. Remove False Samples\n",
    "\n",
    "def removeSamples(X, Y, number):\n",
    "    \n",
    "    for i in range(number):\n",
    "        \n",
    "        while True:\n",
    "            randSampleIndex=random.randrange(0, len(X))\n",
    "            if Y[randSampleIndex]==0:\n",
    "                break;\n",
    "        X.pop(randSampleIndex)\n",
    "        Y.pop(randSampleIndex)\n",
    "    #liste=[]\n",
    "    #count=0\n",
    "    #for i in range(len(Y)):\n",
    "    #    if Y[i]==False:\n",
    "    #        count+=1\n",
    "    #        temp=random.choice([True, False])\n",
    "    #        if temp:\n",
    "    #            liste.append(i)\n",
    "    #print(len(liste))\n",
    "    #print(count)\n",
    "    #for i in reversed(liste):\n",
    "    #    X.pop(i)\n",
    "    #    Y.pop(i)\n",
    "    return X, Y"
   ]
  },
  {
   "cell_type": "code",
   "execution_count": 152,
   "metadata": {},
   "outputs": [
    {
     "name": "stdout",
     "output_type": "stream",
     "text": [
      "s01/part1_layout_p02/20151105_191251_00 well processed: 239 labs => 415/11799 frames marked.\n",
      "s01/part1_layout_p02/20151105_192144_00 well processed: 16 labs => 30/511 frames marked.\n",
      "s01/part1_layout_p02/20151105_192312_00 well processed: 21 labs => 38/618 frames marked.\n",
      "s01/part1_layout_p02/20151105_192407_00 well processed: 23 labs => 40/816 frames marked.\n",
      "s01/part1_layout_p02/20151105_192610_00 well processed: 34 labs => 60/1048 frames marked.\n",
      "s01/part1_layout_p02/20151105_192717_00 well processed: 41 labs => 66/1307 frames marked.\n",
      "s01/part1_layout_p02/20151105_193157_00 well processed: 233 labs => 379/7548 frames marked.\n",
      "s01/part2_layout_p01/20151105_194301_00 well processed: 53 labs => 90/1825 frames marked.\n",
      "s01/part2_layout_p01/20151105_194456_00 well processed: 60 labs => 103/1703 frames marked.\n",
      "s01/part2_layout_p01/20151105_194650_00 well processed: 119 labs => 203/3719 frames marked.\n",
      "s01/part2_layout_p01/20151105_194955_00 well processed: 26 labs => 47/883 frames marked.\n",
      "s01/part2_layout_p01/20151105_195111_00 well processed: 159 labs => 279/4671 frames marked.\n",
      "s01/part2_layout_p01/20151105_195450_00 well processed: 92 labs => 167/2237 frames marked.\n",
      "s02/part1_layout_p04/20151106_214357_00 well processed: 21 labs => 30/632 frames marked.\n",
      "s02/part1_layout_p04/20151106_214521_00 well processed: 24 labs => 25/727 frames marked.\n",
      "s02/part1_layout_p04/20151106_214647_00 well processed: 88 labs => 116/2544 frames marked.\n",
      "s02/part1_layout_p04/20151106_215028_00 well processed: 11 labs => 13/291 frames marked.\n",
      "s02/part1_layout_p04/20151106_215120_00 well processed: 57 labs => 64/1337 frames marked.\n",
      "s02/part1_layout_p04/20151106_215320_00 well processed: 73 labs => 112/1740 frames marked.\n",
      "s02/part1_layout_p04/20151106_215547_00 well processed: 53 labs => 68/1528 frames marked.\n",
      "s02/part1_layout_p04/20151106_215829_00 well processed: 176 labs => 219/4635 frames marked.\n",
      "s02/part2_layout_p03/20151106_220752_00 well processed: 30 labs => 53/941 frames marked.\n",
      "s02/part2_layout_p03/20151106_220857_00 well processed: 20 labs => 34/739 frames marked.\n",
      "s02/part2_layout_p03/20151106_221002_00 well processed: 9 labs => 15/282 frames marked.\n",
      "s02/part2_layout_p03/20151106_221038_00 well processed: 63 labs => 114/1863 frames marked.\n",
      "s02/part2_layout_p03/20151106_221259_00 well processed: 46 labs => 81/1169 frames marked.\n",
      "s02/part2_layout_p03/20151106_221434_00 well processed: 136 labs => 246/4525 frames marked.\n",
      "s02/part2_layout_p03/20151106_221752_00 well processed: 121 labs => 215/4330 frames marked.\n",
      "s02/part2_layout_p03/20151106_222114_00 well processed: 93 labs => 165/3204 frames marked.\n",
      "s02/part2_layout_p03/20151106_222352_00 well processed: 54 labs => 102/1812 frames marked.\n",
      "s03/part1_layout_p06/20151109_191547_00 well processed: 51 labs => 78/1509 frames marked.\n",
      "s03/part1_layout_p06/20151109_191726_00 well processed: 30 labs => 47/679 frames marked.\n",
      "s03/part1_layout_p06/20151109_191826_00 well processed: 38 labs => 55/872 frames marked.\n",
      "s03/part1_layout_p06/20151109_191947_00 well processed: 142 labs => 231/3258 frames marked.\n",
      "s03/part1_layout_p06/20151109_192232_00 well processed: 35 labs => 64/607 frames marked.\n",
      "s03/part1_layout_p06/20151109_192321_00 well processed: 25 labs => 45/527 frames marked.\n",
      "s03/part1_layout_p06/20151109_192442_00 well processed: 119 labs => 197/3524 frames marked.\n",
      "s03/part1_layout_p06/20151109_192740_00 well processed: 15 labs => 25/451 frames marked.\n",
      "s03/part1_layout_p06/20151109_192824_00 well processed: 16 labs => 24/450 frames marked.\n",
      "s03/part2_layout_p05/20151109_193224_00 well processed: 46 labs => 72/1357 frames marked.\n",
      "s03/part2_layout_p05/20151109_193356_00 well processed: 56 labs => 85/2192 frames marked.\n",
      "s03/part2_layout_p05/20151109_193627_00 well processed: 106 labs => 172/3083 frames marked.\n",
      "s03/part2_layout_p05/20151109_193937_00 well processed: 63 labs => 108/1550 frames marked.\n",
      "s03/part2_layout_p05/20151109_194134_00 well processed: 114 labs => 185/3001 frames marked.\n",
      "s03/part2_layout_p05/20151109_194414_00 well processed: 54 labs => 86/1711 frames marked.\n",
      "s03/part2_layout_p05/20151109_194614_00 well processed: 65 labs => 107/1561 frames marked.\n",
      "s03/part2_layout_p05/20151109_194757_00 well processed: 79 labs => 127/1943 frames marked.\n",
      "s03/part2_layout_p05/20151109_195011_00 well processed: 83 labs => 143/1882 frames marked.\n",
      "s03/part2_layout_p05/20151109_195206_00 well processed: 23 labs => 37/402 frames marked.\n",
      "s04/part1_layout_p08/20151113_223703_00 well processed: 80 labs => 141/1843 frames marked.\n",
      "s04/part1_layout_p08/20151113_223852_00 well processed: 41 labs => 72/806 frames marked.\n",
      "s04/part1_layout_p08/20151113_224003_00 well processed: 75 labs => 132/1849 frames marked.\n",
      "s04/part1_layout_p08/20151113_224154_00 well processed: 53 labs => 97/1297 frames marked.\n",
      "s04/part1_layout_p08/20151113_224315_00 well processed: 208 labs => 377/5005 frames marked.\n",
      "s04/part1_layout_p08/20151113_224707_00 well processed: 62 labs => 109/1739 frames marked.\n",
      "s04/part1_layout_p08/20151113_224853_00 well processed: 53 labs => 97/1260 frames marked.\n",
      "s04/part1_layout_p08/20151113_225008_00 well processed: 78 labs => 146/2427 frames marked.\n",
      "s04/part1_layout_p08/20151113_225206_00 well processed: 94 labs => 164/1569 frames marked.\n",
      "s04/part1_layout_p08/20151113_225331_00 well processed: 105 labs => 199/2259 frames marked.\n",
      "s04/part2_layout_p07/20151113_225809_00 well processed: 74 labs => 127/1880 frames marked.\n",
      "s04/part2_layout_p07/20151113_225947_00 well processed: 37 labs => 61/871 frames marked.\n",
      "s04/part2_layout_p07/20151113_230041_00 well processed: 39 labs => 64/959 frames marked.\n",
      "s04/part2_layout_p07/20151113_230200_00 well processed: 34 labs => 56/874 frames marked.\n",
      "s04/part2_layout_p07/20151113_230303_00 well processed: 197 labs => 336/4597 frames marked.\n",
      "s04/part2_layout_p07/20151113_230636_00 well processed: 35 labs => 59/992 frames marked.\n",
      "s04/part2_layout_p07/20151113_230739_00 well processed: 71 labs => 124/1651 frames marked.\n",
      "s04/part2_layout_p07/20151113_230916_00 well processed: 59 labs => 95/1481 frames marked.\n",
      "s04/part2_layout_p07/20151113_231040_00 well processed: 36 labs => 55/888 frames marked.\n",
      "s04/part2_layout_p07/20151113_231148_00 well processed: 112 labs => 181/2712 frames marked.\n",
      "s05/part1_layout_p10/20151114_013643_00 well processed: 126 labs => 232/3372 frames marked.\n",
      "s05/part1_layout_p10/20151114_013925_00 ignored, no frame file found\n",
      "s05/part1_layout_p10/20151114_014052_00 ignored, no frame file found\n",
      "s05/part1_layout_p10/20151114_014301_00 ignored, no frame file found\n",
      "s05/part1_layout_p10/20151114_014439_00 ignored, no frame file found\n",
      "s05/part1_layout_p10/20151114_014811_00 ignored, no frame file found\n",
      "s05/part1_layout_p10/20151114_014908_00 ignored, no frame file found\n",
      "s05/part1_layout_p10/20151114_015112_00 ignored, no frame file found\n",
      "s05/part2_layout_p09/20151114_020248_00 ignored, no frame file found\n",
      "s05/part2_layout_p09/20151114_021330_00 ignored, no frame file found\n",
      "s05/part2_layout_p09/20151114_021514_00 ignored, no frame file found\n",
      "s05/part2_layout_p09/20151114_021614_00 ignored, no frame file found\n",
      "s05/part2_layout_p09/20151114_021757_00 ignored, no frame file found\n",
      "s05/part2_layout_p09/20151114_022008_00 ignored, no frame file found\n",
      "s06/part1_layout_p12/20151116_210615_00 ignored, no frame file found\n",
      "s06/part1_layout_p12/20151116_211101_00 ignored, no frame file found\n",
      "s06/part1_layout_p12/20151116_211141_00 ignored, no frame file found\n",
      "s06/part1_layout_p12/20151116_211449_00 ignored, no frame file found\n",
      "s06/part1_layout_p12/20151116_211545_00 ignored, no frame file found\n",
      "s06/part1_layout_p12/20151116_211627_00 ignored, no frame file found\n",
      "s06/part1_layout_p12/20151116_211720_00 ignored, no frame file found\n",
      "s06/part1_layout_p12/20151116_211802_00 ignored, no frame file found\n",
      "s06/part1_layout_p12/20151116_211928_00 ignored, no frame file found\n",
      "s06/part1_layout_p12/20151116_212006_00 ignored, no frame file found\n",
      "s06/part2_layout_p11/20151116_212250_00 ignored, no frame file found\n",
      "s06/part2_layout_p11/20151116_212431_00 ignored, no frame file found\n",
      "s06/part2_layout_p11/20151116_212521_00 ignored, no frame file found\n",
      "s06/part2_layout_p11/20151116_212658_00 ignored, no frame file found\n",
      "s06/part2_layout_p11/20151116_212743_00 ignored, no frame file found\n",
      "s06/part2_layout_p11/20151116_212818_00 ignored, no frame file found\n",
      "s06/part2_layout_p11/20151116_213059_00 ignored, no frame file found\n",
      "s06/part2_layout_p11/20151116_213636_00 ignored, no frame file found\n"
     ]
    },
    {
     "name": "stdout",
     "output_type": "stream",
     "text": [
      "s06/part2_layout_p11/20151116_213710_00 ignored, no frame file found\n",
      "s06/part2_layout_p11/20151116_213755_00 ignored, no frame file found\n",
      "s07/part1_layout_p14/20151116_230144_00 well processed: 92 labs => 153/2328 frames marked.\n",
      "s07/part1_layout_p14/20151116_230338_00 ignored, no frame file found\n",
      "s07/part1_layout_p14/20151116_230426_00 ignored, no frame file found\n",
      "s07/part1_layout_p14/20151116_230529_00 ignored, no frame file found\n",
      "s07/part1_layout_p14/20151116_231230_00 ignored, no frame file found\n",
      "s07/part1_layout_p14/20151116_231739_00 ignored, no frame file found\n",
      "s07/part1_layout_p14/20151116_231953_00 ignored, no frame file found\n",
      "s07/part1_layout_p14/20151116_232314_00 ignored, no frame file found\n",
      "s07/part1_layout_p14/20151116_232753_00 ignored, no frame file found\n",
      "s07/part2_layout_p13/20151116_233212_00 ignored, no frame file found\n",
      "s07/part2_layout_p13/20151116_233349_00 ignored, no frame file found\n",
      "s07/part2_layout_p13/20151116_233509_00 ignored, no frame file found\n",
      "s07/part2_layout_p13/20151116_234254_00 ignored, no frame file found\n",
      "s07/part2_layout_p13/20151116_234606_00 ignored, no frame file found\n",
      "s07/part2_layout_p13/20151116_234636_00 ignored, no frame file found\n",
      "s07/part2_layout_p13/20151116_234806_00 ignored, no frame file found\n",
      "s07/part2_layout_p13/20151116_234907_00 ignored, no frame file found\n",
      "s07/part2_layout_p13/20151116_235059_00 ignored, no frame file found\n",
      "s16/part1_layouts_p32/20160126_231057_00 ignored, no frame file found\n",
      "s16/part1_layouts_p32/20160126_231205_00 ignored, no frame file found\n",
      "s16/part1_layouts_p32/20160126_231530_00 well processed: 136 labs => 246/4523 frames marked.\n",
      "s16/part1_layouts_p32/20160126_231836_00 ignored, no frame file found\n",
      "s16/part1_layouts_p32/20160126_231926_00 ignored, no frame file found\n",
      "s16/part1_layouts_p32/20160126_232020_00 ignored, no frame file found\n",
      "s16/part1_layouts_p32/20160126_232127_00 ignored, no frame file found\n",
      "s16/part1_layouts_p32/20160126_232154_00 ignored, no frame file found\n",
      "s16/part1_layouts_p32/20160126_232249_00 ignored, no frame file found\n",
      "s16/part1_layouts_p32/20160126_232436_00 ignored, no frame file found\n",
      "s16/part2_layouts_p31/20160126_232929_00 ignored, no frame file found\n",
      "s16/part2_layouts_p31/20160126_233520_00 well processed: 92 labs => 164/2683 frames marked.\n",
      "s16/part2_layouts_p31/20160126_233951_00 ignored, no frame file found\n",
      "s16/part2_layouts_p31/20160126_234022_00 ignored, no frame file found\n",
      "s16/part2_layouts_p31/20160126_234101_00 well processed: 53 labs => 97/1514 frames marked.\n",
      "s16/part2_layouts_p31/20160126_234235_00 ignored, no frame file found\n",
      "s16/part2_layouts_p31/20160126_234345_00 well processed: 110 labs => 203/3328 frames marked.\n",
      "s16/part2_layouts_p31/20160126_234849_00 ignored, no frame file found\n",
      "s16/part2_layouts_p31/20160126_235035_00 ignored, no frame file found\n",
      "s18/part1_layouts_p36/20160129_191005_00 ignored, no frame file found\n",
      "s18/part1_layouts_p36/20160129_191621_00 ignored, no frame file found\n",
      "s18/part1_layouts_p36/20160129_191807_00 ignored, no frame file found\n",
      "s18/part1_layouts_p36/20160129_191913_00 ignored, no frame file found\n",
      "s18/part1_layouts_p36/20160129_192110_00 ignored, no frame file found\n",
      "s18/part1_layouts_p36/20160129_192353_00 ignored, no frame file found\n",
      "s18/part1_layouts_p36/20160129_192459_00 ignored, no frame file found\n",
      "s18/part1_layouts_p36/20160129_192551_00 ignored, no frame file found\n",
      "s18/part1_layouts_p36/20160129_192616_00 ignored, no frame file found\n",
      "s18/part1_layouts_p36/20160129_192705_00 ignored, no frame file found\n",
      "s18/part2_layouts_p35/20160129_193148_00 ignored, no frame file found\n",
      "s18/part2_layouts_p35/20160129_193341_00 ignored, no frame file found\n",
      "s18/part2_layouts_p35/20160129_193701_00 ignored, no frame file found\n",
      "s18/part2_layouts_p35/20160129_193930_00 ignored, no frame file found\n",
      "s18/part2_layouts_p35/20160129_194239_00 ignored, no frame file found\n",
      "s18/part2_layouts_p35/20160129_194342_00 ignored, no frame file found\n",
      "s18/part2_layouts_p35/20160129_194443_00 ignored, no frame file found\n",
      "s18/part2_layouts_p35/20160129_195318_00 ignored, no frame file found\n",
      "s18/part2_layouts_p35/20160129_195344_00 ignored, no frame file found\n",
      "s20/part1_layout_p40/20160205_000924_00 ignored, no frame file found\n",
      "s20/part1_layout_p40/20160205_001549_00 ignored, no frame file found\n",
      "s20/part1_layout_p40/20160205_003045_00 ignored, no frame file found\n",
      "s20/part1_layout_p40/20160205_003502_00 ignored, no frame file found\n",
      "s20/part1_layout_p40/20160205_003723_00 ignored, no frame file found\n",
      "s20/part2_layout_p39/20160205_004116_00 ignored, no frame file found\n",
      "s20/part2_layout_p39/20160205_004242_00 ignored, no frame file found\n",
      "s20/part2_layout_p39/20160205_004521_00 ignored, no frame file found\n",
      "s20/part2_layout_p39/20160205_004625_00 ignored, no frame file found\n",
      "s20/part2_layout_p39/20160205_004918_00 ignored, no frame file found\n",
      "s20/part2_layout_p39/20160205_005428_00 ignored, no frame file found\n",
      "s20/part2_layout_p39/20160205_005546_00 ignored, no frame file found\n",
      "s08/part1_layout_p16/20151120_205959_00 well processed: 50 labs => 86/1741 frames marked.\n",
      "s08/part1_layout_p16/20151120_210138_00 well processed: 20 labs => 35/621 frames marked.\n",
      "s08/part1_layout_p16/20151120_210259_00 well processed: 37 labs => 66/1493 frames marked.\n",
      "s08/part1_layout_p16/20151120_210411_00 well processed: 12 labs => 20/354 frames marked.\n",
      "s08/part1_layout_p16/20151120_210609_00 well processed: 70 labs => 127/1807 frames marked.\n",
      "s08/part1_layout_p16/20151120_210736_00 well processed: 12 labs => 22/714 frames marked.\n",
      "s08/part1_layout_p16/20151120_210816_00 well processed: 57 labs => 103/1797 frames marked.\n",
      "s08/part1_layout_p16/20151120_210938_00 well processed: 53 labs => 96/1620 frames marked.\n",
      "s08/part1_layout_p16/20151120_211059_00 well processed: 51 labs => 97/1863 frames marked.\n",
      "s08/part1_layout_p16/20151120_211223_00 well processed: 51 labs => 95/1270 frames marked.\n",
      "s08/part2_layout_p15/20151120_211739_00 well processed: 48 labs => 89/1903 frames marked.\n",
      "s08/part2_layout_p15/20151120_211907_00 well processed: 5 labs => 9/150 frames marked.\n",
      "s08/part2_layout_p15/20151120_211928_00 well processed: 7 labs => 11/228 frames marked.\n",
      "s08/part2_layout_p15/20151120_211954_00 well processed: 14 labs => 26/716 frames marked.\n",
      "s08/part2_layout_p15/20151120_212031_00 well processed: 23 labs => 41/796 frames marked.\n",
      "s08/part2_layout_p15/20151120_212459_00 well processed: 6 labs => 12/764 frames marked.\n",
      "s08/part2_layout_p15/20151120_212641_00 well processed: 19 labs => 35/2148 frames marked.\n",
      "s08/part2_layout_p15/20151120_212813_00 well processed: 34 labs => 63/4525 frames marked.\n",
      "s09/part1_layout_p18/20151202_220007_00 well processed: 16 labs => 27/397 frames marked.\n",
      "s09/part1_layout_p18/20151202_220045_00 well processed: 114 labs => 211/4613 frames marked.\n",
      "s09/part1_layout_p18/20151202_220401_00 well processed: 55 labs => 101/1417 frames marked.\n",
      "s09/part1_layout_p18/20151202_220510_00 well processed: 17 labs => 32/762 frames marked.\n",
      "s09/part1_layout_p18/20151202_220552_00 well processed: 11 labs => 18/448 frames marked.\n",
      "s09/part1_layout_p18/20151202_220620_00 well processed: 39 labs => 72/1572 frames marked.\n",
      "s09/part1_layout_p18/20151202_220739_00 well processed: 7 labs => 13/218 frames marked.\n",
      "s09/part1_layout_p18/20151202_220759_00 well processed: 26 labs => 46/986 frames marked.\n",
      "s09/part1_layout_p18/20151202_220845_00 well processed: 51 labs => 91/1850 frames marked.\n",
      "s09/part1_layout_p18/20151202_221009_00 well processed: 14 labs => 25/438 frames marked.\n",
      "s09/part2_layout_p17/20151202_221250_00 well processed: 22 labs => 39/996 frames marked.\n",
      "s09/part2_layout_p17/20151202_221340_00 well processed: 9 labs => 13/698 frames marked.\n",
      "s09/part2_layout_p17/20151202_221422_00 well processed: 7 labs => 13/278 frames marked.\n",
      "s09/part2_layout_p17/20151202_221442_00 well processed: 10 labs => 18/333 frames marked.\n",
      "s09/part2_layout_p17/20151202_221506_00 well processed: 18 labs => 35/819 frames marked.\n",
      "s09/part2_layout_p17/20151202_221550_00 well processed: 21 labs => 39/786 frames marked.\n",
      "s09/part2_layout_p17/20151202_221631_00 well processed: 26 labs => 48/820 frames marked.\n",
      "s09/part2_layout_p17/20151202_221714_00 well processed: 53 labs => 94/1959 frames marked.\n",
      "s09/part2_layout_p17/20151202_221837_00 well processed: 15 labs => 27/515 frames marked.\n",
      "s09/part2_layout_p17/20151202_221911_00 well processed: 28 labs => 50/1072 frames marked.\n",
      "s10/part1_layout_p20/20151203_232837_00 well processed: 45 labs => 86/1965 frames marked.\n"
     ]
    },
    {
     "name": "stdout",
     "output_type": "stream",
     "text": [
      "s10/part1_layout_p20/20151203_233025_00 well processed: 13 labs => 23/548 frames marked.\n",
      "s10/part1_layout_p20/20151203_233059_00 well processed: 40 labs => 75/1671 frames marked.\n",
      "s10/part1_layout_p20/20151203_233227_00 well processed: 137 labs => 250/5318 frames marked.\n",
      "s10/part1_layout_p20/20151203_233618_00 well processed: 37 labs => 66/1290 frames marked.\n",
      "s10/part1_layout_p20/20151203_233735_00 well processed: 47 labs => 88/1749 frames marked.\n",
      "s10/part1_layout_p20/20151203_233904_00 well processed: 25 labs => 45/1043 frames marked.\n",
      "s10/part1_layout_p20/20151203_234001_00 well processed: 18 labs => 33/989 frames marked.\n",
      "s10/part1_layout_p20/20151203_234102_00 well processed: 30 labs => 52/1002 frames marked.\n",
      "s10/part1_layout_p20/20151203_234151_00 well processed: 17 labs => 30/483 frames marked.\n",
      "s10/part2_layout_p19/20151203_234532_00 well processed: 103 labs => 172/3720 frames marked.\n",
      "s10/part2_layout_p19/20151203_234805_00 well processed: 34 labs => 63/1012 frames marked.\n",
      "s10/part2_layout_p19/20151203_234906_00 well processed: 75 labs => 135/3300 frames marked.\n",
      "s10/part2_layout_p19/20151203_235123_00 well processed: 8 labs => 14/294 frames marked.\n",
      "s10/part2_layout_p19/20151203_235315_00 well processed: 55 labs => 97/1726 frames marked.\n",
      "s10/part2_layout_p19/20151203_235434_00 well processed: 23 labs => 42/750 frames marked.\n",
      "s10/part2_layout_p19/20151203_235517_00 ignored, no frame file found\n",
      "s10/part2_layout_p19/20151203_235741_00 well processed: 15 labs => 27/543 frames marked.\n",
      "s10/part2_layout_p19/20151203_235816_00 well processed: 100 labs => 183/3489 frames marked.\n",
      "s10/part2_layout_p19/20151204_000040_00 well processed: 29 labs => 48/987 frames marked.\n",
      "s11/part1_layout_p22/20151208_200353_00 well processed: 24 labs => 46/674 frames marked.\n",
      "s11/part1_layout_p22/20151208_200434_00 well processed: 37 labs => 69/1381 frames marked.\n",
      "s11/part1_layout_p22/20151208_200534_00 well processed: 49 labs => 92/1825 frames marked.\n",
      "s11/part1_layout_p22/20151208_200654_00 well processed: 47 labs => 90/2063 frames marked.\n",
      "s11/part1_layout_p22/20151208_200821_00 well processed: 55 labs => 99/2139 frames marked.\n",
      "s11/part1_layout_p22/20151208_200949_00 well processed: 41 labs => 73/1109 frames marked.\n",
      "s11/part1_layout_p22/20151208_201042_00 well processed: 26 labs => 48/892 frames marked.\n",
      "s11/part1_layout_p22/20151208_201126_00 well processed: 17 labs => 32/759 frames marked.\n",
      "s11/part1_layout_p22/20151208_201204_00 well processed: 39 labs => 73/2023 frames marked.\n",
      "s11/part1_layout_p22/20151208_201336_00 well processed: 271 labs => 512/9124 frames marked.\n",
      "s11/part2_layout_p21/20151208_202137_00 well processed: 92 labs => 177/3123 frames marked.\n",
      "s11/part2_layout_p21/20151208_202343_00 well processed: 1 labs => 2/2019 frames marked.\n",
      "s11/part2_layout_p21/20151208_202507_00 well processed: 56 labs => 108/2184 frames marked.\n",
      "s11/part2_layout_p21/20151208_202636_00 well processed: 48 labs => 90/1798 frames marked.\n",
      "s11/part2_layout_p21/20151208_202800_00 well processed: 54 labs => 105/1961 frames marked.\n",
      "s11/part2_layout_p21/20151208_202922_00 well processed: 45 labs => 83/1850 frames marked.\n",
      "s11/part2_layout_p21/20151208_203132_00 well processed: 29 labs => 54/1217 frames marked.\n",
      "s11/part2_layout_p21/20151208_203232_00 well processed: 18 labs => 32/509 frames marked.\n",
      "s11/part2_layout_p21/20151208_203309_00 well processed: 85 labs => 161/3508 frames marked.\n",
      "s11/part2_layout_p21/20151208_203530_00 well processed: 10 labs => 18/330 frames marked.\n",
      "s12/part1_layout_p24/20151209_171033_00 ignored, no frame file found\n",
      "s12/part1_layout_p24/20151209_171352_00 ignored, no frame file found\n",
      "s12/part1_layout_p24/20151209_171502_00 ignored, no frame file found\n",
      "s12/part1_layout_p24/20151209_171540_00 ignored, no frame file found\n",
      "s12/part1_layout_p24/20151209_171744_00 ignored, no frame file found\n",
      "s12/part1_layout_p24/20151209_171914_00 ignored, no frame file found\n",
      "s12/part1_layout_p24/20151209_172243_00 ignored, no frame file found\n",
      "s12/part1_layout_p24/20151209_172338_00 ignored, no frame file found\n",
      "s12/part1_layout_p24/20151209_172930_00 ignored, no frame file found\n",
      "s12/part2_layout_p23/20151209_173529_00 ignored, no frame file found\n",
      "s12/part2_layout_p23/20151209_173604_00 ignored, no frame file found\n",
      "s12/part2_layout_p23/20151209_173718_00 ignored, no frame file found\n",
      "s12/part2_layout_p23/20151209_173838_00 ignored, no frame file found\n",
      "s12/part2_layout_p23/20151209_173903_00 ignored, no frame file found\n",
      "s12/part2_layout_p23/20151209_173952_00 ignored, no frame file found\n",
      "s12/part2_layout_p23/20151209_174127_00 ignored, no frame file found\n",
      "s12/part2_layout_p23/20151209_174205_00 ignored, no frame file found\n",
      "s12/part2_layout_p23/20151209_174417_00 ignored, no frame file found\n",
      "s12/part2_layout_p23/20151209_174514_00 ignored, no frame file found\n",
      "s14/part1_layout_p28/20151210_181006_00 ignored, no frame file found\n",
      "s14/part1_layout_p28/20151210_181410_00 ignored, no frame file found\n",
      "s14/part1_layout_p28/20151210_181550_00 ignored, no frame file found\n",
      "s14/part1_layout_p28/20151210_181604_00 ignored, no frame file found\n",
      "s14/part1_layout_p28/20151210_181653_00 ignored, no frame file found\n",
      "s14/part1_layout_p28/20151210_182338_00 ignored, no frame file found\n",
      "s14/part1_layout_p28/20151210_182606_00 ignored, no frame file found\n",
      "s14/part1_layout_p28/20151210_182705_00 ignored, no frame file found\n",
      "s14/part1_layout_p28/20151210_182800_00 ignored, no frame file found\n",
      "s14/part2_layout_p27/20151210_183403_00 ignored, no frame file found\n",
      "s14/part2_layout_p27/20151210_183659_00 ignored, no frame file found\n",
      "s14/part2_layout_p27/20151210_184305_00 ignored, no frame file found\n",
      "s14/part2_layout_p27/20151210_184405_00 ignored, no frame file found\n",
      "s15/part1_layout_p30/20151217_021036_00 ignored, no frame file found\n",
      "s15/part1_layout_p30/20151217_021130_00 ignored, no frame file found\n",
      "s15/part1_layout_p30/20151217_021158_00 ignored, no frame file found\n",
      "s15/part1_layout_p30/20151217_021232_00 ignored, no frame file found\n",
      "s15/part1_layout_p30/20151217_021516_00 ignored, no frame file found\n",
      "s15/part1_layout_p30/20151217_021629_00 ignored, no frame file found\n",
      "s15/part1_layout_p30/20151217_021906_00 ignored, no frame file found\n",
      "s15/part1_layout_p30/20151217_022211_00 ignored, no frame file found\n",
      "s15/part1_layout_p30/20151217_022236_00 ignored, no frame file found\n",
      "s15/part1_layout_p30/20151217_022316_00 ignored, no frame file found\n",
      "s15/part2_layout_p29/20151217_022713_00 ignored, no frame file found\n",
      "s15/part2_layout_p29/20151217_022906_00 ignored, no frame file found\n",
      "s15/part2_layout_p29/20151217_023351_00 ignored, no frame file found\n",
      "s15/part2_layout_p29/20151217_023455_00 ignored, no frame file found\n",
      "s15/part2_layout_p29/20151217_023533_00 ignored, no frame file found\n",
      "s15/part2_layout_p29/20151217_023626_00 ignored, no frame file found\n",
      "s15/part2_layout_p29/20151217_023725_00 ignored, no frame file found\n",
      "s15/part2_layout_p29/20151217_023842_00 ignored, no frame file found\n",
      "s15/part2_layout_p29/20151217_024016_00 ignored, no frame file found\n",
      "s15/part2_layout_p29/20151217_024119_00 ignored, no frame file found\n",
      "s17/part1_layouts_p34/20160128_194050_00 ignored, no frame file found\n",
      "s17/part1_layouts_p34/20160128_194122_00 ignored, no frame file found\n",
      "s17/part1_layouts_p34/20160128_194217_00 ignored, no frame file found\n",
      "s17/part1_layouts_p34/20160128_194244_00 ignored, no frame file found\n",
      "s17/part1_layouts_p34/20160128_194307_00 ignored, no frame file found\n",
      "s17/part1_layouts_p34/20160128_194339_00 ignored, no frame file found\n",
      "s17/part1_layouts_p34/20160128_194418_00 ignored, no frame file found\n",
      "s17/part1_layouts_p34/20160128_194532_00 ignored, no frame file found\n",
      "s17/part1_layouts_p34/20160128_194612_00 ignored, no frame file found\n",
      "s17/part1_layouts_p34/20160128_194658_00 ignored, no frame file found\n",
      "s17/part2_layouts_p33/20160128_195152_00 ignored, no frame file found\n",
      "s17/part2_layouts_p33/20160128_195214_00 ignored, no frame file found\n",
      "s17/part2_layouts_p33/20160128_195353_00 ignored, no frame file found\n",
      "s17/part2_layouts_p33/20160128_195448_00 ignored, no frame file found\n",
      "s17/part2_layouts_p33/20160128_195614_00 ignored, no frame file found\n",
      "s17/part2_layouts_p33/20160128_195705_00 ignored, no frame file found\n",
      "s17/part2_layouts_p33/20160128_195752_00 ignored, no frame file found\n",
      "s17/part2_layouts_p33/20160128_195924_00 ignored, no frame file found\n",
      "s17/part2_layouts_p33/20160128_200206_00 ignored, no frame file found\n",
      "s17/part2_layouts_p33/20160128_200306_00 ignored, no frame file found\n"
     ]
    },
    {
     "name": "stdout",
     "output_type": "stream",
     "text": [
      "s19/part1_layouts_p38/20160202_003458_00 ignored, no frame file found\n",
      "s19/part1_layouts_p38/20160202_003745_00 ignored, no frame file found\n",
      "s19/part1_layouts_p38/20160202_004129_00 ignored, no frame file found\n",
      "s19/part1_layouts_p38/20160202_004500_00 ignored, no frame file found\n",
      "s19/part1_layouts_p38/20160202_004632_00 ignored, no frame file found\n",
      "s19/part1_layouts_p38/20160202_004747_00 ignored, no frame file found\n",
      "s19/part1_layouts_p38/20160202_004915_00 ignored, no frame file found\n",
      "s19/part1_layouts_p38/20160202_004948_00 ignored, no frame file found\n",
      "s19/part1_layouts_p38/20160202_005123_00 ignored, no frame file found\n",
      "s19/part1_layouts_p38/20160202_005254_00 ignored, no frame file found\n",
      "s19/part2_layouts_p37/20160202_005709_00 ignored, no frame file found\n",
      "s19/part2_layouts_p37/20160202_005824_00 ignored, no frame file found\n",
      "s19/part2_layouts_p37/20160202_005948_00 ignored, no frame file found\n",
      "s19/part2_layouts_p37/20160202_010031_00 ignored, no frame file found\n",
      "s19/part2_layouts_p37/20160202_010227_00 ignored, no frame file found\n",
      "s19/part2_layouts_p37/20160202_010247_00 ignored, no frame file found\n",
      "s19/part2_layouts_p37/20160202_010320_00 ignored, no frame file found\n",
      "s19/part2_layouts_p37/20160202_010429_00 ignored, no frame file found\n",
      "s19/part2_layouts_p37/20160202_010517_00 ignored, no frame file found\n",
      "s19/part2_layouts_p37/20160202_010657_00 ignored, no frame file found\n",
      "s21/part1_layout_p42/20160205_191417_00 ignored, no frame file found\n",
      "s21/part1_layout_p42/20160205_191454_00 ignored, no frame file found\n",
      "s21/part1_layout_p42/20160205_191619_00 ignored, no frame file found\n",
      "s21/part1_layout_p42/20160205_191733_00 ignored, no frame file found\n",
      "s21/part1_layout_p42/20160205_191824_00 ignored, no frame file found\n",
      "s21/part1_layout_p42/20160205_191953_00 ignored, no frame file found\n",
      "s21/part1_layout_p42/20160205_192100_00 ignored, no frame file found\n",
      "s21/part1_layout_p42/20160205_192209_00 ignored, no frame file found\n",
      "s21/part1_layout_p42/20160205_192321_00 ignored, no frame file found\n",
      "s21/part1_layout_p42/20160205_192355_00 ignored, no frame file found\n",
      "s21/part2_layout_p41/20160205_192734_00 ignored, no frame file found\n",
      "s21/part2_layout_p41/20160205_193128_00 ignored, no frame file found\n",
      "s21/part2_layout_p41/20160205_193506_00 ignored, no frame file found\n",
      "s21/part2_layout_p41/20160205_193727_00 ignored, no frame file found\n",
      "s21/part2_layout_p41/20160205_193957_00 ignored, no frame file found\n",
      "s21/part2_layout_p41/20160205_194210_00 ignored, no frame file found\n",
      "s21/part2_layout_p41/20160205_194405_00 ignored, no frame file found\n",
      "s21/part2_layout_p41/20160205_194547_00 ignored, no frame file found\n",
      "152 files loaded for 207 fails (frames file not found), itered on 24503 total labels\n",
      "Smoothing s01/part1_layout_p02/20151105_191251_00..\n",
      "Smoothing s01/part1_layout_p02/20151105_192144_00..\n",
      "Smoothing s01/part1_layout_p02/20151105_192312_00..\n",
      "Smoothing s01/part1_layout_p02/20151105_192407_00..\n",
      "Smoothing s01/part1_layout_p02/20151105_192610_00..\n",
      "Smoothing s01/part1_layout_p02/20151105_192717_00..\n",
      "Smoothing s01/part1_layout_p02/20151105_193157_00..\n",
      "Smoothing s01/part2_layout_p01/20151105_194301_00..\n",
      "Smoothing s01/part2_layout_p01/20151105_194456_00..\n",
      "Smoothing s01/part2_layout_p01/20151105_194650_00..\n",
      "Smoothing s01/part2_layout_p01/20151105_194955_00..\n",
      "Smoothing s01/part2_layout_p01/20151105_195111_00..\n",
      "Smoothing s01/part2_layout_p01/20151105_195450_00..\n",
      "Smoothing s02/part1_layout_p04/20151106_214357_00..\n",
      "Smoothing s02/part1_layout_p04/20151106_214521_00..\n",
      "Smoothing s02/part1_layout_p04/20151106_214647_00..\n",
      "Smoothing s02/part1_layout_p04/20151106_215028_00..\n",
      "Smoothing s02/part1_layout_p04/20151106_215120_00..\n",
      "Smoothing s02/part1_layout_p04/20151106_215320_00..\n",
      "Smoothing s02/part1_layout_p04/20151106_215547_00..\n",
      "Smoothing s02/part1_layout_p04/20151106_215829_00..\n",
      "Smoothing s02/part2_layout_p03/20151106_220752_00..\n",
      "Smoothing s02/part2_layout_p03/20151106_220857_00..\n",
      "Smoothing s02/part2_layout_p03/20151106_221002_00..\n",
      "Smoothing s02/part2_layout_p03/20151106_221038_00..\n",
      "Smoothing s02/part2_layout_p03/20151106_221259_00..\n",
      "Smoothing s02/part2_layout_p03/20151106_221434_00..\n",
      "Smoothing s02/part2_layout_p03/20151106_221752_00..\n",
      "Smoothing s02/part2_layout_p03/20151106_222114_00..\n",
      "Smoothing s02/part2_layout_p03/20151106_222352_00..\n",
      "Smoothing s03/part1_layout_p06/20151109_191547_00..\n",
      "Smoothing s03/part1_layout_p06/20151109_191726_00..\n",
      "Smoothing s03/part1_layout_p06/20151109_191826_00..\n",
      "Smoothing s03/part1_layout_p06/20151109_191947_00..\n",
      "Smoothing s03/part1_layout_p06/20151109_192232_00..\n",
      "Smoothing s03/part1_layout_p06/20151109_192321_00..\n",
      "Smoothing s03/part1_layout_p06/20151109_192442_00..\n",
      "Smoothing s03/part1_layout_p06/20151109_192740_00..\n",
      "Smoothing s03/part1_layout_p06/20151109_192824_00..\n",
      "Smoothing s03/part2_layout_p05/20151109_193224_00..\n",
      "Smoothing s03/part2_layout_p05/20151109_193356_00..\n",
      "Smoothing s03/part2_layout_p05/20151109_193627_00..\n",
      "Smoothing s03/part2_layout_p05/20151109_193937_00..\n",
      "Smoothing s03/part2_layout_p05/20151109_194134_00..\n",
      "Smoothing s03/part2_layout_p05/20151109_194414_00..\n",
      "Smoothing s03/part2_layout_p05/20151109_194614_00..\n",
      "Smoothing s03/part2_layout_p05/20151109_194757_00..\n",
      "Smoothing s03/part2_layout_p05/20151109_195011_00..\n",
      "Smoothing s03/part2_layout_p05/20151109_195206_00..\n",
      "Smoothing s04/part1_layout_p08/20151113_223703_00..\n",
      "Smoothing s04/part1_layout_p08/20151113_223852_00..\n",
      "Smoothing s04/part1_layout_p08/20151113_224003_00..\n",
      "Smoothing s04/part1_layout_p08/20151113_224154_00..\n",
      "Smoothing s04/part1_layout_p08/20151113_224315_00..\n",
      "Smoothing s04/part1_layout_p08/20151113_224707_00..\n",
      "Smoothing s04/part1_layout_p08/20151113_224853_00..\n",
      "Smoothing s04/part1_layout_p08/20151113_225008_00..\n",
      "Smoothing s04/part1_layout_p08/20151113_225206_00..\n",
      "Smoothing s04/part1_layout_p08/20151113_225331_00..\n",
      "Smoothing s04/part2_layout_p07/20151113_225809_00..\n",
      "Smoothing s04/part2_layout_p07/20151113_225947_00..\n",
      "Smoothing s04/part2_layout_p07/20151113_230041_00..\n",
      "Smoothing s04/part2_layout_p07/20151113_230200_00..\n",
      "Smoothing s04/part2_layout_p07/20151113_230303_00..\n",
      "Smoothing s04/part2_layout_p07/20151113_230636_00..\n",
      "Smoothing s04/part2_layout_p07/20151113_230739_00..\n",
      "Smoothing s04/part2_layout_p07/20151113_230916_00..\n",
      "Smoothing s04/part2_layout_p07/20151113_231040_00..\n",
      "Smoothing s04/part2_layout_p07/20151113_231148_00..\n",
      "Smoothing s05/part1_layout_p10/20151114_013643_00..\n",
      "Smoothing s07/part1_layout_p14/20151116_230144_00..\n",
      "Smoothing s16/part1_layouts_p32/20160126_231530_00..\n",
      "Smoothing s16/part2_layouts_p31/20160126_233520_00..\n",
      "Smoothing s16/part2_layouts_p31/20160126_234101_00..\n",
      "Smoothing s16/part2_layouts_p31/20160126_234345_00..\n",
      "Smoothing s08/part1_layout_p16/20151120_205959_00..\n",
      "Smoothing s08/part1_layout_p16/20151120_210138_00..\n",
      "Smoothing s08/part1_layout_p16/20151120_210259_00..\n",
      "Smoothing s08/part1_layout_p16/20151120_210411_00..\n",
      "Smoothing s08/part1_layout_p16/20151120_210609_00..\n",
      "Smoothing s08/part1_layout_p16/20151120_210736_00..\n",
      "Smoothing s08/part1_layout_p16/20151120_210816_00..\n",
      "Smoothing s08/part1_layout_p16/20151120_210938_00..\n",
      "Smoothing s08/part1_layout_p16/20151120_211059_00..\n",
      "Smoothing s08/part1_layout_p16/20151120_211223_00..\n",
      "Smoothing s08/part2_layout_p15/20151120_211739_00..\n",
      "Smoothing s08/part2_layout_p15/20151120_211907_00..\n",
      "Smoothing s08/part2_layout_p15/20151120_211928_00..\n",
      "Smoothing s08/part2_layout_p15/20151120_211954_00..\n",
      "Smoothing s08/part2_layout_p15/20151120_212031_00..\n",
      "Smoothing s08/part2_layout_p15/20151120_212459_00..\n",
      "Smoothing s08/part2_layout_p15/20151120_212641_00..\n",
      "Smoothing s08/part2_layout_p15/20151120_212813_00..\n",
      "Smoothing s09/part1_layout_p18/20151202_220007_00..\n",
      "Smoothing s09/part1_layout_p18/20151202_220045_00..\n",
      "Smoothing s09/part1_layout_p18/20151202_220401_00..\n",
      "Smoothing s09/part1_layout_p18/20151202_220510_00..\n",
      "Smoothing s09/part1_layout_p18/20151202_220552_00..\n",
      "Smoothing s09/part1_layout_p18/20151202_220620_00..\n",
      "Smoothing s09/part1_layout_p18/20151202_220739_00..\n",
      "Smoothing s09/part1_layout_p18/20151202_220759_00..\n",
      "Smoothing s09/part1_layout_p18/20151202_220845_00..\n",
      "Smoothing s09/part1_layout_p18/20151202_221009_00..\n",
      "Smoothing s09/part2_layout_p17/20151202_221250_00..\n",
      "Smoothing s09/part2_layout_p17/20151202_221340_00..\n",
      "Smoothing s09/part2_layout_p17/20151202_221422_00..\n",
      "Smoothing s09/part2_layout_p17/20151202_221442_00..\n",
      "Smoothing s09/part2_layout_p17/20151202_221506_00..\n",
      "Smoothing s09/part2_layout_p17/20151202_221550_00..\n",
      "Smoothing s09/part2_layout_p17/20151202_221631_00..\n",
      "Smoothing s09/part2_layout_p17/20151202_221714_00..\n",
      "Smoothing s09/part2_layout_p17/20151202_221837_00..\n"
     ]
    },
    {
     "name": "stdout",
     "output_type": "stream",
     "text": [
      "Smoothing s09/part2_layout_p17/20151202_221911_00..\n",
      "Smoothing s10/part1_layout_p20/20151203_232837_00..\n",
      "Smoothing s10/part1_layout_p20/20151203_233025_00..\n",
      "Smoothing s10/part1_layout_p20/20151203_233059_00..\n",
      "Smoothing s10/part1_layout_p20/20151203_233227_00..\n",
      "Smoothing s10/part1_layout_p20/20151203_233618_00..\n",
      "Smoothing s10/part1_layout_p20/20151203_233735_00..\n",
      "Smoothing s10/part1_layout_p20/20151203_233904_00..\n",
      "Smoothing s10/part1_layout_p20/20151203_234001_00..\n",
      "Smoothing s10/part1_layout_p20/20151203_234102_00..\n",
      "Smoothing s10/part1_layout_p20/20151203_234151_00..\n",
      "Smoothing s10/part2_layout_p19/20151203_234532_00..\n",
      "Smoothing s10/part2_layout_p19/20151203_234805_00..\n",
      "Smoothing s10/part2_layout_p19/20151203_234906_00..\n",
      "Smoothing s10/part2_layout_p19/20151203_235123_00..\n",
      "Smoothing s10/part2_layout_p19/20151203_235315_00..\n",
      "Smoothing s10/part2_layout_p19/20151203_235434_00..\n",
      "Smoothing s10/part2_layout_p19/20151203_235741_00..\n",
      "Smoothing s10/part2_layout_p19/20151203_235816_00..\n",
      "Smoothing s10/part2_layout_p19/20151204_000040_00..\n",
      "Smoothing s11/part1_layout_p22/20151208_200353_00..\n",
      "Smoothing s11/part1_layout_p22/20151208_200434_00..\n",
      "Smoothing s11/part1_layout_p22/20151208_200534_00..\n",
      "Smoothing s11/part1_layout_p22/20151208_200654_00..\n",
      "Smoothing s11/part1_layout_p22/20151208_200821_00..\n",
      "Smoothing s11/part1_layout_p22/20151208_200949_00..\n",
      "Smoothing s11/part1_layout_p22/20151208_201042_00..\n",
      "Smoothing s11/part1_layout_p22/20151208_201126_00..\n",
      "Smoothing s11/part1_layout_p22/20151208_201204_00..\n",
      "Smoothing s11/part1_layout_p22/20151208_201336_00..\n",
      "Smoothing s11/part2_layout_p21/20151208_202137_00..\n",
      "Smoothing s11/part2_layout_p21/20151208_202343_00..\n",
      "Smoothing s11/part2_layout_p21/20151208_202507_00..\n",
      "Smoothing s11/part2_layout_p21/20151208_202636_00..\n",
      "Smoothing s11/part2_layout_p21/20151208_202800_00..\n",
      "Smoothing s11/part2_layout_p21/20151208_202922_00..\n",
      "Smoothing s11/part2_layout_p21/20151208_203132_00..\n",
      "Smoothing s11/part2_layout_p21/20151208_203232_00..\n",
      "Smoothing s11/part2_layout_p21/20151208_203309_00..\n",
      "Smoothing s11/part2_layout_p21/20151208_203530_00..\n",
      "Smoothing finished !\n"
     ]
    },
    {
     "data": {
      "text/plain": [
       "[<matplotlib.lines.Line2D at 0x7fb61fbba940>]"
      ]
     },
     "execution_count": 152,
     "metadata": {},
     "output_type": "execute_result"
    },
    {
     "data": {
      "image/png": "[encoded data removed]",
      "text/plain": [
       "<Figure size 432x288 with 1 Axes>"
      ]
     },
     "metadata": {
      "needs_background": "light"
     },
     "output_type": "display_data"
    }
   ],
   "source": [
    "# ----------------------\n",
    "# Lets run it\n",
    "# ----------------------\n",
    "\n",
    "columns = computeUsedColumns()\n",
    "data = createDataset(columns, moveDetectionDuration = 333333)"
   ]
  },
  {
   "cell_type": "code",
   "execution_count": 153,
   "metadata": {},
   "outputs": [
    {
     "name": "stdout",
     "output_type": "stream",
     "text": [
      "Creating training set with 92 files\n",
      "1. Processing s01/part1_layout_p02/20151105_191251_00..\n",
      "2. Processing s01/part1_layout_p02/20151105_192144_00..\n",
      "3. Processing s01/part1_layout_p02/20151105_192312_00..\n",
      "4. Processing s01/part1_layout_p02/20151105_192407_00..\n",
      "5. Processing s01/part1_layout_p02/20151105_192610_00..\n",
      "6. Processing s01/part1_layout_p02/20151105_192717_00..\n",
      "7. Processing s01/part1_layout_p02/20151105_193157_00..\n",
      "8. Processing s01/part2_layout_p01/20151105_194301_00..\n",
      "9. Processing s01/part2_layout_p01/20151105_194456_00..\n",
      "10. Processing s01/part2_layout_p01/20151105_194650_00..\n",
      "11. Processing s01/part2_layout_p01/20151105_194955_00..\n",
      "12. Processing s01/part2_layout_p01/20151105_195111_00..\n",
      "13. Processing s01/part2_layout_p01/20151105_195450_00..\n",
      "14. Processing s02/part1_layout_p04/20151106_214357_00..\n",
      "15. Processing s02/part1_layout_p04/20151106_214521_00..\n",
      "16. Processing s02/part1_layout_p04/20151106_214647_00..\n",
      "17. Processing s02/part1_layout_p04/20151106_215028_00..\n",
      "18. Processing s02/part1_layout_p04/20151106_215120_00..\n",
      "19. Processing s02/part1_layout_p04/20151106_215320_00..\n",
      "20. Processing s02/part1_layout_p04/20151106_215547_00..\n",
      "21. Processing s02/part1_layout_p04/20151106_215829_00..\n",
      "22. Processing s02/part2_layout_p03/20151106_220752_00..\n",
      "23. Processing s02/part2_layout_p03/20151106_220857_00..\n",
      "24. Processing s02/part2_layout_p03/20151106_221002_00..\n",
      "25. Processing s02/part2_layout_p03/20151106_221038_00..\n",
      "26. Processing s02/part2_layout_p03/20151106_221259_00..\n",
      "27. Processing s02/part2_layout_p03/20151106_221434_00..\n",
      "28. Processing s02/part2_layout_p03/20151106_221752_00..\n",
      "29. Processing s02/part2_layout_p03/20151106_222114_00..\n",
      "30. Processing s02/part2_layout_p03/20151106_222352_00..\n",
      "31. Processing s03/part1_layout_p06/20151109_191547_00..\n",
      "32. Processing s03/part1_layout_p06/20151109_191726_00..\n",
      "33. Processing s03/part1_layout_p06/20151109_191826_00..\n",
      "34. Processing s03/part1_layout_p06/20151109_191947_00..\n",
      "35. Processing s03/part1_layout_p06/20151109_192232_00..\n",
      "36. Processing s03/part1_layout_p06/20151109_192321_00..\n",
      "37. Processing s03/part1_layout_p06/20151109_192442_00..\n",
      "38. Processing s03/part1_layout_p06/20151109_192740_00..\n",
      "39. Processing s03/part1_layout_p06/20151109_192824_00..\n",
      "40. Processing s03/part2_layout_p05/20151109_193224_00..\n",
      "41. Processing s03/part2_layout_p05/20151109_193356_00..\n",
      "42. Processing s03/part2_layout_p05/20151109_193627_00..\n",
      "43. Processing s03/part2_layout_p05/20151109_193937_00..\n",
      "44. Processing s03/part2_layout_p05/20151109_194134_00..\n",
      "45. Processing s03/part2_layout_p05/20151109_194414_00..\n",
      "46. Processing s03/part2_layout_p05/20151109_194614_00..\n",
      "47. Processing s03/part2_layout_p05/20151109_194757_00..\n",
      "48. Processing s03/part2_layout_p05/20151109_195011_00..\n",
      "49. Processing s03/part2_layout_p05/20151109_195206_00..\n",
      "50. Processing s04/part1_layout_p08/20151113_223703_00..\n",
      "51. Processing s04/part1_layout_p08/20151113_223852_00..\n",
      "52. Processing s04/part1_layout_p08/20151113_224003_00..\n",
      "53. Processing s04/part1_layout_p08/20151113_224154_00..\n",
      "54. Processing s04/part1_layout_p08/20151113_224315_00..\n",
      "55. Processing s04/part1_layout_p08/20151113_224707_00..\n",
      "56. Processing s04/part1_layout_p08/20151113_224853_00..\n",
      "57. Processing s04/part1_layout_p08/20151113_225008_00..\n",
      "58. Processing s04/part1_layout_p08/20151113_225206_00..\n",
      "59. Processing s04/part1_layout_p08/20151113_225331_00..\n",
      "60. Processing s04/part2_layout_p07/20151113_225809_00..\n",
      "61. Processing s04/part2_layout_p07/20151113_225947_00..\n",
      "62. Processing s04/part2_layout_p07/20151113_230041_00..\n",
      "63. Processing s04/part2_layout_p07/20151113_230200_00..\n",
      "64. Processing s04/part2_layout_p07/20151113_230303_00..\n",
      "65. Processing s04/part2_layout_p07/20151113_230636_00..\n",
      "66. Processing s04/part2_layout_p07/20151113_230739_00..\n",
      "67. Processing s04/part2_layout_p07/20151113_230916_00..\n",
      "68. Processing s04/part2_layout_p07/20151113_231040_00..\n",
      "69. Processing s04/part2_layout_p07/20151113_231148_00..\n",
      "70. Processing s05/part1_layout_p10/20151114_013643_00..\n",
      "71. Processing s07/part1_layout_p14/20151116_230144_00..\n",
      "72. Processing s16/part1_layouts_p32/20160126_231530_00..\n",
      "73. Processing s16/part2_layouts_p31/20160126_233520_00..\n",
      "74. Processing s16/part2_layouts_p31/20160126_234101_00..\n",
      "75. Processing s16/part2_layouts_p31/20160126_234345_00..\n",
      "76. Processing s08/part1_layout_p16/20151120_205959_00..\n",
      "77. Processing s08/part1_layout_p16/20151120_210138_00..\n",
      "78. Processing s08/part1_layout_p16/20151120_210259_00..\n",
      "79. Processing s08/part1_layout_p16/20151120_210411_00..\n",
      "80. Processing s08/part1_layout_p16/20151120_210609_00..\n",
      "81. Processing s08/part1_layout_p16/20151120_210736_00..\n",
      "82. Processing s08/part1_layout_p16/20151120_210816_00..\n",
      "83. Processing s08/part1_layout_p16/20151120_210938_00..\n",
      "84. Processing s08/part1_layout_p16/20151120_211059_00..\n",
      "85. Processing s08/part1_layout_p16/20151120_211223_00..\n",
      "86. Processing s08/part2_layout_p15/20151120_211739_00..\n",
      "87. Processing s08/part2_layout_p15/20151120_211907_00..\n",
      "88. Processing s08/part2_layout_p15/20151120_211928_00..\n",
      "89. Processing s08/part2_layout_p15/20151120_211954_00..\n",
      "90. Processing s08/part2_layout_p15/20151120_212031_00..\n",
      "91. Processing s08/part2_layout_p15/20151120_212459_00..\n",
      "92. Processing s08/part2_layout_p15/20151120_212641_00..\n",
      "Creating validation set with 40 files\n",
      "93. Processing s08/part2_layout_p15/20151120_212813_00..\n",
      "94. Processing s09/part1_layout_p18/20151202_220007_00..\n",
      "95. Processing s09/part1_layout_p18/20151202_220045_00..\n",
      "96. Processing s09/part1_layout_p18/20151202_220401_00..\n",
      "97. Processing s09/part1_layout_p18/20151202_220510_00..\n",
      "98. Processing s09/part1_layout_p18/20151202_220552_00..\n",
      "99. Processing s09/part1_layout_p18/20151202_220620_00..\n",
      "100. Processing s09/part1_layout_p18/20151202_220739_00..\n",
      "101. Processing s09/part1_layout_p18/20151202_220759_00..\n",
      "102. Processing s09/part1_layout_p18/20151202_220845_00..\n",
      "103. Processing s09/part1_layout_p18/20151202_221009_00..\n",
      "104. Processing s09/part2_layout_p17/20151202_221250_00..\n",
      "105. Processing s09/part2_layout_p17/20151202_221340_00..\n",
      "106. Processing s09/part2_layout_p17/20151202_221422_00..\n",
      "107. Processing s09/part2_layout_p17/20151202_221442_00..\n",
      "108. Processing s09/part2_layout_p17/20151202_221506_00..\n",
      "109. Processing s09/part2_layout_p17/20151202_221550_00..\n",
      "110. Processing s09/part2_layout_p17/20151202_221631_00..\n",
      "111. Processing s09/part2_layout_p17/20151202_221714_00..\n",
      "112. Processing s09/part2_layout_p17/20151202_221837_00..\n",
      "113. Processing s09/part2_layout_p17/20151202_221911_00..\n",
      "114. Processing s10/part1_layout_p20/20151203_232837_00..\n",
      "115. Processing s10/part1_layout_p20/20151203_233025_00..\n",
      "116. Processing s10/part1_layout_p20/20151203_233059_00..\n",
      "117. Processing s10/part1_layout_p20/20151203_233227_00..\n",
      "118. Processing s10/part1_layout_p20/20151203_233618_00..\n",
      "119. Processing s10/part1_layout_p20/20151203_233735_00..\n",
      "120. Processing s10/part1_layout_p20/20151203_233904_00..\n",
      "121. Processing s10/part1_layout_p20/20151203_234001_00..\n",
      "122. Processing s10/part1_layout_p20/20151203_234102_00..\n",
      "123. Processing s10/part1_layout_p20/20151203_234151_00..\n",
      "124. Processing s10/part2_layout_p19/20151203_234532_00..\n",
      "125. Processing s10/part2_layout_p19/20151203_234805_00..\n",
      "126. Processing s10/part2_layout_p19/20151203_234906_00..\n",
      "127. Processing s10/part2_layout_p19/20151203_235123_00..\n",
      "128. Processing s10/part2_layout_p19/20151203_235315_00..\n",
      "129. Processing s10/part2_layout_p19/20151203_235434_00..\n",
      "130. Processing s10/part2_layout_p19/20151203_235741_00..\n",
      "131. Processing s10/part2_layout_p19/20151203_235816_00..\n",
      "132. Processing s10/part2_layout_p19/20151204_000040_00..\n",
      "done!\n"
     ]
    }
   ],
   "source": [
    "#Create training and validation sets\n",
    "xTrain, yTrain, xVal, yVal=createSets(data, 0.7, 132)"
   ]
  },
  {
   "cell_type": "code",
   "execution_count": 154,
   "metadata": {},
   "outputs": [
    {
     "data": {
      "image/png": "[encoded data removed]",
      "text/plain": [
       "<Figure size 432x288 with 1 Axes>"
      ]
     },
     "metadata": {},
     "output_type": "display_data"
    },
    {
     "data": {
      "image/png": "[encoded data removed]",
      "text/plain": [
       "<Figure size 432x288 with 1 Axes>"
      ]
     },
     "metadata": {},
     "output_type": "display_data"
    }
   ],
   "source": [
    "del data, columns\n",
    "plotRatio(yTrain)\n",
    "plotRatio(yVal)"
   ]
  },
  {
   "cell_type": "code",
   "execution_count": 240,
   "metadata": {},
   "outputs": [
    {
     "data": {
      "text/html": [
       "<div>\n",
       "<style scoped>\n",
       "    .dataframe tbody tr th:only-of-type {\n",
       "        vertical-align: middle;\n",
       "    }\n",
       "\n",
       "    .dataframe tbody tr th {\n",
       "        vertical-align: top;\n",
       "    }\n",
       "\n",
       "    .dataframe thead th {\n",
       "        text-align: right;\n",
       "    }\n",
       "</style>\n",
       "<table border=\"1\" class=\"dataframe\">\n",
       "  <thead>\n",
       "    <tr style=\"text-align: right;\">\n",
       "      <th></th>\n",
       "      <th>Index</th>\n",
       "      <th>Time</th>\n",
       "      <th>SpineBaseLocX</th>\n",
       "      <th>SpineBaseLocY</th>\n",
       "      <th>SpineBaseLocZ</th>\n",
       "      <th>SpineBaseOrW</th>\n",
       "      <th>SpineBaseOrX</th>\n",
       "      <th>SpineBaseOrY</th>\n",
       "      <th>SpineBaseOrZ</th>\n",
       "      <th>SpineMidLocX</th>\n",
       "      <th>...</th>\n",
       "      <th>HandTipLeftLocZ</th>\n",
       "      <th>ThumbLeftLocX</th>\n",
       "      <th>ThumbLeftLocY</th>\n",
       "      <th>ThumbLeftLocZ</th>\n",
       "      <th>HandTipRightLocX</th>\n",
       "      <th>HandTipRightLocY</th>\n",
       "      <th>HandTipRightLocZ</th>\n",
       "      <th>ThumbRightLocX</th>\n",
       "      <th>ThumbRightLocY</th>\n",
       "      <th>ThumbRightLocZ</th>\n",
       "    </tr>\n",
       "  </thead>\n",
       "  <tbody>\n",
       "    <tr>\n",
       "      <th>0</th>\n",
       "      <td>0</td>\n",
       "      <td>60878</td>\n",
       "      <td>0.053447</td>\n",
       "      <td>-0.162291</td>\n",
       "      <td>1.434072</td>\n",
       "      <td>-0.022577</td>\n",
       "      <td>-0.023818</td>\n",
       "      <td>0.998039</td>\n",
       "      <td>-0.053311</td>\n",
       "      <td>0.040736</td>\n",
       "      <td>...</td>\n",
       "      <td>1.014916</td>\n",
       "      <td>-0.069032</td>\n",
       "      <td>-0.154633</td>\n",
       "      <td>1.041190</td>\n",
       "      <td>0.240742</td>\n",
       "      <td>-0.306784</td>\n",
       "      <td>1.351699</td>\n",
       "      <td>0.218990</td>\n",
       "      <td>-0.299937</td>\n",
       "      <td>1.359273</td>\n",
       "    </tr>\n",
       "    <tr>\n",
       "      <th>1</th>\n",
       "      <td>1</td>\n",
       "      <td>390144</td>\n",
       "      <td>0.054116</td>\n",
       "      <td>-0.162295</td>\n",
       "      <td>1.433774</td>\n",
       "      <td>-0.017966</td>\n",
       "      <td>-0.023970</td>\n",
       "      <td>0.998193</td>\n",
       "      <td>-0.052089</td>\n",
       "      <td>0.041452</td>\n",
       "      <td>...</td>\n",
       "      <td>0.981035</td>\n",
       "      <td>-0.060905</td>\n",
       "      <td>-0.172562</td>\n",
       "      <td>1.021500</td>\n",
       "      <td>0.239906</td>\n",
       "      <td>-0.310283</td>\n",
       "      <td>1.350658</td>\n",
       "      <td>0.219084</td>\n",
       "      <td>-0.298437</td>\n",
       "      <td>1.360628</td>\n",
       "    </tr>\n",
       "    <tr>\n",
       "      <th>2</th>\n",
       "      <td>2</td>\n",
       "      <td>1060801</td>\n",
       "      <td>0.053934</td>\n",
       "      <td>-0.162334</td>\n",
       "      <td>1.433705</td>\n",
       "      <td>-0.010826</td>\n",
       "      <td>-0.023720</td>\n",
       "      <td>0.998357</td>\n",
       "      <td>-0.051018</td>\n",
       "      <td>0.041578</td>\n",
       "      <td>...</td>\n",
       "      <td>0.912276</td>\n",
       "      <td>-0.072966</td>\n",
       "      <td>-0.132589</td>\n",
       "      <td>0.928683</td>\n",
       "      <td>0.237392</td>\n",
       "      <td>-0.309386</td>\n",
       "      <td>1.346722</td>\n",
       "      <td>0.205838</td>\n",
       "      <td>-0.236437</td>\n",
       "      <td>1.377250</td>\n",
       "    </tr>\n",
       "    <tr>\n",
       "      <th>3</th>\n",
       "      <td>3</td>\n",
       "      <td>1390146</td>\n",
       "      <td>0.053893</td>\n",
       "      <td>-0.162351</td>\n",
       "      <td>1.433710</td>\n",
       "      <td>-0.004227</td>\n",
       "      <td>-0.025078</td>\n",
       "      <td>0.998382</td>\n",
       "      <td>-0.050858</td>\n",
       "      <td>0.041006</td>\n",
       "      <td>...</td>\n",
       "      <td>0.890690</td>\n",
       "      <td>-0.077538</td>\n",
       "      <td>-0.106902</td>\n",
       "      <td>0.913516</td>\n",
       "      <td>0.237712</td>\n",
       "      <td>-0.309051</td>\n",
       "      <td>1.344883</td>\n",
       "      <td>0.208902</td>\n",
       "      <td>-0.240640</td>\n",
       "      <td>1.380791</td>\n",
       "    </tr>\n",
       "    <tr>\n",
       "      <th>4</th>\n",
       "      <td>4</td>\n",
       "      <td>1720109</td>\n",
       "      <td>0.053911</td>\n",
       "      <td>-0.162392</td>\n",
       "      <td>1.433695</td>\n",
       "      <td>0.003329</td>\n",
       "      <td>-0.026128</td>\n",
       "      <td>0.998366</td>\n",
       "      <td>-0.050714</td>\n",
       "      <td>0.040675</td>\n",
       "      <td>...</td>\n",
       "      <td>0.876535</td>\n",
       "      <td>-0.077298</td>\n",
       "      <td>-0.089506</td>\n",
       "      <td>0.898283</td>\n",
       "      <td>0.238099</td>\n",
       "      <td>-0.305895</td>\n",
       "      <td>1.346989</td>\n",
       "      <td>0.216132</td>\n",
       "      <td>-0.241034</td>\n",
       "      <td>1.384105</td>\n",
       "    </tr>\n",
       "    <tr>\n",
       "      <th>...</th>\n",
       "      <td>...</td>\n",
       "      <td>...</td>\n",
       "      <td>...</td>\n",
       "      <td>...</td>\n",
       "      <td>...</td>\n",
       "      <td>...</td>\n",
       "      <td>...</td>\n",
       "      <td>...</td>\n",
       "      <td>...</td>\n",
       "      <td>...</td>\n",
       "      <td>...</td>\n",
       "      <td>...</td>\n",
       "      <td>...</td>\n",
       "      <td>...</td>\n",
       "      <td>...</td>\n",
       "      <td>...</td>\n",
       "      <td>...</td>\n",
       "      <td>...</td>\n",
       "      <td>...</td>\n",
       "      <td>...</td>\n",
       "      <td>...</td>\n",
       "    </tr>\n",
       "    <tr>\n",
       "      <th>392</th>\n",
       "      <td>392</td>\n",
       "      <td>148060801</td>\n",
       "      <td>0.045580</td>\n",
       "      <td>-0.108119</td>\n",
       "      <td>1.455182</td>\n",
       "      <td>0.145699</td>\n",
       "      <td>-0.032601</td>\n",
       "      <td>0.985284</td>\n",
       "      <td>-0.083215</td>\n",
       "      <td>0.035697</td>\n",
       "      <td>...</td>\n",
       "      <td>1.296449</td>\n",
       "      <td>-0.092559</td>\n",
       "      <td>-0.254029</td>\n",
       "      <td>1.321857</td>\n",
       "      <td>0.202861</td>\n",
       "      <td>-0.333698</td>\n",
       "      <td>1.366811</td>\n",
       "      <td>0.174368</td>\n",
       "      <td>-0.281252</td>\n",
       "      <td>1.357269</td>\n",
       "    </tr>\n",
       "    <tr>\n",
       "      <th>393</th>\n",
       "      <td>393</td>\n",
       "      <td>148390054</td>\n",
       "      <td>0.047760</td>\n",
       "      <td>-0.108602</td>\n",
       "      <td>1.454057</td>\n",
       "      <td>0.146402</td>\n",
       "      <td>-0.034822</td>\n",
       "      <td>0.985216</td>\n",
       "      <td>-0.081875</td>\n",
       "      <td>0.036714</td>\n",
       "      <td>...</td>\n",
       "      <td>1.283477</td>\n",
       "      <td>-0.082355</td>\n",
       "      <td>-0.247904</td>\n",
       "      <td>1.308333</td>\n",
       "      <td>0.205852</td>\n",
       "      <td>-0.339056</td>\n",
       "      <td>1.357043</td>\n",
       "      <td>0.179815</td>\n",
       "      <td>-0.286844</td>\n",
       "      <td>1.355428</td>\n",
       "    </tr>\n",
       "    <tr>\n",
       "      <th>394</th>\n",
       "      <td>394</td>\n",
       "      <td>148720241</td>\n",
       "      <td>0.053461</td>\n",
       "      <td>-0.110056</td>\n",
       "      <td>1.451808</td>\n",
       "      <td>0.143861</td>\n",
       "      <td>-0.042106</td>\n",
       "      <td>0.985681</td>\n",
       "      <td>-0.077232</td>\n",
       "      <td>0.038356</td>\n",
       "      <td>...</td>\n",
       "      <td>1.269629</td>\n",
       "      <td>-0.071396</td>\n",
       "      <td>-0.229236</td>\n",
       "      <td>1.298470</td>\n",
       "      <td>0.223491</td>\n",
       "      <td>-0.294592</td>\n",
       "      <td>1.335249</td>\n",
       "      <td>0.207811</td>\n",
       "      <td>-0.229285</td>\n",
       "      <td>1.397500</td>\n",
       "    </tr>\n",
       "    <tr>\n",
       "      <th>395</th>\n",
       "      <td>395</td>\n",
       "      <td>149060797</td>\n",
       "      <td>0.058322</td>\n",
       "      <td>-0.110357</td>\n",
       "      <td>1.450089</td>\n",
       "      <td>0.140336</td>\n",
       "      <td>-0.047608</td>\n",
       "      <td>0.986408</td>\n",
       "      <td>-0.070976</td>\n",
       "      <td>0.039977</td>\n",
       "      <td>...</td>\n",
       "      <td>1.257237</td>\n",
       "      <td>-0.061778</td>\n",
       "      <td>-0.245469</td>\n",
       "      <td>1.286250</td>\n",
       "      <td>0.226005</td>\n",
       "      <td>-0.293617</td>\n",
       "      <td>1.331070</td>\n",
       "      <td>0.215692</td>\n",
       "      <td>-0.243804</td>\n",
       "      <td>1.380643</td>\n",
       "    </tr>\n",
       "    <tr>\n",
       "      <th>396</th>\n",
       "      <td>396</td>\n",
       "      <td>149720085</td>\n",
       "      <td>0.062578</td>\n",
       "      <td>-0.110547</td>\n",
       "      <td>1.447365</td>\n",
       "      <td>0.126031</td>\n",
       "      <td>-0.052293</td>\n",
       "      <td>0.988413</td>\n",
       "      <td>-0.066495</td>\n",
       "      <td>0.041103</td>\n",
       "      <td>...</td>\n",
       "      <td>1.254118</td>\n",
       "      <td>-0.051587</td>\n",
       "      <td>-0.224093</td>\n",
       "      <td>1.269500</td>\n",
       "      <td>0.246137</td>\n",
       "      <td>-0.272540</td>\n",
       "      <td>1.336308</td>\n",
       "      <td>0.226272</td>\n",
       "      <td>-0.278003</td>\n",
       "      <td>1.350714</td>\n",
       "    </tr>\n",
       "  </tbody>\n",
       "</table>\n",
       "<p>397 rows × 101 columns</p>\n",
       "</div>"
      ],
      "text/plain": [
       "     Index       Time  SpineBaseLocX  SpineBaseLocY  SpineBaseLocZ  \\\n",
       "0        0      60878       0.053447      -0.162291       1.434072   \n",
       "1        1     390144       0.054116      -0.162295       1.433774   \n",
       "2        2    1060801       0.053934      -0.162334       1.433705   \n",
       "3        3    1390146       0.053893      -0.162351       1.433710   \n",
       "4        4    1720109       0.053911      -0.162392       1.433695   \n",
       "..     ...        ...            ...            ...            ...   \n",
       "392    392  148060801       0.045580      -0.108119       1.455182   \n",
       "393    393  148390054       0.047760      -0.108602       1.454057   \n",
       "394    394  148720241       0.053461      -0.110056       1.451808   \n",
       "395    395  149060797       0.058322      -0.110357       1.450089   \n",
       "396    396  149720085       0.062578      -0.110547       1.447365   \n",
       "\n",
       "     SpineBaseOrW  SpineBaseOrX  SpineBaseOrY  SpineBaseOrZ  SpineMidLocX  \\\n",
       "0       -0.022577     -0.023818      0.998039     -0.053311      0.040736   \n",
       "1       -0.017966     -0.023970      0.998193     -0.052089      0.041452   \n",
       "2       -0.010826     -0.023720      0.998357     -0.051018      0.041578   \n",
       "3       -0.004227     -0.025078      0.998382     -0.050858      0.041006   \n",
       "4        0.003329     -0.026128      0.998366     -0.050714      0.040675   \n",
       "..            ...           ...           ...           ...           ...   \n",
       "392      0.145699     -0.032601      0.985284     -0.083215      0.035697   \n",
       "393      0.146402     -0.034822      0.985216     -0.081875      0.036714   \n",
       "394      0.143861     -0.042106      0.985681     -0.077232      0.038356   \n",
       "395      0.140336     -0.047608      0.986408     -0.070976      0.039977   \n",
       "396      0.126031     -0.052293      0.988413     -0.066495      0.041103   \n",
       "\n",
       "     ...  HandTipLeftLocZ  ThumbLeftLocX  ThumbLeftLocY  ThumbLeftLocZ  \\\n",
       "0    ...         1.014916      -0.069032      -0.154633       1.041190   \n",
       "1    ...         0.981035      -0.060905      -0.172562       1.021500   \n",
       "2    ...         0.912276      -0.072966      -0.132589       0.928683   \n",
       "3    ...         0.890690      -0.077538      -0.106902       0.913516   \n",
       "4    ...         0.876535      -0.077298      -0.089506       0.898283   \n",
       "..   ...              ...            ...            ...            ...   \n",
       "392  ...         1.296449      -0.092559      -0.254029       1.321857   \n",
       "393  ...         1.283477      -0.082355      -0.247904       1.308333   \n",
       "394  ...         1.269629      -0.071396      -0.229236       1.298470   \n",
       "395  ...         1.257237      -0.061778      -0.245469       1.286250   \n",
       "396  ...         1.254118      -0.051587      -0.224093       1.269500   \n",
       "\n",
       "     HandTipRightLocX  HandTipRightLocY  HandTipRightLocZ  ThumbRightLocX  \\\n",
       "0            0.240742         -0.306784          1.351699        0.218990   \n",
       "1            0.239906         -0.310283          1.350658        0.219084   \n",
       "2            0.237392         -0.309386          1.346722        0.205838   \n",
       "3            0.237712         -0.309051          1.344883        0.208902   \n",
       "4            0.238099         -0.305895          1.346989        0.216132   \n",
       "..                ...               ...               ...             ...   \n",
       "392          0.202861         -0.333698          1.366811        0.174368   \n",
       "393          0.205852         -0.339056          1.357043        0.179815   \n",
       "394          0.223491         -0.294592          1.335249        0.207811   \n",
       "395          0.226005         -0.293617          1.331070        0.215692   \n",
       "396          0.246137         -0.272540          1.336308        0.226272   \n",
       "\n",
       "     ThumbRightLocY  ThumbRightLocZ  \n",
       "0         -0.299937        1.359273  \n",
       "1         -0.298437        1.360628  \n",
       "2         -0.236437        1.377250  \n",
       "3         -0.240640        1.380791  \n",
       "4         -0.241034        1.384105  \n",
       "..              ...             ...  \n",
       "392       -0.281252        1.357269  \n",
       "393       -0.286844        1.355428  \n",
       "394       -0.229285        1.397500  \n",
       "395       -0.243804        1.380643  \n",
       "396       -0.278003        1.350714  \n",
       "\n",
       "[397 rows x 101 columns]"
      ]
     },
     "execution_count": 240,
     "metadata": {},
     "output_type": "execute_result"
    }
   ],
   "source": [
    "# Loading of a random skeleton after columns computation\n",
    "columns = computeUsedColumns()\n",
    "skeleton = loadEggnogSkeleton(\"s09/part1_layout_p18/20151202_220007_00_Skeleton.txt\", columns)"
   ]
  },
  {
   "cell_type": "code",
   "execution_count": 155,
   "metadata": {},
   "outputs": [],
   "source": [
    "xTrain, yTrain=removeSamples(xTrain, yTrain, 50000)"
   ]
  },
  {
   "cell_type": "code",
   "execution_count": 156,
   "metadata": {},
   "outputs": [
    {
     "data": {
      "image/png": "[encoded data removed]",
      "text/plain": [
       "<Figure size 432x288 with 1 Axes>"
      ]
     },
     "metadata": {},
     "output_type": "display_data"
    },
    {
     "data": {
      "image/png": "[encoded data removed]",
      "text/plain": [
       "<Figure size 432x288 with 1 Axes>"
      ]
     },
     "metadata": {},
     "output_type": "display_data"
    }
   ],
   "source": [
    "plotRatio(yTrain)\n",
    "plotRatio(yVal)"
   ]
  },
  {
   "cell_type": "code",
   "execution_count": 157,
   "metadata": {},
   "outputs": [
    {
     "name": "stdout",
     "output_type": "stream",
     "text": [
      "counting true labels\n",
      "Found 10113 TRUE samples out of 123475 total samples\n",
      "Equalizing samples\n",
      "Samples equalized with 0.5 ratio\n"
     ]
    }
   ],
   "source": [
    "xTrain, yTrain=equalizeSamples(xTrain, yTrain, 0.5)\n",
    "#xVal, yVal=equalizeSamples(xVal, yVal, 0.5)"
   ]
  },
  {
   "cell_type": "code",
   "execution_count": 158,
   "metadata": {},
   "outputs": [
    {
     "data": {
      "image/png": "[encoded data removed]",
      "text/plain": [
       "<Figure size 432x288 with 1 Axes>"
      ]
     },
     "metadata": {},
     "output_type": "display_data"
    },
    {
     "data": {
      "image/png": "[encoded data removed]",
      "text/plain": [
       "<Figure size 432x288 with 1 Axes>"
      ]
     },
     "metadata": {},
     "output_type": "display_data"
    }
   ],
   "source": [
    "plotRatio(yTrain)\n",
    "plotRatio(yVal)"
   ]
  },
  {
   "cell_type": "code",
   "execution_count": 197,
   "metadata": {},
   "outputs": [],
   "source": [
    "shape=(len(xTrain[0]), len(xTrain[0][0]))\n",
    "#model=createLSTM(100, 1, shape)\n",
    "model=createModel(cell_type=\"LSTM\", n_layers=2, n_hidden=160, n_fc1=160, n_frames=len(xTrain[0]), skel_dim=len(xTrain[0][0]))"
   ]
  },
  {
   "cell_type": "code",
   "execution_count": null,
   "metadata": {},
   "outputs": [
    {
     "name": "stdout",
     "output_type": "stream",
     "text": [
      "Train on 226724 samples, validate on 56181 samples\n",
      "Epoch 1/40\n",
      "226724/226724 [==============================] - 205s 906us/sample - loss: 0.6871 - val_loss: 0.6456\n",
      "Epoch 2/40\n",
      "226724/226724 [==============================] - 204s 898us/sample - loss: 0.6807 - val_loss: 0.5868\n",
      "Epoch 3/40\n",
      "166176/226724 [====================>.........] - ETA: 51s - loss: 0.3373"
     ]
    }
   ],
   "source": [
    "yTrainBinary=tf.keras.utils.to_categorical(yTrain)\n",
    "yValBinary=tf.keras.utils.to_categorical(yVal)\n",
    "\n",
    "history=trainLSTM(model, 40, 64, xTrain, yTrainBinary, xVal, yValBinary)"
   ]
  },
  {
   "cell_type": "code",
   "execution_count": 199,
   "metadata": {
    "scrolled": false
   },
   "outputs": [
    {
     "data": {
      "image/png": "[encoded data removed]",
      "text/plain": [
       "<Figure size 432x288 with 1 Axes>"
      ]
     },
     "metadata": {
      "needs_background": "light"
     },
     "output_type": "display_data"
    }
   ],
   "source": [
    "plot_train_history(history, 'Single Step Training and validation loss')"
   ]
  },
  {
   "cell_type": "code",
   "execution_count": 184,
   "metadata": {},
   "outputs": [],
   "source": [
    "#model.save(\"/home/lepluard/denver/workspace/data\")\n",
    "#modelV2=tf.keras.models.load_model(\"/home/lepluard/denver/workspace/data\")"
   ]
  },
  {
   "cell_type": "code",
   "execution_count": 200,
   "metadata": {},
   "outputs": [
    {
     "name": "stdout",
     "output_type": "stream",
     "text": [
      "2565\n"
     ]
    }
   ],
   "source": [
    "count=0\n",
    "for i in range (len(yVal)):\n",
    "    if (yVal[i]==1):\n",
    "        count+=1\n",
    "        \n",
    "print(count)"
   ]
  },
  {
   "cell_type": "code",
   "execution_count": 201,
   "metadata": {},
   "outputs": [],
   "source": [
    "a=np.array(xVal)"
   ]
  },
  {
   "cell_type": "code",
   "execution_count": 202,
   "metadata": {},
   "outputs": [],
   "source": [
    "b=np.array(yVal)"
   ]
  },
  {
   "cell_type": "code",
   "execution_count": 203,
   "metadata": {},
   "outputs": [],
   "source": [
    "predictedValues=model.predict(a)"
   ]
  },
  {
   "cell_type": "code",
   "execution_count": 204,
   "metadata": {},
   "outputs": [
    {
     "data": {
      "text/plain": [
       "array([9.999722e-01, 2.774924e-05], dtype=float32)"
      ]
     },
     "execution_count": 204,
     "metadata": {},
     "output_type": "execute_result"
    }
   ],
   "source": [
    "predictedValues[0]"
   ]
  },
  {
   "cell_type": "code",
   "execution_count": 205,
   "metadata": {},
   "outputs": [],
   "source": [
    "plotRange=1000"
   ]
  },
  {
   "cell_type": "code",
   "execution_count": 206,
   "metadata": {
    "scrolled": true
   },
   "outputs": [
    {
     "data": {
      "text/plain": [
       "[<matplotlib.lines.Line2D at 0x7fb5e5e79390>,\n",
       " <matplotlib.lines.Line2D at 0x7fb5e5e794a8>]"
      ]
     },
     "execution_count": 206,
     "metadata": {},
     "output_type": "execute_result"
    },
    {
     "data": {
      "image/png": "[encoded data removed]",
      "text/plain": [
       "<Figure size 432x288 with 1 Axes>"
      ]
     },
     "metadata": {
      "needs_background": "light"
     },
     "output_type": "display_data"
    }
   ],
   "source": [
    "plt.plot(predictedValues[:plotRange])"
   ]
  },
  {
   "cell_type": "code",
   "execution_count": 207,
   "metadata": {},
   "outputs": [
    {
     "data": {
      "text/plain": [
       "[<matplotlib.lines.Line2D at 0x7fb63abf2780>]"
      ]
     },
     "execution_count": 207,
     "metadata": {},
     "output_type": "execute_result"
    },
    {
     "data": {
      "image/png": "[encoded data removed]",
      "text/plain": [
       "<Figure size 432x288 with 1 Axes>"
      ]
     },
     "metadata": {
      "needs_background": "light"
     },
     "output_type": "display_data"
    }
   ],
   "source": [
    "plt.plot(b[:plotRange])"
   ]
  },
  {
   "cell_type": "code",
   "execution_count": null,
   "metadata": {},
   "outputs": [],
   "source": [
    "\n"
   ]
  },
  {
   "cell_type": "code",
   "execution_count": null,
   "metadata": {},
   "outputs": [],
   "source": []
  },
  {
   "cell_type": "code",
   "execution_count": null,
   "metadata": {},
   "outputs": [],
   "source": []
  },
  {
   "cell_type": "code",
   "execution_count": null,
   "metadata": {},
   "outputs": [],
   "source": []
  },
  {
   "cell_type": "code",
   "execution_count": 208,
   "metadata": {},
   "outputs": [],
   "source": [
    "y_pred=model.predict_classes(a)"
   ]
  },
  {
   "cell_type": "code",
   "execution_count": 209,
   "metadata": {},
   "outputs": [
    {
     "data": {
      "text/plain": [
       "[<matplotlib.lines.Line2D at 0x7fb66c975978>]"
      ]
     },
     "execution_count": 209,
     "metadata": {},
     "output_type": "execute_result"
    },
    {
     "data": {
      "image/png": "[encoded data removed]",
      "text/plain": [
       "<Figure size 432x288 with 1 Axes>"
      ]
     },
     "metadata": {
      "needs_background": "light"
     },
     "output_type": "display_data"
    }
   ],
   "source": [
    "plt.plot(y_pred[:1000])\n"
   ]
  },
  {
   "cell_type": "code",
   "execution_count": 210,
   "metadata": {},
   "outputs": [
    {
     "data": {
      "text/plain": [
       "[<matplotlib.lines.Line2D at 0x7fb5cc3f4898>]"
      ]
     },
     "execution_count": 210,
     "metadata": {},
     "output_type": "execute_result"
    },
    {
     "data": {
      "image/png": "[encoded data removed]",
      "text/plain": [
       "<Figure size 432x288 with 1 Axes>"
      ]
     },
     "metadata": {
      "needs_background": "light"
     },
     "output_type": "display_data"
    }
   ],
   "source": [
    "plt.plot(yVal[:1000])\n"
   ]
  },
  {
   "cell_type": "code",
   "execution_count": 211,
   "metadata": {},
   "outputs": [
    {
     "name": "stdout",
     "output_type": "stream",
     "text": [
      "Model: \"sequential_5\"\n",
      "_________________________________________________________________\n",
      "Layer (type)                 Output Shape              Param #   \n",
      "=================================================================\n",
      "lstm_10 (LSTM)               (None, 20, 160)           166400    \n",
      "_________________________________________________________________\n",
      "lstm_11 (LSTM)               (None, 160)               205440    \n",
      "_________________________________________________________________\n",
      "dense_10 (Dense)             (None, 160)               25760     \n",
      "_________________________________________________________________\n",
      "dense_11 (Dense)             (None, 2)                 322       \n",
      "_________________________________________________________________\n",
      "softmax_5 (Softmax)          (None, 2)                 0         \n",
      "=================================================================\n",
      "Total params: 397,922\n",
      "Trainable params: 397,922\n",
      "Non-trainable params: 0\n",
      "_________________________________________________________________\n"
     ]
    }
   ],
   "source": [
    "model.summary()"
   ]
  },
  {
   "cell_type": "code",
   "execution_count": null,
   "metadata": {},
   "outputs": [],
   "source": []
  },
  {
   "cell_type": "code",
   "execution_count": null,
   "metadata": {},
   "outputs": [],
   "source": []
  },
  {
   "cell_type": "code",
   "execution_count": null,
   "metadata": {},
   "outputs": [],
   "source": []
  },
  {
   "cell_type": "code",
   "execution_count": null,
   "metadata": {},
   "outputs": [],
   "source": []
  },
  {
   "cell_type": "code",
   "execution_count": null,
   "metadata": {},
   "outputs": [],
   "source": []
  },
  {
   "cell_type": "code",
   "execution_count": null,
   "metadata": {},
   "outputs": [],
   "source": []
  },
  {
   "cell_type": "code",
   "execution_count": null,
   "metadata": {},
   "outputs": [],
   "source": []
  },
  {
   "cell_type": "code",
   "execution_count": null,
   "metadata": {},
   "outputs": [],
   "source": []
  },
  {
   "cell_type": "code",
   "execution_count": null,
   "metadata": {},
   "outputs": [],
   "source": []
  },
  {
   "cell_type": "code",
   "execution_count": null,
   "metadata": {},
   "outputs": [],
   "source": []
  },
  {
   "cell_type": "code",
   "execution_count": null,
   "metadata": {},
   "outputs": [],
   "source": []
  },
  {
   "cell_type": "code",
   "execution_count": 212,
   "metadata": {},
   "outputs": [],
   "source": [
    "TP=0\n",
    "TN=0\n",
    "FP=0\n",
    "FN=0"
   ]
  },
  {
   "cell_type": "code",
   "execution_count": 213,
   "metadata": {},
   "outputs": [],
   "source": [
    "\n",
    "for i in range(len(y_pred)):\n",
    "    if (b[i]==1 and y_pred[i]==1):\n",
    "        TP+=1\n",
    "    elif (b[i]==0 and y_pred[i]==0):\n",
    "        TN+=1\n",
    "    elif (b[i]==0 and y_pred[i]==1):\n",
    "        FP+=1\n",
    "    elif (b[i]==1 and y_pred[i]==0):\n",
    "        FN+=1"
   ]
  },
  {
   "cell_type": "code",
   "execution_count": 214,
   "metadata": {},
   "outputs": [],
   "source": [
    "confusionMatrix=[[TP, FP], [FN, TN]]"
   ]
  },
  {
   "cell_type": "code",
   "execution_count": 215,
   "metadata": {},
   "outputs": [
    {
     "data": {
      "text/plain": [
       "[[197, 3842], [2368, 49774]]"
      ]
     },
     "execution_count": 215,
     "metadata": {},
     "output_type": "execute_result"
    }
   ],
   "source": [
    "confusionMatrix"
   ]
  },
  {
   "cell_type": "code",
   "execution_count": 216,
   "metadata": {
    "scrolled": true
   },
   "outputs": [
    {
     "name": "stdout",
     "output_type": "stream",
     "text": [
      "[197, 3842]\n",
      "[2368, 49774]\n"
     ]
    }
   ],
   "source": [
    "print([TP, FP])\n",
    "print([FN, TN])"
   ]
  },
  {
   "cell_type": "code",
   "execution_count": null,
   "metadata": {},
   "outputs": [],
   "source": []
  },
  {
   "cell_type": "code",
   "execution_count": null,
   "metadata": {},
   "outputs": [],
   "source": []
  },
  {
   "cell_type": "code",
   "execution_count": 217,
   "metadata": {},
   "outputs": [
    {
     "data": {
      "text/plain": [
       "0.889464409675869"
      ]
     },
     "execution_count": 217,
     "metadata": {},
     "output_type": "execute_result"
    }
   ],
   "source": [
    "(TP+TN)/(TP+FP+FN+TN)"
   ]
  },
  {
   "cell_type": "code",
   "execution_count": 218,
   "metadata": {},
   "outputs": [
    {
     "data": {
      "text/plain": [
       "0.07680311890838207"
      ]
     },
     "execution_count": 218,
     "metadata": {},
     "output_type": "execute_result"
    }
   ],
   "source": [
    "TP/(TP+FN)"
   ]
  },
  {
   "cell_type": "code",
   "execution_count": null,
   "metadata": {},
   "outputs": [],
   "source": []
  },
  {
   "cell_type": "code",
   "execution_count": null,
   "metadata": {},
   "outputs": [],
   "source": []
  },
  {
   "cell_type": "code",
   "execution_count": null,
   "metadata": {},
   "outputs": [],
   "source": []
  },
  {
   "cell_type": "code",
   "execution_count": null,
   "metadata": {},
   "outputs": [],
   "source": []
  },
  {
   "cell_type": "code",
   "execution_count": null,
   "metadata": {},
   "outputs": [],
   "source": []
  },
  {
   "cell_type": "code",
   "execution_count": 171,
   "metadata": {},
   "outputs": [],
   "source": [
    "#dic = {\"a1\":\"valuea1\", \"b2\": \"valueb2\", \"c3\": \"valuec3\"}\n",
    "#a = list(dic.keys())\n",
    "#a[0]"
   ]
  },
  {
   "cell_type": "code",
   "execution_count": null,
   "metadata": {},
   "outputs": [],
   "source": []
  },
  {
   "cell_type": "code",
   "execution_count": null,
   "metadata": {},
   "outputs": [],
   "source": []
  },
  {
   "cell_type": "code",
   "execution_count": null,
   "metadata": {},
   "outputs": [],
   "source": []
  },
  {
   "cell_type": "code",
   "execution_count": null,
   "metadata": {},
   "outputs": [],
   "source": []
  },
  {
   "cell_type": "code",
   "execution_count": null,
   "metadata": {},
   "outputs": [],
   "source": []
  },
  {
   "cell_type": "code",
   "execution_count": null,
   "metadata": {},
   "outputs": [],
   "source": []
  },
  {
   "cell_type": "code",
   "execution_count": null,
   "metadata": {},
   "outputs": [],
   "source": []
  },
  {
   "cell_type": "code",
   "execution_count": null,
   "metadata": {},
   "outputs": [],
   "source": []
  },
  {
   "cell_type": "code",
   "execution_count": null,
   "metadata": {},
   "outputs": [],
   "source": []
  },
  {
   "cell_type": "code",
   "execution_count": null,
   "metadata": {},
   "outputs": [],
   "source": []
  },
  {
   "cell_type": "code",
   "execution_count": null,
   "metadata": {},
   "outputs": [],
   "source": []
  },
  {
   "cell_type": "code",
   "execution_count": null,
   "metadata": {},
   "outputs": [],
   "source": []
  },
  {
   "cell_type": "code",
   "execution_count": null,
   "metadata": {},
   "outputs": [],
   "source": []
  }
 ],
 "metadata": {
  "kernelspec": {
   "display_name": "Python 3",
   "language": "python",
   "name": "python3"
  },
  "language_info": {
   "codemirror_mode": {
    "name": "ipython",
    "version": 3
   },
   "file_extension": ".py",
   "mimetype": "text/x-python",
   "name": "python",
   "nbconvert_exporter": "python",
   "pygments_lexer": "ipython3",
   "version": "3.7.5"
  }
 },
 "nbformat": 4,
 "nbformat_minor": 4
}
