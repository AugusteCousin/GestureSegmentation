{
 "cells": [
  {
   "cell_type": "code",
   "execution_count": 5,
   "metadata": {},
   "outputs": [],
   "source": [
    "# 1. Drop unneeded columns in frames data\n",
    "\n",
    "# header computed on one frame row (skipping rows 2-6) with following replace regex\n",
    "# ([A-z]+)\\s*\\w+\\s+[\\-0-9\\.]+\\s+[\\-0-9\\.]+\\s+[\\-0-9\\.]+\\s+[\\-0-9\\.]+\\s+[\\-0-9\\.]+\\s+[\\-0-9\\.]+\\s+[\\-0-9\\.]+\\s+\n",
    "# $1\\t$1Status\\t$1LocX\\t$1LocY\\t$1LocZ\\t$1OrW\\t$1OrX\\t$1OrY\\t$1OrZ\\t\n",
    "header = [\"Index\",\"Time\",\"SkeletonId\",\"HandLeftConfidence\",\"HandLeftState\",\"HandRightConfidence\",\"HandRightState\",\"SpineBase\",\"SpineBaseStatus\",\"SpineBaseLocX\",\"SpineBaseLocY\",\"SpineBaseLocZ\",\"SpineBaseOrW\",\"SpineBaseOrX\",\"SpineBaseOrY\",\"SpineBaseOrZ\",\"SpineMid\",\"SpineMidStatus\",\"SpineMidLocX\",\"SpineMidLocY\",\"SpineMidLocZ\",\"SpineMidOrW\",\"SpineMidOrX\",\"SpineMidOrY\",\"SpineMidOrZ\",\"Neck\",\"NeckStatus\",\"NeckLocX\",\"NeckLocY\",\"NeckLocZ\",\"NeckOrW\",\"NeckOrX\",\"NeckOrY\",\"NeckOrZ\",\"Head\",\"HeadStatus\",\"HeadLocX\",\"HeadLocY\",\"HeadLocZ\",\"HeadOrW\",\"HeadOrX\",\"HeadOrY\",\"HeadOrZ\",\"ShoulderLeft\",\"ShoulderLeftStatus\",\"ShoulderLeftLocX\",\"ShoulderLeftLocY\",\"ShoulderLeftLocZ\",\"ShoulderLeftOrW\",\"ShoulderLeftOrX\",\"ShoulderLeftOrY\",\"ShoulderLeftOrZ\",\"ElbowLeft\",\"ElbowLeftStatus\",\"ElbowLeftLocX\",\"ElbowLeftLocY\",\"ElbowLeftLocZ\",\"ElbowLeftOrW\",\"ElbowLeftOrX\",\"ElbowLeftOrY\",\"ElbowLeftOrZ\",\"WristLeft\",\"WristLeftStatus\",\"WristLeftLocX\",\"WristLeftLocY\",\"WristLeftLocZ\",\"WristLeftOrW\",\"WristLeftOrX\",\"WristLeftOrY\",\"WristLeftOrZ\",\"HandLeft\",\"HandLeftStatus\",\"HandLeftLocX\",\"HandLeftLocY\",\"HandLeftLocZ\",\"HandLeftOrW\",\"HandLeftOrX\",\"HandLeftOrY\",\"HandLeftOrZ\",\"ShoulderRight\",\"ShoulderRightStatus\",\"ShoulderRightLocX\",\"ShoulderRightLocY\",\"ShoulderRightLocZ\",\"ShoulderRightOrW\",\"ShoulderRightOrX\",\"ShoulderRightOrY\",\"ShoulderRightOrZ\",\"ElbowRight\",\"ElbowRightStatus\",\"ElbowRightLocX\",\"ElbowRightLocY\",\"ElbowRightLocZ\",\"ElbowRightOrW\",\"ElbowRightOrX\",\"ElbowRightOrY\",\"ElbowRightOrZ\",\"WristRight\",\"WristRightStatus\",\"WristRightLocX\",\"WristRightLocY\",\"WristRightLocZ\",\"WristRightOrW\",\"WristRightOrX\",\"WristRightOrY\",\"WristRightOrZ\",\"HandRight\",\"HandRightStatus\",\"HandRightLocX\",\"HandRightLocY\",\"HandRightLocZ\",\"HandRightOrW\",\"HandRightOrX\",\"HandRightOrY\",\"HandRightOrZ\",\"HipLeft\",\"HipLeftStatus\",\"HipLeftLocX\",\"HipLeftLocY\",\"HipLeftLocZ\",\"HipLeftOrW\",\"HipLeftOrX\",\"HipLeftOrY\",\"HipLeftOrZ\",\"KneeLeft\",\"KneeLeftStatus\",\"KneeLeftLocX\",\"KneeLeftLocY\",\"KneeLeftLocZ\",\"KneeLeftOrW\",\"KneeLeftOrX\",\"KneeLeftOrY\",\"KneeLeftOrZ\",\"AnkleLeft\",\"AnkleLeftStatus\",\"AnkleLeftLocX\",\"AnkleLeftLocY\",\"AnkleLeftLocZ\",\"AnkleLeftOrW\",\"AnkleLeftOrX\",\"AnkleLeftOrY\",\"AnkleLeftOrZ\",\"FootLeft\",\"FootLeftStatus\",\"FootLeftLocX\",\"FootLeftLocY\",\"FootLeftLocZ\",\"FootLeftOrW\",\"FootLeftOrX\",\"FootLeftOrY\",\"FootLeftOrZ\",\"HipRight\",\"HipRightStatus\",\"HipRightLocX\",\"HipRightLocY\",\"HipRightLocZ\",\"HipRightOrW\",\"HipRightOrX\",\"HipRightOrY\",\"HipRightOrZ\",\"KneeRight\",\"KneeRightStatus\",\"KneeRightLocX\",\"KneeRightLocY\",\"KneeRightLocZ\",\"KneeRightOrW\",\"KneeRightOrX\",\"KneeRightOrY\",\"KneeRightOrZ\",\"AnkleRight\",\"AnkleRightStatus\",\"AnkleRightLocX\",\"AnkleRightLocY\",\"AnkleRightLocZ\",\"AnkleRightOrW\",\"AnkleRightOrX\",\"AnkleRightOrY\",\"AnkleRightOrZ\",\"FootRight\",\"FootRightStatus\",\"FootRightLocX\",\"FootRightLocY\",\"FootRightLocZ\",\"FootRightOrW\",\"FootRightOrX\",\"FootRightOrY\",\"FootRightOrZ\",\"SpineShoulder\",\"SpineShoulderStatus\",\"SpineShoulderLocX\",\"SpineShoulderLocY\",\"SpineShoulderLocZ\",\"SpineShoulderOrW\",\"SpineShoulderOrX\",\"SpineShoulderOrY\",\"SpineShoulderOrZ\",\"HandTipLeft\",\"HandTipLeftStatus\",\"HandTipLeftLocX\",\"HandTipLeftLocY\",\"HandTipLeftLocZ\",\"HandTipLeftOrW\",\"HandTipLeftOrX\",\"HandTipLeftOrY\",\"HandTipLeftOrZ\",\"ThumbLeft\",\"ThumbLeftStatus\",\"ThumbLeftLocX\",\"ThumbLeftLocY\",\"ThumbLeftLocZ\",\"ThumbLeftOrW\",\"ThumbLeftOrX\",\"ThumbLeftOrY\",\"ThumbLeftOrZ\",\"HandTipRight\",\"HandTipRightStatus\",\"HandTipRightLocX\",\"HandTipRightLocY\",\"HandTipRightLocZ\",\"HandTipRightOrW\",\"HandTipRightOrX\",\"HandTipRightOrY\",\"HandTipRightOrZ\",\"ThumbRight\",\"ThumbRightStatus\",\"ThumbRightLocX\",\"ThumbRightLocY\",\"ThumbRightLocZ\",\"ThumbRightOrW\",\"ThumbRightOrX\",\"ThumbRightOrY\",\"ThumbRightOrZ\"]\n",
    "cols = dict()\n",
    "for i in range(len(header)) :\n",
    "    cols[i] = header[i]\n",
    "    \n",
    "# confidence\n",
    "for i in range(2,7) :\n",
    "    del cols[i]\n",
    "    \n",
    "# joint name\n",
    "for i in range(7,224,9) :\n",
    "    del cols[i]\n",
    "    \n",
    "# 8 lower joints\n",
    "for i in [116, 125, 134, 143, 152, 161, 170, 179] :\n",
    "    for j in range(8) :\n",
    "        del cols[i+j]\n",
    "        \n",
    "# always null orientations\n",
    "for i in [39, 201, 210, 219, 228] :\n",
    "    for j in range(4) :\n",
    "        del cols[i+j]\n",
    "\n",
    "# remove tracking status features\n",
    "for i in [8, 17, 26, 35, 44, 53, 62, 71, 80, 89, 98, 107, 188, 197, 206, 215, 224] :\n",
    "    del cols[i]\n",
    "    \n",
    "        \n",
    "import pandas as pd\n",
    "import numpy as np\n",
    "import matplotlib.pyplot as plt\n",
    "\n",
    "def load_eggnog_skeleton(filepath):\n",
    "    filepath = \"datasets/eggnog.original/\" + filepath\n",
    "    dataframe = pd.read_csv(filepath, header=None, skiprows=[0], usecols=list(cols.keys()), names=list(cols.values()))\n",
    "    return dataframe"
   ]
  },
  {
   "cell_type": "code",
   "execution_count": 6,
   "metadata": {},
   "outputs": [],
   "source": [
    "# 2. Train & test set construction\n",
    "\n",
    "# hyperparameters\n",
    "# moveDetectionDuraction (ns) : window of time around which the frames are considered as a start/end frame [-moveDetectionDuration,moveDetectionDuration]\n",
    "moveDetectionDuration = 100000 # 20 ms\n",
    "\n",
    "\n",
    "def load_timestamps(filepath):\n",
    "    filepath = \"datasets/eggnog.original/\" + filepath\n",
    "    # print(filepath)\n",
    "    dataframe = pd.read_csv(filepath)\n",
    "    return dataframe\n",
    "\n",
    "def createFrameTest(sFrames, eFrames, timestamps) :\n",
    "    def getFrameLabels(frame) :\n",
    "        isSF, isEF = False, False\n",
    "        for f in sFrames :\n",
    "            if abs(frame[1] - timestamps[f][1]) < moveDetectionDuration :\n",
    "                isSF = True\n",
    "                #print(timestamps[f][1] - moveDetectionDuration, \"<\", frame[1], \"<\", timestamps[f][1] + moveDetectionDuration, \"for frame\",f)\n",
    "                break\n",
    "#        for f in eFrames :\n",
    "#            if abs(frame[1] - f*1000000000/30) < moveDetectionDuration :\n",
    "#                isEF = True\n",
    "#                print(frame[1], \"ef frame\", f)\n",
    "#                break\n",
    "        return isSF\n",
    "    return getFrameLabels\n",
    "    \n"
   ]
  },
  {
   "cell_type": "code",
   "execution_count": 7,
   "metadata": {},
   "outputs": [
    {
     "name": "stdout",
     "output_type": "stream",
     "text": [
      "s01/part1_layout_p02/20151105_191251_00\n",
      "s01/part1_layout_p02/20151105_192144_00\n",
      "s01/part1_layout_p02/20151105_192312_00\n",
      "s01/part1_layout_p02/20151105_192407_00\n",
      "s01/part1_layout_p02/20151105_192610_00\n",
      "s01/part1_layout_p02/20151105_192717_00\n",
      "s01/part1_layout_p02/20151105_193157_00\n",
      "s01/part2_layout_p01/20151105_194301_00\n",
      "s01/part2_layout_p01/20151105_194456_00\n",
      "s01/part2_layout_p01/20151105_194650_00\n",
      "s01/part2_layout_p01/20151105_194955_00\n",
      "s01/part2_layout_p01/20151105_195111_00\n",
      "s01/part2_layout_p01/20151105_195450_00\n",
      "s02/part1_layout_p04/20151106_214357_00\n",
      "s02/part1_layout_p04/20151106_214521_00\n",
      "s02/part1_layout_p04/20151106_214647_00\n",
      "s02/part1_layout_p04/20151106_215028_00\n",
      "s02/part1_layout_p04/20151106_215120_00\n",
      "s02/part1_layout_p04/20151106_215320_00\n",
      "s02/part1_layout_p04/20151106_215547_00\n",
      "s02/part1_layout_p04/20151106_215829_00\n",
      "s02/part2_layout_p03/20151106_220752_00\n",
      "s02/part2_layout_p03/20151106_220857_00\n",
      "s02/part2_layout_p03/20151106_221002_00\n",
      "s02/part2_layout_p03/20151106_221038_00\n",
      "s02/part2_layout_p03/20151106_221259_00\n",
      "s02/part2_layout_p03/20151106_221434_00\n",
      "s02/part2_layout_p03/20151106_221752_00\n",
      "s02/part2_layout_p03/20151106_222114_00\n",
      "s02/part2_layout_p03/20151106_222352_00\n",
      "s03/part1_layout_p06/20151109_191547_00\n",
      "s03/part1_layout_p06/20151109_191726_00\n",
      "s03/part1_layout_p06/20151109_191826_00\n",
      "s03/part1_layout_p06/20151109_191947_00\n",
      "s03/part1_layout_p06/20151109_192232_00\n",
      "s03/part1_layout_p06/20151109_192321_00\n",
      "s03/part1_layout_p06/20151109_192442_00\n",
      "s03/part1_layout_p06/20151109_192740_00\n",
      "s03/part1_layout_p06/20151109_192824_00\n",
      "s03/part2_layout_p05/20151109_193224_00\n",
      "s03/part2_layout_p05/20151109_193356_00\n",
      "s03/part2_layout_p05/20151109_193627_00\n",
      "s03/part2_layout_p05/20151109_193937_00\n",
      "s03/part2_layout_p05/20151109_194134_00\n",
      "s03/part2_layout_p05/20151109_194414_00\n",
      "s03/part2_layout_p05/20151109_194614_00\n",
      "s03/part2_layout_p05/20151109_194757_00\n",
      "s03/part2_layout_p05/20151109_195011_00\n",
      "s03/part2_layout_p05/20151109_195206_00\n",
      "s04/part1_layout_p08/20151113_223703_00\n",
      "s04/part1_layout_p08/20151113_223852_00\n",
      "s04/part1_layout_p08/20151113_224003_00\n",
      "s04/part1_layout_p08/20151113_224154_00\n",
      "s04/part1_layout_p08/20151113_224315_00\n",
      "s04/part1_layout_p08/20151113_224707_00\n",
      "s04/part1_layout_p08/20151113_224853_00\n",
      "s04/part1_layout_p08/20151113_225008_00\n",
      "s04/part1_layout_p08/20151113_225206_00\n",
      "s04/part1_layout_p08/20151113_225331_00\n",
      "s04/part2_layout_p07/20151113_225809_00\n",
      "s04/part2_layout_p07/20151113_225947_00\n",
      "s04/part2_layout_p07/20151113_230041_00\n",
      "s04/part2_layout_p07/20151113_230200_00\n",
      "s04/part2_layout_p07/20151113_230303_00\n",
      "s04/part2_layout_p07/20151113_230636_00\n",
      "s04/part2_layout_p07/20151113_230739_00\n",
      "s04/part2_layout_p07/20151113_230916_00\n",
      "s04/part2_layout_p07/20151113_231040_00\n",
      "s04/part2_layout_p07/20151113_231148_00\n",
      "s05/part1_layout_p10/20151114_013643_00\n",
      "s05/part1_layout_p10/20151114_013925_00 ignored, no frame file found\n",
      "s05/part1_layout_p10/20151114_014052_00 ignored, no frame file found\n",
      "s05/part1_layout_p10/20151114_014301_00 ignored, no frame file found\n",
      "s05/part1_layout_p10/20151114_014439_00 ignored, no frame file found\n",
      "s05/part1_layout_p10/20151114_014811_00 ignored, no frame file found\n",
      "s05/part1_layout_p10/20151114_014908_00 ignored, no frame file found\n",
      "s05/part1_layout_p10/20151114_015112_00 ignored, no frame file found\n",
      "s05/part2_layout_p09/20151114_020248_00 ignored, no frame file found\n",
      "s05/part2_layout_p09/20151114_021330_00 ignored, no frame file found\n",
      "s05/part2_layout_p09/20151114_021514_00 ignored, no frame file found\n",
      "s05/part2_layout_p09/20151114_021614_00 ignored, no frame file found\n",
      "s05/part2_layout_p09/20151114_021757_00 ignored, no frame file found\n",
      "s05/part2_layout_p09/20151114_022008_00 ignored, no frame file found\n",
      "s06/part1_layout_p12/20151116_210615_00 ignored, no frame file found\n",
      "s06/part1_layout_p12/20151116_211101_00 ignored, no frame file found\n",
      "s06/part1_layout_p12/20151116_211141_00 ignored, no frame file found\n",
      "s06/part1_layout_p12/20151116_211449_00 ignored, no frame file found\n",
      "s06/part1_layout_p12/20151116_211545_00 ignored, no frame file found\n",
      "s06/part1_layout_p12/20151116_211627_00 ignored, no frame file found\n",
      "s06/part1_layout_p12/20151116_211720_00 ignored, no frame file found\n",
      "s06/part1_layout_p12/20151116_211802_00 ignored, no frame file found\n",
      "s06/part1_layout_p12/20151116_211928_00 ignored, no frame file found\n",
      "s06/part1_layout_p12/20151116_212006_00 ignored, no frame file found\n",
      "s06/part2_layout_p11/20151116_212250_00 ignored, no frame file found\n",
      "s06/part2_layout_p11/20151116_212431_00 ignored, no frame file found\n",
      "s06/part2_layout_p11/20151116_212521_00 ignored, no frame file found\n",
      "s06/part2_layout_p11/20151116_212658_00 ignored, no frame file found\n",
      "s06/part2_layout_p11/20151116_212743_00 ignored, no frame file found\n",
      "s06/part2_layout_p11/20151116_212818_00 ignored, no frame file found\n",
      "s06/part2_layout_p11/20151116_213059_00 ignored, no frame file found\n",
      "s06/part2_layout_p11/20151116_213636_00 ignored, no frame file found\n",
      "s06/part2_layout_p11/20151116_213710_00 ignored, no frame file found\n",
      "s06/part2_layout_p11/20151116_213755_00 ignored, no frame file found\n",
      "s07/part1_layout_p14/20151116_230144_00\n",
      "s07/part1_layout_p14/20151116_230338_00 ignored, no frame file found\n",
      "s07/part1_layout_p14/20151116_230426_00 ignored, no frame file found\n",
      "s07/part1_layout_p14/20151116_230529_00 ignored, no frame file found\n",
      "s07/part1_layout_p14/20151116_231230_00 ignored, no frame file found\n",
      "s07/part1_layout_p14/20151116_231739_00 ignored, no frame file found\n",
      "s07/part1_layout_p14/20151116_231953_00 ignored, no frame file found\n",
      "s07/part1_layout_p14/20151116_232314_00 ignored, no frame file found\n",
      "s07/part1_layout_p14/20151116_232753_00 ignored, no frame file found\n",
      "s07/part2_layout_p13/20151116_233212_00 ignored, no frame file found\n",
      "s07/part2_layout_p13/20151116_233349_00 ignored, no frame file found\n",
      "s07/part2_layout_p13/20151116_233509_00 ignored, no frame file found\n",
      "s07/part2_layout_p13/20151116_234254_00 ignored, no frame file found\n",
      "s07/part2_layout_p13/20151116_234606_00 ignored, no frame file found\n",
      "s07/part2_layout_p13/20151116_234636_00 ignored, no frame file found\n",
      "s07/part2_layout_p13/20151116_234806_00 ignored, no frame file found\n",
      "s07/part2_layout_p13/20151116_234907_00 ignored, no frame file found\n",
      "s07/part2_layout_p13/20151116_235059_00 ignored, no frame file found\n",
      "s16/part1_layouts_p32/20160126_231057_00 ignored, no frame file found\n",
      "s16/part1_layouts_p32/20160126_231205_00 ignored, no frame file found\n",
      "s16/part1_layouts_p32/20160126_231530_00\n",
      "s16/part1_layouts_p32/20160126_231836_00 ignored, no frame file found\n",
      "s16/part1_layouts_p32/20160126_231926_00 ignored, no frame file found\n",
      "s16/part1_layouts_p32/20160126_232020_00 ignored, no frame file found\n",
      "s16/part1_layouts_p32/20160126_232127_00 ignored, no frame file found\n",
      "s16/part1_layouts_p32/20160126_232154_00 ignored, no frame file found\n",
      "s16/part1_layouts_p32/20160126_232249_00 ignored, no frame file found\n",
      "s16/part1_layouts_p32/20160126_232436_00 ignored, no frame file found\n",
      "s16/part2_layouts_p31/20160126_232929_00 ignored, no frame file found\n",
      "s16/part2_layouts_p31/20160126_233520_00\n",
      "s16/part2_layouts_p31/20160126_233951_00 ignored, no frame file found\n",
      "s16/part2_layouts_p31/20160126_234022_00 ignored, no frame file found\n",
      "s16/part2_layouts_p31/20160126_234101_00\n",
      "s16/part2_layouts_p31/20160126_234235_00 ignored, no frame file found\n",
      "s16/part2_layouts_p31/20160126_234345_00\n",
      "s16/part2_layouts_p31/20160126_234849_00 ignored, no frame file found\n",
      "s16/part2_layouts_p31/20160126_235035_00 ignored, no frame file found\n",
      "s18/part1_layouts_p36/20160129_191005_00 ignored, no frame file found\n",
      "s18/part1_layouts_p36/20160129_191621_00 ignored, no frame file found\n",
      "s18/part1_layouts_p36/20160129_191807_00 ignored, no frame file found\n",
      "s18/part1_layouts_p36/20160129_191913_00 ignored, no frame file found\n",
      "s18/part1_layouts_p36/20160129_192110_00 ignored, no frame file found\n",
      "s18/part1_layouts_p36/20160129_192353_00 ignored, no frame file found\n",
      "s18/part1_layouts_p36/20160129_192459_00 ignored, no frame file found\n",
      "s18/part1_layouts_p36/20160129_192551_00 ignored, no frame file found\n",
      "s18/part1_layouts_p36/20160129_192616_00 ignored, no frame file found\n",
      "s18/part1_layouts_p36/20160129_192705_00 ignored, no frame file found\n"
     ]
    },
    {
     "name": "stdout",
     "output_type": "stream",
     "text": [
      "s18/part2_layouts_p35/20160129_193148_00 ignored, no frame file found\n",
      "s18/part2_layouts_p35/20160129_193341_00 ignored, no frame file found\n",
      "s18/part2_layouts_p35/20160129_193701_00 ignored, no frame file found\n",
      "s18/part2_layouts_p35/20160129_193930_00 ignored, no frame file found\n",
      "s18/part2_layouts_p35/20160129_194239_00 ignored, no frame file found\n",
      "s18/part2_layouts_p35/20160129_194342_00 ignored, no frame file found\n",
      "s18/part2_layouts_p35/20160129_194443_00 ignored, no frame file found\n",
      "s18/part2_layouts_p35/20160129_195318_00 ignored, no frame file found\n",
      "s18/part2_layouts_p35/20160129_195344_00 ignored, no frame file found\n",
      "s20/part1_layout_p40/20160205_000924_00 ignored, no frame file found\n",
      "s20/part1_layout_p40/20160205_001549_00 ignored, no frame file found\n",
      "s20/part1_layout_p40/20160205_003045_00 ignored, no frame file found\n",
      "s20/part1_layout_p40/20160205_003502_00 ignored, no frame file found\n",
      "s20/part1_layout_p40/20160205_003723_00 ignored, no frame file found\n",
      "s20/part2_layout_p39/20160205_004116_00 ignored, no frame file found\n",
      "s20/part2_layout_p39/20160205_004242_00 ignored, no frame file found\n",
      "s20/part2_layout_p39/20160205_004521_00 ignored, no frame file found\n",
      "s20/part2_layout_p39/20160205_004625_00 ignored, no frame file found\n",
      "s20/part2_layout_p39/20160205_004918_00 ignored, no frame file found\n",
      "s20/part2_layout_p39/20160205_005428_00 ignored, no frame file found\n",
      "s20/part2_layout_p39/20160205_005546_00 ignored, no frame file found\n",
      "s08/part1_layout_p16/20151120_205959_00\n",
      "s08/part1_layout_p16/20151120_210138_00\n",
      "s08/part1_layout_p16/20151120_210259_00\n",
      "s08/part1_layout_p16/20151120_210411_00\n",
      "s08/part1_layout_p16/20151120_210609_00\n",
      "s08/part1_layout_p16/20151120_210736_00\n",
      "s08/part1_layout_p16/20151120_210816_00\n",
      "s08/part1_layout_p16/20151120_210938_00\n",
      "s08/part1_layout_p16/20151120_211059_00\n",
      "s08/part1_layout_p16/20151120_211223_00\n",
      "s08/part2_layout_p15/20151120_211739_00\n",
      "s08/part2_layout_p15/20151120_211907_00\n",
      "s08/part2_layout_p15/20151120_211928_00\n",
      "s08/part2_layout_p15/20151120_211954_00\n",
      "s08/part2_layout_p15/20151120_212031_00\n",
      "s08/part2_layout_p15/20151120_212459_00\n",
      "s08/part2_layout_p15/20151120_212641_00\n",
      "s08/part2_layout_p15/20151120_212813_00\n",
      "s09/part1_layout_p18/20151202_220007_00\n",
      "s09/part1_layout_p18/20151202_220045_00\n",
      "s09/part1_layout_p18/20151202_220401_00\n",
      "s09/part1_layout_p18/20151202_220510_00\n",
      "s09/part1_layout_p18/20151202_220552_00\n",
      "s09/part1_layout_p18/20151202_220620_00\n",
      "s09/part1_layout_p18/20151202_220739_00\n",
      "s09/part1_layout_p18/20151202_220759_00\n",
      "s09/part1_layout_p18/20151202_220845_00\n",
      "s09/part1_layout_p18/20151202_221009_00\n",
      "s09/part2_layout_p17/20151202_221250_00\n",
      "s09/part2_layout_p17/20151202_221340_00\n",
      "s09/part2_layout_p17/20151202_221422_00\n",
      "s09/part2_layout_p17/20151202_221442_00\n",
      "s09/part2_layout_p17/20151202_221506_00\n",
      "s09/part2_layout_p17/20151202_221550_00\n",
      "s09/part2_layout_p17/20151202_221631_00\n",
      "s09/part2_layout_p17/20151202_221714_00\n",
      "s09/part2_layout_p17/20151202_221837_00\n",
      "s09/part2_layout_p17/20151202_221911_00\n",
      "s10/part1_layout_p20/20151203_232837_00\n",
      "s10/part1_layout_p20/20151203_233025_00\n",
      "s10/part1_layout_p20/20151203_233059_00\n",
      "s10/part1_layout_p20/20151203_233227_00\n",
      "s10/part1_layout_p20/20151203_233618_00\n",
      "s10/part1_layout_p20/20151203_233735_00\n",
      "s10/part1_layout_p20/20151203_233904_00\n",
      "s10/part1_layout_p20/20151203_234001_00\n",
      "s10/part1_layout_p20/20151203_234102_00\n",
      "s10/part1_layout_p20/20151203_234151_00\n",
      "s10/part2_layout_p19/20151203_234532_00\n",
      "s10/part2_layout_p19/20151203_234805_00\n",
      "s10/part2_layout_p19/20151203_234906_00\n",
      "s10/part2_layout_p19/20151203_235123_00\n",
      "s10/part2_layout_p19/20151203_235315_00\n",
      "s10/part2_layout_p19/20151203_235434_00\n",
      "s10/part2_layout_p19/20151203_235517_00 ignored, no frame file found\n",
      "s10/part2_layout_p19/20151203_235741_00\n",
      "s10/part2_layout_p19/20151203_235816_00\n",
      "s10/part2_layout_p19/20151204_000040_00\n",
      "s11/part1_layout_p22/20151208_200353_00\n",
      "s11/part1_layout_p22/20151208_200434_00\n",
      "s11/part1_layout_p22/20151208_200534_00\n",
      "s11/part1_layout_p22/20151208_200654_00\n",
      "s11/part1_layout_p22/20151208_200821_00\n",
      "s11/part1_layout_p22/20151208_200949_00\n",
      "s11/part1_layout_p22/20151208_201042_00\n",
      "s11/part1_layout_p22/20151208_201126_00\n",
      "s11/part1_layout_p22/20151208_201204_00\n",
      "s11/part1_layout_p22/20151208_201336_00\n",
      "s11/part2_layout_p21/20151208_202137_00\n",
      "s11/part2_layout_p21/20151208_202343_00\n",
      "s11/part2_layout_p21/20151208_202507_00\n",
      "s11/part2_layout_p21/20151208_202636_00\n",
      "s11/part2_layout_p21/20151208_202800_00\n",
      "s11/part2_layout_p21/20151208_202922_00\n",
      "s11/part2_layout_p21/20151208_203132_00\n",
      "s11/part2_layout_p21/20151208_203232_00\n",
      "s11/part2_layout_p21/20151208_203309_00\n",
      "s11/part2_layout_p21/20151208_203530_00\n",
      "s12/part1_layout_p24/20151209_171033_00 ignored, no frame file found\n",
      "s12/part1_layout_p24/20151209_171352_00 ignored, no frame file found\n",
      "s12/part1_layout_p24/20151209_171502_00 ignored, no frame file found\n",
      "s12/part1_layout_p24/20151209_171540_00 ignored, no frame file found\n",
      "s12/part1_layout_p24/20151209_171744_00 ignored, no frame file found\n",
      "s12/part1_layout_p24/20151209_171914_00 ignored, no frame file found\n",
      "s12/part1_layout_p24/20151209_172243_00 ignored, no frame file found\n",
      "s12/part1_layout_p24/20151209_172338_00 ignored, no frame file found\n",
      "s12/part1_layout_p24/20151209_172930_00 ignored, no frame file found\n",
      "s12/part2_layout_p23/20151209_173529_00 ignored, no frame file found\n",
      "s12/part2_layout_p23/20151209_173604_00 ignored, no frame file found\n",
      "s12/part2_layout_p23/20151209_173718_00 ignored, no frame file found\n",
      "s12/part2_layout_p23/20151209_173838_00 ignored, no frame file found\n",
      "s12/part2_layout_p23/20151209_173903_00 ignored, no frame file found\n",
      "s12/part2_layout_p23/20151209_173952_00 ignored, no frame file found\n",
      "s12/part2_layout_p23/20151209_174127_00 ignored, no frame file found\n",
      "s12/part2_layout_p23/20151209_174205_00 ignored, no frame file found\n",
      "s12/part2_layout_p23/20151209_174417_00 ignored, no frame file found\n",
      "s12/part2_layout_p23/20151209_174514_00 ignored, no frame file found\n",
      "s14/part1_layout_p28/20151210_181006_00 ignored, no frame file found\n",
      "s14/part1_layout_p28/20151210_181410_00 ignored, no frame file found\n",
      "s14/part1_layout_p28/20151210_181550_00 ignored, no frame file found\n",
      "s14/part1_layout_p28/20151210_181604_00 ignored, no frame file found\n",
      "s14/part1_layout_p28/20151210_181653_00 ignored, no frame file found\n",
      "s14/part1_layout_p28/20151210_182338_00 ignored, no frame file found\n",
      "s14/part1_layout_p28/20151210_182606_00 ignored, no frame file found\n",
      "s14/part1_layout_p28/20151210_182705_00 ignored, no frame file found\n",
      "s14/part1_layout_p28/20151210_182800_00 ignored, no frame file found\n",
      "s14/part2_layout_p27/20151210_183403_00 ignored, no frame file found\n",
      "s14/part2_layout_p27/20151210_183659_00 ignored, no frame file found\n",
      "s14/part2_layout_p27/20151210_184305_00 ignored, no frame file found\n",
      "s14/part2_layout_p27/20151210_184405_00 ignored, no frame file found\n",
      "s15/part1_layout_p30/20151217_021036_00 ignored, no frame file found\n",
      "s15/part1_layout_p30/20151217_021130_00 ignored, no frame file found\n",
      "s15/part1_layout_p30/20151217_021158_00 ignored, no frame file found\n",
      "s15/part1_layout_p30/20151217_021232_00 ignored, no frame file found\n",
      "s15/part1_layout_p30/20151217_021516_00 ignored, no frame file found\n",
      "s15/part1_layout_p30/20151217_021629_00 ignored, no frame file found\n",
      "s15/part1_layout_p30/20151217_021906_00 ignored, no frame file found\n",
      "s15/part1_layout_p30/20151217_022211_00 ignored, no frame file found\n",
      "s15/part1_layout_p30/20151217_022236_00 ignored, no frame file found\n",
      "s15/part1_layout_p30/20151217_022316_00 ignored, no frame file found\n",
      "s15/part2_layout_p29/20151217_022713_00 ignored, no frame file found\n",
      "s15/part2_layout_p29/20151217_022906_00 ignored, no frame file found\n",
      "s15/part2_layout_p29/20151217_023351_00 ignored, no frame file found\n",
      "s15/part2_layout_p29/20151217_023455_00 ignored, no frame file found\n",
      "s15/part2_layout_p29/20151217_023533_00 ignored, no frame file found\n",
      "s15/part2_layout_p29/20151217_023626_00 ignored, no frame file found\n",
      "s15/part2_layout_p29/20151217_023725_00 ignored, no frame file found\n",
      "s15/part2_layout_p29/20151217_023842_00 ignored, no frame file found\n",
      "s15/part2_layout_p29/20151217_024016_00 ignored, no frame file found\n",
      "s15/part2_layout_p29/20151217_024119_00 ignored, no frame file found\n",
      "s17/part1_layouts_p34/20160128_194050_00 ignored, no frame file found\n"
     ]
    },
    {
     "name": "stdout",
     "output_type": "stream",
     "text": [
      "s17/part1_layouts_p34/20160128_194122_00 ignored, no frame file found\n",
      "s17/part1_layouts_p34/20160128_194217_00 ignored, no frame file found\n",
      "s17/part1_layouts_p34/20160128_194244_00 ignored, no frame file found\n",
      "s17/part1_layouts_p34/20160128_194307_00 ignored, no frame file found\n",
      "s17/part1_layouts_p34/20160128_194339_00 ignored, no frame file found\n",
      "s17/part1_layouts_p34/20160128_194418_00 ignored, no frame file found\n",
      "s17/part1_layouts_p34/20160128_194532_00 ignored, no frame file found\n",
      "s17/part1_layouts_p34/20160128_194612_00 ignored, no frame file found\n",
      "s17/part1_layouts_p34/20160128_194658_00 ignored, no frame file found\n",
      "s17/part2_layouts_p33/20160128_195152_00 ignored, no frame file found\n",
      "s17/part2_layouts_p33/20160128_195214_00 ignored, no frame file found\n",
      "s17/part2_layouts_p33/20160128_195353_00 ignored, no frame file found\n",
      "s17/part2_layouts_p33/20160128_195448_00 ignored, no frame file found\n",
      "s17/part2_layouts_p33/20160128_195614_00 ignored, no frame file found\n",
      "s17/part2_layouts_p33/20160128_195705_00 ignored, no frame file found\n",
      "s17/part2_layouts_p33/20160128_195752_00 ignored, no frame file found\n",
      "s17/part2_layouts_p33/20160128_195924_00 ignored, no frame file found\n",
      "s17/part2_layouts_p33/20160128_200206_00 ignored, no frame file found\n",
      "s17/part2_layouts_p33/20160128_200306_00 ignored, no frame file found\n",
      "s19/part1_layouts_p38/20160202_003458_00 ignored, no frame file found\n",
      "s19/part1_layouts_p38/20160202_003745_00 ignored, no frame file found\n",
      "s19/part1_layouts_p38/20160202_004129_00 ignored, no frame file found\n",
      "s19/part1_layouts_p38/20160202_004500_00 ignored, no frame file found\n",
      "s19/part1_layouts_p38/20160202_004632_00 ignored, no frame file found\n",
      "s19/part1_layouts_p38/20160202_004747_00 ignored, no frame file found\n",
      "s19/part1_layouts_p38/20160202_004915_00 ignored, no frame file found\n",
      "s19/part1_layouts_p38/20160202_004948_00 ignored, no frame file found\n",
      "s19/part1_layouts_p38/20160202_005123_00 ignored, no frame file found\n",
      "s19/part1_layouts_p38/20160202_005254_00 ignored, no frame file found\n",
      "s19/part2_layouts_p37/20160202_005709_00 ignored, no frame file found\n",
      "s19/part2_layouts_p37/20160202_005824_00 ignored, no frame file found\n",
      "s19/part2_layouts_p37/20160202_005948_00 ignored, no frame file found\n",
      "s19/part2_layouts_p37/20160202_010031_00 ignored, no frame file found\n",
      "s19/part2_layouts_p37/20160202_010227_00 ignored, no frame file found\n",
      "s19/part2_layouts_p37/20160202_010247_00 ignored, no frame file found\n",
      "s19/part2_layouts_p37/20160202_010320_00 ignored, no frame file found\n",
      "s19/part2_layouts_p37/20160202_010429_00 ignored, no frame file found\n",
      "s19/part2_layouts_p37/20160202_010517_00 ignored, no frame file found\n",
      "s19/part2_layouts_p37/20160202_010657_00 ignored, no frame file found\n",
      "s21/part1_layout_p42/20160205_191417_00 ignored, no frame file found\n",
      "s21/part1_layout_p42/20160205_191454_00 ignored, no frame file found\n",
      "s21/part1_layout_p42/20160205_191619_00 ignored, no frame file found\n",
      "s21/part1_layout_p42/20160205_191733_00 ignored, no frame file found\n",
      "s21/part1_layout_p42/20160205_191824_00 ignored, no frame file found\n",
      "s21/part1_layout_p42/20160205_191953_00 ignored, no frame file found\n",
      "s21/part1_layout_p42/20160205_192100_00 ignored, no frame file found\n",
      "s21/part1_layout_p42/20160205_192209_00 ignored, no frame file found\n",
      "s21/part1_layout_p42/20160205_192321_00 ignored, no frame file found\n",
      "s21/part1_layout_p42/20160205_192355_00 ignored, no frame file found\n",
      "s21/part2_layout_p41/20160205_192734_00 ignored, no frame file found\n",
      "s21/part2_layout_p41/20160205_193128_00 ignored, no frame file found\n",
      "s21/part2_layout_p41/20160205_193506_00 ignored, no frame file found\n",
      "s21/part2_layout_p41/20160205_193727_00 ignored, no frame file found\n",
      "s21/part2_layout_p41/20160205_193957_00 ignored, no frame file found\n",
      "s21/part2_layout_p41/20160205_194210_00 ignored, no frame file found\n",
      "s21/part2_layout_p41/20160205_194405_00 ignored, no frame file found\n",
      "s21/part2_layout_p41/20160205_194547_00 ignored, no frame file found\n",
      "152 files loaded for 207 fails (frames file not found), itered on 24503 total labels\n"
     ]
    },
    {
     "data": {
      "text/plain": [
       "[<matplotlib.lines.Line2D at 0x7f589279ae80>]"
      ]
     },
     "execution_count": 7,
     "metadata": {},
     "output_type": "execute_result"
    },
    {
     "data": {
      "image/png": "[encoded data removed]",
      "text/plain": [
       "<Figure size 432x288 with 1 Axes>"
      ]
     },
     "metadata": {
      "needs_background": "light"
     },
     "output_type": "display_data"
    }
   ],
   "source": [
    "# 3. Dataset labels parsing\n",
    "\n",
    "labels = pd.read_csv(\"datasets/eggnog/Labels.tsv\", sep='\\t')\n",
    "sFrames, eFrames = list(), list()\n",
    "data = dict()\n",
    "lastFile = \"\"\n",
    "n=0\n",
    "ns, nf = 0, 0\n",
    "for i in range(len(labels)) :\n",
    "    l = labels.loc[i]\n",
    "    n+=1\n",
    "    #if n > 10000 : break\n",
    "    # else : print(str(n)+\"/400\")\n",
    "    if lastFile != \"\" and lastFile != l[\"File Name\"] :\n",
    "        lastFile = lastFile.replace(\"\\\\\", \"/\")\n",
    "        eggSkel = load_eggnog_skeleton(lastFile+\"_Skeleton.txt\")\n",
    "        timestampsOk = False\n",
    "        try:\n",
    "            timestamps = load_timestamps(lastFile+\"_RGB.frames\")\n",
    "            timestampsOk = True\n",
    "        except FileNotFoundError:\n",
    "            try:\n",
    "                timestamps = load_timestamps(lastFile+\"_Video.frames\")\n",
    "                timestampsOk = True\n",
    "            except FileNotFoundError:\n",
    "                print(lastFile+ \" ignored, no frame file found\")\n",
    "                nf +=1\n",
    "        if(timestampsOk) :\n",
    "            frames = eggSkel.drop([\"Index\", \"Time\"], 1).values\n",
    "            print(lastFile)\n",
    "            labs = list(map(createFrameTest(sFrames, eFrames, timestamps.values), eggSkel.values))\n",
    "            data[lastFile] = [frames, labs]\n",
    "            #print(lastFile+ \" ignored, no frame file found\")\n",
    "            ns += 1\n",
    "        sFrames, eFrames = list(), list()\n",
    "    lastFile = l[\"File Name\"]\n",
    "    sFrames.append(l[\"Start Frame\"])\n",
    "    eFrames.append(l[\"End Frame\"])\n",
    "    \n",
    "print(str(ns) +\" files loaded for \"+str(nf)+\" fails (frames file not found), itered on \"+str(n)+\" total labels\")\n",
    "plt.plot(data['s01/part1_layout_p02/20151105_191251_00'][1])"
   ]
  },
  {
   "cell_type": "code",
   "execution_count": 4,
   "metadata": {},
   "outputs": [
    {
     "name": "stdout",
     "output_type": "stream",
     "text": [
      "1. Processing s01/part1_layout_p02/20151105_191251_00..\n",
      "2. Processing s01/part1_layout_p02/20151105_192144_00..\n",
      "3. Processing s01/part1_layout_p02/20151105_192312_00..\n",
      "4. Processing s01/part1_layout_p02/20151105_192407_00..\n",
      "5. Processing s01/part1_layout_p02/20151105_192610_00..\n",
      "6. Processing s01/part1_layout_p02/20151105_192717_00..\n",
      "7. Processing s01/part1_layout_p02/20151105_193157_00..\n",
      "8. Processing s01/part2_layout_p01/20151105_194301_00..\n",
      "9. Processing s01/part2_layout_p01/20151105_194456_00..\n",
      "10. Processing s01/part2_layout_p01/20151105_194650_00..\n",
      "11. Processing s01/part2_layout_p01/20151105_194955_00..\n",
      "12. Processing s01/part2_layout_p01/20151105_195111_00..\n",
      "13. Processing s01/part2_layout_p01/20151105_195450_00..\n",
      "14. Processing s02/part1_layout_p04/20151106_214357_00..\n",
      "15. Processing s02/part1_layout_p04/20151106_214521_00..\n",
      "16. Processing s02/part1_layout_p04/20151106_214647_00..\n",
      "17. Processing s02/part1_layout_p04/20151106_215028_00..\n",
      "18. Processing s02/part1_layout_p04/20151106_215120_00..\n",
      "19. Processing s02/part1_layout_p04/20151106_215320_00..\n",
      "20. Processing s02/part1_layout_p04/20151106_215547_00..\n",
      "21. Processing s02/part1_layout_p04/20151106_215829_00..\n",
      "22. Processing s02/part2_layout_p03/20151106_220752_00..\n",
      "23. Processing s02/part2_layout_p03/20151106_220857_00..\n",
      "24. Processing s02/part2_layout_p03/20151106_221002_00..\n",
      "25. Processing s02/part2_layout_p03/20151106_221038_00..\n"
     ]
    },
    {
     "ename": "KeyboardInterrupt",
     "evalue": "",
     "output_type": "error",
     "traceback": [
      "\u001b[0;31m---------------------------------------------------------------------------\u001b[0m",
      "\u001b[0;31mKeyboardInterrupt\u001b[0m                         Traceback (most recent call last)",
      "\u001b[0;32m<ipython-input-4-f779aa32e3fe>\u001b[0m in \u001b[0;36m<module>\u001b[0;34m\u001b[0m\n\u001b[1;32m     46\u001b[0m \u001b[0;34m\u001b[0m\u001b[0m\n\u001b[1;32m     47\u001b[0m \u001b[0;34m\u001b[0m\u001b[0m\n\u001b[0;32m---> 48\u001b[0;31m     \u001b[0mx_train_single\u001b[0m \u001b[0;34m+=\u001b[0m \u001b[0mx_train_step\u001b[0m\u001b[0;34m.\u001b[0m\u001b[0mtolist\u001b[0m\u001b[0;34m(\u001b[0m\u001b[0;34m)\u001b[0m\u001b[0;34m\u001b[0m\u001b[0;34m\u001b[0m\u001b[0m\n\u001b[0m\u001b[1;32m     49\u001b[0m     \u001b[0my_train_single\u001b[0m \u001b[0;34m+=\u001b[0m \u001b[0my_train_step\u001b[0m\u001b[0;34m.\u001b[0m\u001b[0mtolist\u001b[0m\u001b[0;34m(\u001b[0m\u001b[0;34m)\u001b[0m\u001b[0;34m\u001b[0m\u001b[0;34m\u001b[0m\u001b[0m\n\u001b[1;32m     50\u001b[0m \u001b[0;34m\u001b[0m\u001b[0m\n",
      "\u001b[0;31mKeyboardInterrupt\u001b[0m: "
     ]
    }
   ],
   "source": [
    "# 4. Dataset tf inputable preparation \n",
    "\n",
    "def multivariate_data(dataset, target, start_index, end_index, history_size,\n",
    "                      target_size, step, single_step=False):\n",
    "  data = []\n",
    "  labels = []\n",
    "\n",
    "  start_index = start_index + history_size\n",
    "  if end_index is None:\n",
    "    end_index = len(dataset) - target_size\n",
    "\n",
    "  for i in range(start_index, end_index):\n",
    "    indices = range(i-history_size, i, step)\n",
    "    data.append(dataset[indices])\n",
    "\n",
    "    if single_step:\n",
    "      labels.append(target[i+target_size])\n",
    "    else:\n",
    "      labels.append(target[i:i+target_size])\n",
    "\n",
    "  return np.array(data), np.array(labels)\n",
    "\n",
    "past_history = 15\n",
    "future_target = 0\n",
    "STEP = 1\n",
    "TRAIN_SPLIT = None\n",
    "BUFFER_SIZE = 10000\n",
    "BATCH_SIZE = 256\n",
    "\n",
    "x_train_single, y_train_single = [[[]]], [[[]]]\n",
    "\n",
    "\n",
    "i = 0\n",
    "\n",
    "for file in data :\n",
    "    i += 1\n",
    "    if i > 30 : break # reducing dataset size for first tries\n",
    "    print(str(i) + \". Processing \"+file+\"..\")\n",
    "    X = data[file][0]\n",
    "    Y = data[file][1]\n",
    "    x_train_step, y_train_step = multivariate_data(X, Y, 0,\n",
    "                                                       TRAIN_SPLIT, past_history,\n",
    "                                                       future_target, STEP,\n",
    "                                                       single_step=True)\n",
    "    \n",
    "\n",
    "    \n",
    "    x_train_single += x_train_step.tolist()\n",
    "    y_train_single += y_train_step.tolist()\n",
    "    \n",
    "x_train_single, y_train_single = x_train_single[1:], y_train_single[1:]\n",
    "    \n",
    "        \n",
    "x_val_single, y_val_single = [[[]]], [[[]]]    \n",
    "\n",
    "i=30\n",
    "for file in data :\n",
    "    i += 1\n",
    "    if i > 50 : break # reducing dataset size for first tries\n",
    "    print(str(i) + \". Processing \"+file+\"..\")\n",
    "    X = data[file][0]\n",
    "    Y = data[file][1]\n",
    "    x_val_step, y_val_step = multivariate_data(X, Y,\n",
    "                                               0, TRAIN_SPLIT, past_history,\n",
    "                                               future_target, STEP,\n",
    "                                               single_step=True)    \n",
    "\n",
    "    x_val_single += x_val_step.tolist()\n",
    "    y_val_single += y_val_step.tolist()\n",
    "\n",
    "\n",
    "x_val_single, y_val_single = x_val_single[1:], y_val_single[1:]\n",
    "\n",
    "\n",
    "# x_val_single, y_val_single = multivariate_data(X, Y,\n",
    "#                                               TRAIN_SPLIT, None, past_history,\n",
    "#                                               future_target, STEP,\n",
    "#                                               single_step=True)\n",
    "\n",
    "# train_data_single = tf.data.Dataset.from_tensor_slices((x_train_single, y_train_single))\n",
    "# train_data_single = train_data_single.cache().shuffle(BUFFER_SIZE).batch(BATCH_SIZE).repeat()\n",
    "\n",
    "# val_data_single = tf.data.Dataset.from_tensor_slices((x_val_single, y_val_single))\n",
    "# val_data_single = val_data_single.batch(BATCH_SIZE).repeat()\n",
    "print(\"done!\")"
   ]
  },
  {
   "cell_type": "code",
   "execution_count": 8,
   "metadata": {},
   "outputs": [],
   "source": [
    "def multivariate_data(dataset, target, start_index, end_index, history_size,\n",
    "                      target_size, step, single_step=False):\n",
    "  data = []\n",
    "  labels = []\n",
    "\n",
    "  start_index = start_index + history_size\n",
    "  if end_index is None:\n",
    "    end_index = len(dataset) - target_size\n",
    "\n",
    "  for i in range(start_index, end_index):\n",
    "    indices = range(i-history_size, i, step)\n",
    "    data.append(dataset[indices])\n",
    "\n",
    "    if single_step:\n",
    "      labels.append(target[i+target_size])\n",
    "    else:\n",
    "      labels.append(target[i:i+target_size])\n",
    "\n",
    "  return np.array(data), np.array(labels)"
   ]
  },
  {
   "cell_type": "code",
   "execution_count": 9,
   "metadata": {},
   "outputs": [],
   "source": [
    "def createDataSet(data, ratio):\n",
    "    #Parameters\n",
    "    past_history = 15\n",
    "    future_target = 0\n",
    "    STEP = 1\n",
    "    TRAIN_SPLIT = None\n",
    "    BUFFER_SIZE = 10000\n",
    "    BATCH_SIZE = 256\n",
    "    \n",
    "    maxIndexFile=50\n",
    "    #maxIndexFile=len(data)\n",
    "    valStart=int(ratio*maxIndexFile)\n",
    "    \n",
    "    \n",
    "    #Training set\n",
    "    print(\"Creating training set with \"+str(valStart)+\" files\")\n",
    "    x_train_single, y_train_single = [[[]]], [[[]]]\n",
    "    i = 0\n",
    "    for file in data :\n",
    "        i += 1\n",
    "        if i > valStart : break # reducing dataset size for first tries\n",
    "        print(str(i) + \". Processing \"+file+\"..\")\n",
    "        X = data[file][0]\n",
    "        Y = data[file][1]\n",
    "        x_train_step, y_train_step = multivariate_data(X, Y, 0,\n",
    "                                                           TRAIN_SPLIT, past_history,\n",
    "                                                           future_target, STEP,\n",
    "                                                           single_step=True)    \n",
    "        x_train_single += x_train_step.tolist()\n",
    "        y_train_single += y_train_step.tolist()\n",
    "    \n",
    "    x_train_single, y_train_single = x_train_single[1:], y_train_single[1:]\n",
    "    \n",
    "    #Validation set\n",
    "    print(\"Creating validation set with \"+str(maxIndexFile-valStart)+\" files\")\n",
    "    x_val_single, y_val_single = [[[]]], [[[]]] \n",
    "    i=valStart\n",
    "    for file in data :\n",
    "        i += 1\n",
    "        if i > maxIndexFile : break # reducing dataset size for first tries\n",
    "        print(str(i) + \". Processing \"+file+\"..\")\n",
    "        X = data[file][0]\n",
    "        Y = data[file][1]\n",
    "        x_val_step, y_val_step = multivariate_data(X, Y,\n",
    "                                                   0, TRAIN_SPLIT, past_history,\n",
    "                                                   future_target, STEP,\n",
    "                                                   single_step=True)    \n",
    "\n",
    "        x_val_single += x_val_step.tolist()\n",
    "        y_val_single += y_val_step.tolist()\n",
    "\n",
    "\n",
    "    x_val_single, y_val_single = x_val_single[1:], y_val_single[1:]\n",
    "    \n",
    "    print(\"done!\")\n",
    "    \n",
    "    #return traing and validation sets\n",
    "    return x_train_single, y_train_single, x_val_single, y_val_single\n",
    "    \n",
    "    \n",
    "    "
   ]
  },
  {
   "cell_type": "code",
   "execution_count": 10,
   "metadata": {},
   "outputs": [
    {
     "name": "stdout",
     "output_type": "stream",
     "text": [
      "Creating training set with 40 files\n",
      "1. Processing s01/part1_layout_p02/20151105_191251_00..\n",
      "2. Processing s01/part1_layout_p02/20151105_192144_00..\n",
      "3. Processing s01/part1_layout_p02/20151105_192312_00..\n",
      "4. Processing s01/part1_layout_p02/20151105_192407_00..\n",
      "5. Processing s01/part1_layout_p02/20151105_192610_00..\n",
      "6. Processing s01/part1_layout_p02/20151105_192717_00..\n",
      "7. Processing s01/part1_layout_p02/20151105_193157_00..\n",
      "8. Processing s01/part2_layout_p01/20151105_194301_00..\n",
      "9. Processing s01/part2_layout_p01/20151105_194456_00..\n",
      "10. Processing s01/part2_layout_p01/20151105_194650_00..\n",
      "11. Processing s01/part2_layout_p01/20151105_194955_00..\n",
      "12. Processing s01/part2_layout_p01/20151105_195111_00..\n",
      "13. Processing s01/part2_layout_p01/20151105_195450_00..\n",
      "14. Processing s02/part1_layout_p04/20151106_214357_00..\n",
      "15. Processing s02/part1_layout_p04/20151106_214521_00..\n",
      "16. Processing s02/part1_layout_p04/20151106_214647_00..\n",
      "17. Processing s02/part1_layout_p04/20151106_215028_00..\n",
      "18. Processing s02/part1_layout_p04/20151106_215120_00..\n",
      "19. Processing s02/part1_layout_p04/20151106_215320_00..\n",
      "20. Processing s02/part1_layout_p04/20151106_215547_00..\n",
      "21. Processing s02/part1_layout_p04/20151106_215829_00..\n",
      "22. Processing s02/part2_layout_p03/20151106_220752_00..\n",
      "23. Processing s02/part2_layout_p03/20151106_220857_00..\n",
      "24. Processing s02/part2_layout_p03/20151106_221002_00..\n",
      "25. Processing s02/part2_layout_p03/20151106_221038_00..\n",
      "26. Processing s02/part2_layout_p03/20151106_221259_00..\n",
      "27. Processing s02/part2_layout_p03/20151106_221434_00..\n",
      "28. Processing s02/part2_layout_p03/20151106_221752_00..\n",
      "29. Processing s02/part2_layout_p03/20151106_222114_00..\n",
      "30. Processing s02/part2_layout_p03/20151106_222352_00..\n",
      "31. Processing s03/part1_layout_p06/20151109_191547_00..\n",
      "32. Processing s03/part1_layout_p06/20151109_191726_00..\n",
      "33. Processing s03/part1_layout_p06/20151109_191826_00..\n",
      "34. Processing s03/part1_layout_p06/20151109_191947_00..\n",
      "35. Processing s03/part1_layout_p06/20151109_192232_00..\n",
      "36. Processing s03/part1_layout_p06/20151109_192321_00..\n",
      "37. Processing s03/part1_layout_p06/20151109_192442_00..\n",
      "38. Processing s03/part1_layout_p06/20151109_192740_00..\n",
      "39. Processing s03/part1_layout_p06/20151109_192824_00..\n",
      "40. Processing s03/part2_layout_p05/20151109_193224_00..\n",
      "Creating validation set with 10 files\n",
      "41. Processing s01/part1_layout_p02/20151105_191251_00..\n",
      "42. Processing s01/part1_layout_p02/20151105_192144_00..\n",
      "43. Processing s01/part1_layout_p02/20151105_192312_00..\n",
      "44. Processing s01/part1_layout_p02/20151105_192407_00..\n",
      "45. Processing s01/part1_layout_p02/20151105_192610_00..\n",
      "46. Processing s01/part1_layout_p02/20151105_192717_00..\n",
      "47. Processing s01/part1_layout_p02/20151105_193157_00..\n",
      "48. Processing s01/part2_layout_p01/20151105_194301_00..\n",
      "49. Processing s01/part2_layout_p01/20151105_194456_00..\n",
      "50. Processing s01/part2_layout_p01/20151105_194650_00..\n",
      "done!\n"
     ]
    }
   ],
   "source": [
    "xTrain, yTrain, xVal, yVal=createDataSet(data, 0.8)"
   ]
  },
  {
   "cell_type": "code",
   "execution_count": 11,
   "metadata": {},
   "outputs": [],
   "source": [
    "def equalizeSamples(X, Y, targetRatio):\n",
    "    \n",
    "    print(\"counting true labels\")\n",
    "    #count true labels\n",
    "    count=0\n",
    "    \n",
    "    lenX=len(X)\n",
    "    for i in range (lenX):\n",
    "        if(Y[i]==1):\n",
    "            count+=1\n",
    "            \n",
    "    print(\"Found \" + str(count) + \" TRUE samples out of \" + str(lenX) + \" total samples\")\n",
    "    \n",
    "    print(\"Equalizing samples\")\n",
    "            \n",
    "    #equalize samples\n",
    "    ratio=count/len(X)\n",
    "    while (ratio<targetRatio):\n",
    "        randTrainIndex=random.randrange(0, len(X))\n",
    "        \n",
    "        #find random True Sample\n",
    "        while True:\n",
    "            randTrueSampleIndex=random.randrange(0, len(X))\n",
    "            if Y[randTrueSampleIndex]==1:\n",
    "                break\n",
    "        \n",
    "        randomXTrueSample=X[randTrueSampleIndex]\n",
    "        randomYTrueSample=Y[randTrueSampleIndex]\n",
    "        \n",
    "        X.insert(randTrainIndex, randomXTrueSample)\n",
    "        Y.insert(randTrainIndex, randomYTrueSample)\n",
    "        \n",
    "        count +=1\n",
    "        ratio=count/len(X)\n",
    "        \n",
    "    print(\"Samples equalized with \" +str(ratio)+ \" ratio\")\n",
    "    \n",
    "    return X, Y\n",
    "            "
   ]
  },
  {
   "cell_type": "code",
   "execution_count": 15,
   "metadata": {},
   "outputs": [
    {
     "data": {
      "text/plain": [
       "30744"
      ]
     },
     "execution_count": 15,
     "metadata": {},
     "output_type": "execute_result"
    }
   ],
   "source": [
    "import random\n",
    "len(xVal)"
   ]
  },
  {
   "cell_type": "code",
   "execution_count": 19,
   "metadata": {},
   "outputs": [
    {
     "name": "stdout",
     "output_type": "stream",
     "text": [
      "counting true labels\n",
      "Found 1518 TRUE samples out of 83618 total samples\n",
      "Equalizing samples\n",
      "Samples equalized with 0.5 ratio\n",
      "counting true labels\n",
      "Found 536 TRUE samples out of 30744 total samples\n",
      "Equalizing samples\n",
      "Samples equalized with 0.5 ratio\n"
     ]
    }
   ],
   "source": [
    "xTrain, yTrain=equalizeSamples(xTrain, yTrain, 0.5)\n",
    "xVal, yVal=equalizeSamples(xVal, yVal, 0.5)"
   ]
  },
  {
   "cell_type": "code",
   "execution_count": 36,
   "metadata": {},
   "outputs": [],
   "source": [
    "lenX=len(x_train_single)\n",
    "count=0\n",
    "for i in range(lenX):\n",
    "    if (y_train_single[i]==1):\n",
    "        count+=1"
   ]
  },
  {
   "cell_type": "code",
   "execution_count": 22,
   "metadata": {},
   "outputs": [],
   "source": [
    "import random\n",
    "for i in range(40000):\n",
    "    rand1=random.randrange(0, len(x_train_single))\n",
    "    rand2=random.randrange(0, len(trueListX))\n",
    "    x_train_single.insert(rand1, trueListX[rand2])\n",
    "    y_train_single.insert(rand1, trueListY[rand2])"
   ]
  },
  {
   "cell_type": "code",
   "execution_count": 1,
   "metadata": {},
   "outputs": [
    {
     "ename": "NameError",
     "evalue": "name 'plotRatio' is not defined",
     "output_type": "error",
     "traceback": [
      "\u001b[0;31m---------------------------------------------------------------------------\u001b[0m",
      "\u001b[0;31mNameError\u001b[0m                                 Traceback (most recent call last)",
      "\u001b[0;32m<ipython-input-1-9d54103211e3>\u001b[0m in \u001b[0;36m<module>\u001b[0;34m\u001b[0m\n\u001b[0;32m----> 1\u001b[0;31m \u001b[0mplotRatio\u001b[0m\u001b[0;34m(\u001b[0m\u001b[0mxTrain\u001b[0m\u001b[0;34m,\u001b[0m \u001b[0myTrain\u001b[0m\u001b[0;34m)\u001b[0m\u001b[0;34m\u001b[0m\u001b[0;34m\u001b[0m\u001b[0m\n\u001b[0m\u001b[1;32m      2\u001b[0m \u001b[0mplotRatio\u001b[0m\u001b[0;34m(\u001b[0m\u001b[0mxVal\u001b[0m\u001b[0;34m,\u001b[0m \u001b[0myVal\u001b[0m\u001b[0;34m)\u001b[0m\u001b[0;34m\u001b[0m\u001b[0;34m\u001b[0m\u001b[0m\n",
      "\u001b[0;31mNameError\u001b[0m: name 'plotRatio' is not defined"
     ]
    }
   ],
   "source": [
    "plotRatio(xTrain, yTrain)\n",
    "plotRatio(xVal, yVal)"
   ]
  },
  {
   "cell_type": "code",
   "execution_count": 16,
   "metadata": {},
   "outputs": [],
   "source": [
    "def plotRatio(X, Y):\n",
    "    count=0\n",
    "    lenX=len(X)\n",
    "    for i in range(lenX):\n",
    "        if (Y[i]==1):\n",
    "            count+=1\n",
    "            \n",
    "    labels = 'continuous', 'gesture'\n",
    "    sizes = [len(Y)-count, count]\n",
    "    explode = (0, 0.1)\n",
    "\n",
    "    fig1, ax1 = plt.subplots()\n",
    "    ax1.pie(sizes, explode=explode, labels=labels, autopct='%1.1f%%', shadow=True, startangle=90)\n",
    "    ax1.axis('equal')\n",
    "\n",
    "    plt.show()"
   ]
  },
  {
   "cell_type": "code",
   "execution_count": 23,
   "metadata": {},
   "outputs": [
    {
     "data": {
      "text/plain": [
       "162636"
      ]
     },
     "execution_count": 23,
     "metadata": {},
     "output_type": "execute_result"
    }
   ],
   "source": [
    "len(x_train_single)"
   ]
  },
  {
   "cell_type": "code",
   "execution_count": 22,
   "metadata": {},
   "outputs": [
    {
     "data": {
      "text/plain": [
       "(102636, 15, 99)"
      ]
     },
     "execution_count": 22,
     "metadata": {},
     "output_type": "execute_result"
    }
   ],
   "source": [
    "xNP.shape"
   ]
  },
  {
   "cell_type": "code",
   "execution_count": 23,
   "metadata": {},
   "outputs": [
    {
     "data": {
      "text/plain": [
       "(102636,)"
      ]
     },
     "execution_count": 23,
     "metadata": {},
     "output_type": "execute_result"
    }
   ],
   "source": [
    "yNP.shape"
   ]
  },
  {
   "cell_type": "code",
   "execution_count": 21,
   "metadata": {},
   "outputs": [],
   "source": [
    "import tensorflow as tf"
   ]
  },
  {
   "cell_type": "code",
   "execution_count": 22,
   "metadata": {},
   "outputs": [],
   "source": [
    "single_step_model = tf.keras.models.Sequential()\n",
    "single_step_model.add(tf.keras.layers.LSTM(100))\n",
    "single_step_model.add(tf.keras.layers.Dense(1))\n",
    "single_step_model.compile(optimizer=tf.keras.optimizers.RMSprop(), loss='mae')"
   ]
  },
  {
   "cell_type": "code",
   "execution_count": 23,
   "metadata": {},
   "outputs": [
    {
     "name": "stdout",
     "output_type": "stream",
     "text": [
      "Train on 147780 samples, validate on 16420 samples\n",
      "Epoch 1/5\n",
      "147780/147780 [==============================] - 33s 225us/sample - loss: 0.4071 - val_loss: 0.5255\n",
      "Epoch 2/5\n",
      "147780/147780 [==============================] - 31s 208us/sample - loss: 0.3062 - val_loss: 0.4687\n",
      "Epoch 3/5\n",
      "147780/147780 [==============================] - 31s 208us/sample - loss: 0.2436 - val_loss: 0.3674\n",
      "Epoch 4/5\n",
      "147780/147780 [==============================] - 33s 223us/sample - loss: 0.2050 - val_loss: 0.3674\n",
      "Epoch 5/5\n",
      "147780/147780 [==============================] - 33s 225us/sample - loss: 0.1763 - val_loss: 0.3371\n"
     ]
    }
   ],
   "source": [
    "epochs = 5\n",
    "batch_size = 64\n",
    "\n",
    "x_train_single = np.array(xTrain)\n",
    "y_train_single = np.array(yTrain)\n",
    "\n",
    "history = single_step_model.fit(x_train_single, y_train_single, epochs=epochs, batch_size=batch_size,validation_split=0.1)"
   ]
  },
  {
   "cell_type": "code",
   "execution_count": 24,
   "metadata": {},
   "outputs": [],
   "source": [
    "def plot_train_history(history, title):\n",
    "  loss = history.history['loss']\n",
    "  val_loss = history.history['val_loss']\n",
    "\n",
    "  epochs = range(len(loss))\n",
    "\n",
    "  plt.figure()\n",
    "\n",
    "  plt.plot(epochs, loss, 'b', label='Training loss')\n",
    "  plt.plot(epochs, val_loss, 'r', label='Validation loss')\n",
    "  plt.title(title)\n",
    "  plt.legend()\n",
    "\n",
    "  plt.show()\n",
    "\n"
   ]
  },
  {
   "cell_type": "code",
   "execution_count": 25,
   "metadata": {},
   "outputs": [
    {
     "data": {
      "image/png": "[encoded data removed]",
      "text/plain": [
       "<Figure size 432x288 with 1 Axes>"
      ]
     },
     "metadata": {
      "needs_background": "light"
     },
     "output_type": "display_data"
    }
   ],
   "source": [
    "plot_train_history(history, 'Single Step Training and validation loss')"
   ]
  },
  {
   "cell_type": "code",
   "execution_count": 33,
   "metadata": {},
   "outputs": [
    {
     "name": "stdout",
     "output_type": "stream",
     "text": [
      "0\n",
      "100\n",
      "200\n",
      "300\n",
      "400\n",
      "500\n",
      "600\n",
      "700\n",
      "800\n",
      "900\n",
      "1000\n",
      "1100\n",
      "1200\n",
      "1300\n",
      "1400\n",
      "1500\n",
      "1600\n",
      "1700\n",
      "1800\n",
      "1900\n",
      "2000\n",
      "2100\n",
      "2200\n",
      "2300\n",
      "2400\n",
      "2500\n",
      "2600\n",
      "2700\n",
      "2800\n",
      "2900\n",
      "3000\n",
      "3100\n",
      "3200\n",
      "3300\n",
      "3400\n",
      "3500\n",
      "3600\n",
      "3700\n",
      "3800\n",
      "3900\n",
      "4000\n",
      "4100\n",
      "4200\n",
      "4300\n",
      "4400\n",
      "4500\n",
      "4600\n",
      "4700\n",
      "4800\n",
      "4900\n",
      "5000\n",
      "5100\n",
      "5200\n",
      "5300\n",
      "5400\n",
      "5500\n",
      "5600\n",
      "5700\n",
      "5800\n",
      "5900\n",
      "6000\n",
      "6100\n",
      "6200\n",
      "6300\n",
      "6400\n",
      "6500\n",
      "6600\n",
      "6700\n",
      "6800\n",
      "6900\n",
      "7000\n",
      "7100\n",
      "7200\n",
      "7300\n",
      "7400\n",
      "7500\n",
      "7600\n"
     ]
    },
    {
     "ename": "KeyboardInterrupt",
     "evalue": "",
     "output_type": "error",
     "traceback": [
      "\u001b[0;31m---------------------------------------------------------------------------\u001b[0m",
      "\u001b[0;31mKeyError\u001b[0m                                  Traceback (most recent call last)",
      "\u001b[0;32m/usr/lib/python3.6/site-packages/tensorflow_core/python/framework/ops.py\u001b[0m in \u001b[0;36m_get_op_def\u001b[0;34m(self, type)\u001b[0m\n\u001b[1;32m   3707\u001b[0m     \u001b[0;32mtry\u001b[0m\u001b[0;34m:\u001b[0m\u001b[0;34m\u001b[0m\u001b[0;34m\u001b[0m\u001b[0m\n\u001b[0;32m-> 3708\u001b[0;31m       \u001b[0;32mreturn\u001b[0m \u001b[0mself\u001b[0m\u001b[0;34m.\u001b[0m\u001b[0m_op_def_cache\u001b[0m\u001b[0;34m[\u001b[0m\u001b[0mtype\u001b[0m\u001b[0;34m]\u001b[0m\u001b[0;34m\u001b[0m\u001b[0;34m\u001b[0m\u001b[0m\n\u001b[0m\u001b[1;32m   3709\u001b[0m     \u001b[0;32mexcept\u001b[0m \u001b[0mKeyError\u001b[0m\u001b[0;34m:\u001b[0m\u001b[0;34m\u001b[0m\u001b[0;34m\u001b[0m\u001b[0m\n",
      "\u001b[0;31mKeyError\u001b[0m: 'Placeholder'",
      "\nDuring handling of the above exception, another exception occurred:\n",
      "\u001b[0;31mKeyboardInterrupt\u001b[0m                         Traceback (most recent call last)",
      "\u001b[0;32m<ipython-input-33-ce1bd27da735>\u001b[0m in \u001b[0;36m<module>\u001b[0;34m\u001b[0m\n\u001b[1;32m      4\u001b[0m     \u001b[0;32mif\u001b[0m \u001b[0mi\u001b[0m\u001b[0;34m%\u001b[0m\u001b[0;36m100\u001b[0m\u001b[0;34m==\u001b[0m\u001b[0;36m0\u001b[0m\u001b[0;34m:\u001b[0m\u001b[0;34m\u001b[0m\u001b[0;34m\u001b[0m\u001b[0m\n\u001b[1;32m      5\u001b[0m         \u001b[0mprint\u001b[0m\u001b[0;34m(\u001b[0m\u001b[0mi\u001b[0m\u001b[0;34m)\u001b[0m\u001b[0;34m\u001b[0m\u001b[0;34m\u001b[0m\u001b[0m\n\u001b[0;32m----> 6\u001b[0;31m     \u001b[0mpredicted\u001b[0m\u001b[0;34m.\u001b[0m\u001b[0mappend\u001b[0m\u001b[0;34m(\u001b[0m\u001b[0msingle_step_model\u001b[0m\u001b[0;34m.\u001b[0m\u001b[0mpredict\u001b[0m\u001b[0;34m(\u001b[0m\u001b[0mx_train_single\u001b[0m\u001b[0;34m[\u001b[0m\u001b[0mi\u001b[0m\u001b[0;34m:\u001b[0m\u001b[0mi\u001b[0m\u001b[0;34m+\u001b[0m\u001b[0;36m10\u001b[0m\u001b[0;34m]\u001b[0m\u001b[0;34m)\u001b[0m\u001b[0;34m[\u001b[0m\u001b[0;36m9\u001b[0m\u001b[0;34m]\u001b[0m\u001b[0;34m[\u001b[0m\u001b[0;36m0\u001b[0m\u001b[0;34m]\u001b[0m\u001b[0;34m)\u001b[0m\u001b[0;34m\u001b[0m\u001b[0;34m\u001b[0m\u001b[0m\n\u001b[0m",
      "\u001b[0;32m/usr/lib/python3.6/site-packages/tensorflow_core/python/keras/engine/training.py\u001b[0m in \u001b[0;36mpredict\u001b[0;34m(self, x, batch_size, verbose, steps, callbacks, max_queue_size, workers, use_multiprocessing)\u001b[0m\n\u001b[1;32m   1011\u001b[0m         \u001b[0mmax_queue_size\u001b[0m\u001b[0;34m=\u001b[0m\u001b[0mmax_queue_size\u001b[0m\u001b[0;34m,\u001b[0m\u001b[0;34m\u001b[0m\u001b[0;34m\u001b[0m\u001b[0m\n\u001b[1;32m   1012\u001b[0m         \u001b[0mworkers\u001b[0m\u001b[0;34m=\u001b[0m\u001b[0mworkers\u001b[0m\u001b[0;34m,\u001b[0m\u001b[0;34m\u001b[0m\u001b[0;34m\u001b[0m\u001b[0m\n\u001b[0;32m-> 1013\u001b[0;31m         use_multiprocessing=use_multiprocessing)\n\u001b[0m\u001b[1;32m   1014\u001b[0m \u001b[0;34m\u001b[0m\u001b[0m\n\u001b[1;32m   1015\u001b[0m   \u001b[0;32mdef\u001b[0m \u001b[0mreset_metrics\u001b[0m\u001b[0;34m(\u001b[0m\u001b[0mself\u001b[0m\u001b[0;34m)\u001b[0m\u001b[0;34m:\u001b[0m\u001b[0;34m\u001b[0m\u001b[0;34m\u001b[0m\u001b[0m\n",
      "\u001b[0;32m/usr/lib/python3.6/site-packages/tensorflow_core/python/keras/engine/training_v2.py\u001b[0m in \u001b[0;36mpredict\u001b[0;34m(self, model, x, batch_size, verbose, steps, callbacks, max_queue_size, workers, use_multiprocessing, **kwargs)\u001b[0m\n\u001b[1;32m    496\u001b[0m         \u001b[0mmodel\u001b[0m\u001b[0;34m,\u001b[0m \u001b[0mModeKeys\u001b[0m\u001b[0;34m.\u001b[0m\u001b[0mPREDICT\u001b[0m\u001b[0;34m,\u001b[0m \u001b[0mx\u001b[0m\u001b[0;34m=\u001b[0m\u001b[0mx\u001b[0m\u001b[0;34m,\u001b[0m \u001b[0mbatch_size\u001b[0m\u001b[0;34m=\u001b[0m\u001b[0mbatch_size\u001b[0m\u001b[0;34m,\u001b[0m \u001b[0mverbose\u001b[0m\u001b[0;34m=\u001b[0m\u001b[0mverbose\u001b[0m\u001b[0;34m,\u001b[0m\u001b[0;34m\u001b[0m\u001b[0;34m\u001b[0m\u001b[0m\n\u001b[1;32m    497\u001b[0m         \u001b[0msteps\u001b[0m\u001b[0;34m=\u001b[0m\u001b[0msteps\u001b[0m\u001b[0;34m,\u001b[0m \u001b[0mcallbacks\u001b[0m\u001b[0;34m=\u001b[0m\u001b[0mcallbacks\u001b[0m\u001b[0;34m,\u001b[0m \u001b[0mmax_queue_size\u001b[0m\u001b[0;34m=\u001b[0m\u001b[0mmax_queue_size\u001b[0m\u001b[0;34m,\u001b[0m\u001b[0;34m\u001b[0m\u001b[0;34m\u001b[0m\u001b[0m\n\u001b[0;32m--> 498\u001b[0;31m         workers=workers, use_multiprocessing=use_multiprocessing, **kwargs)\n\u001b[0m\u001b[1;32m    499\u001b[0m \u001b[0;34m\u001b[0m\u001b[0m\n\u001b[1;32m    500\u001b[0m \u001b[0;34m\u001b[0m\u001b[0m\n",
      "\u001b[0;32m/usr/lib/python3.6/site-packages/tensorflow_core/python/keras/engine/training_v2.py\u001b[0m in \u001b[0;36m_model_iteration\u001b[0;34m(self, model, mode, x, y, batch_size, verbose, sample_weight, steps, callbacks, max_queue_size, workers, use_multiprocessing, **kwargs)\u001b[0m\n\u001b[1;32m    424\u001b[0m           \u001b[0mmax_queue_size\u001b[0m\u001b[0;34m=\u001b[0m\u001b[0mmax_queue_size\u001b[0m\u001b[0;34m,\u001b[0m\u001b[0;34m\u001b[0m\u001b[0;34m\u001b[0m\u001b[0m\n\u001b[1;32m    425\u001b[0m           \u001b[0mworkers\u001b[0m\u001b[0;34m=\u001b[0m\u001b[0mworkers\u001b[0m\u001b[0;34m,\u001b[0m\u001b[0;34m\u001b[0m\u001b[0;34m\u001b[0m\u001b[0m\n\u001b[0;32m--> 426\u001b[0;31m           use_multiprocessing=use_multiprocessing)\n\u001b[0m\u001b[1;32m    427\u001b[0m       \u001b[0mtotal_samples\u001b[0m \u001b[0;34m=\u001b[0m \u001b[0m_get_total_number_of_samples\u001b[0m\u001b[0;34m(\u001b[0m\u001b[0madapter\u001b[0m\u001b[0;34m)\u001b[0m\u001b[0;34m\u001b[0m\u001b[0;34m\u001b[0m\u001b[0m\n\u001b[1;32m    428\u001b[0m       \u001b[0muse_sample\u001b[0m \u001b[0;34m=\u001b[0m \u001b[0mtotal_samples\u001b[0m \u001b[0;32mis\u001b[0m \u001b[0;32mnot\u001b[0m \u001b[0;32mNone\u001b[0m\u001b[0;34m\u001b[0m\u001b[0;34m\u001b[0m\u001b[0m\n",
      "\u001b[0;32m/usr/lib/python3.6/site-packages/tensorflow_core/python/keras/engine/training_v2.py\u001b[0m in \u001b[0;36m_process_inputs\u001b[0;34m(model, mode, x, y, batch_size, epochs, sample_weights, class_weights, shuffle, steps, distribution_strategy, max_queue_size, workers, use_multiprocessing)\u001b[0m\n\u001b[1;32m    704\u001b[0m       \u001b[0mmax_queue_size\u001b[0m\u001b[0;34m=\u001b[0m\u001b[0mmax_queue_size\u001b[0m\u001b[0;34m,\u001b[0m\u001b[0;34m\u001b[0m\u001b[0;34m\u001b[0m\u001b[0m\n\u001b[1;32m    705\u001b[0m       \u001b[0mworkers\u001b[0m\u001b[0;34m=\u001b[0m\u001b[0mworkers\u001b[0m\u001b[0;34m,\u001b[0m\u001b[0;34m\u001b[0m\u001b[0;34m\u001b[0m\u001b[0m\n\u001b[0;32m--> 706\u001b[0;31m       use_multiprocessing=use_multiprocessing)\n\u001b[0m\u001b[1;32m    707\u001b[0m \u001b[0;34m\u001b[0m\u001b[0m\n\u001b[1;32m    708\u001b[0m   \u001b[0;32mreturn\u001b[0m \u001b[0madapter\u001b[0m\u001b[0;34m\u001b[0m\u001b[0;34m\u001b[0m\u001b[0m\n",
      "\u001b[0;32m/usr/lib/python3.6/site-packages/tensorflow_core/python/keras/engine/data_adapter.py\u001b[0m in \u001b[0;36m__init__\u001b[0;34m(self, x, y, sample_weights, sample_weight_modes, batch_size, epochs, steps, shuffle, **kwargs)\u001b[0m\n\u001b[1;32m    353\u001b[0m       \u001b[0;32mreturn\u001b[0m \u001b[0mflat_dataset\u001b[0m\u001b[0;34m\u001b[0m\u001b[0;34m\u001b[0m\u001b[0m\n\u001b[1;32m    354\u001b[0m \u001b[0;34m\u001b[0m\u001b[0m\n\u001b[0;32m--> 355\u001b[0;31m     \u001b[0mindices_dataset\u001b[0m \u001b[0;34m=\u001b[0m \u001b[0mindices_dataset\u001b[0m\u001b[0;34m.\u001b[0m\u001b[0mflat_map\u001b[0m\u001b[0;34m(\u001b[0m\u001b[0mslice_batch_indices\u001b[0m\u001b[0;34m)\u001b[0m\u001b[0;34m\u001b[0m\u001b[0;34m\u001b[0m\u001b[0m\n\u001b[0m\u001b[1;32m    356\u001b[0m \u001b[0;34m\u001b[0m\u001b[0m\n\u001b[1;32m    357\u001b[0m     \u001b[0mdataset\u001b[0m \u001b[0;34m=\u001b[0m \u001b[0mself\u001b[0m\u001b[0;34m.\u001b[0m\u001b[0mslice_inputs\u001b[0m\u001b[0;34m(\u001b[0m\u001b[0mindices_dataset\u001b[0m\u001b[0;34m,\u001b[0m \u001b[0minputs\u001b[0m\u001b[0;34m)\u001b[0m\u001b[0;34m\u001b[0m\u001b[0;34m\u001b[0m\u001b[0m\n",
      "\u001b[0;32m/usr/lib/python3.6/site-packages/tensorflow_core/python/data/ops/dataset_ops.py\u001b[0m in \u001b[0;36mflat_map\u001b[0;34m(self, map_func)\u001b[0m\n\u001b[1;32m   1613\u001b[0m       \u001b[0mDataset\u001b[0m\u001b[0;34m:\u001b[0m \u001b[0mA\u001b[0m\u001b[0;31m \u001b[0m\u001b[0;31m`\u001b[0m\u001b[0mDataset\u001b[0m\u001b[0;31m`\u001b[0m\u001b[0;34m.\u001b[0m\u001b[0;34m\u001b[0m\u001b[0;34m\u001b[0m\u001b[0m\n\u001b[1;32m   1614\u001b[0m     \"\"\"\n\u001b[0;32m-> 1615\u001b[0;31m     \u001b[0;32mreturn\u001b[0m \u001b[0mFlatMapDataset\u001b[0m\u001b[0;34m(\u001b[0m\u001b[0mself\u001b[0m\u001b[0;34m,\u001b[0m \u001b[0mmap_func\u001b[0m\u001b[0;34m)\u001b[0m\u001b[0;34m\u001b[0m\u001b[0;34m\u001b[0m\u001b[0m\n\u001b[0m\u001b[1;32m   1616\u001b[0m \u001b[0;34m\u001b[0m\u001b[0m\n\u001b[1;32m   1617\u001b[0m   def interleave(self,\n",
      "\u001b[0;32m/usr/lib/python3.6/site-packages/tensorflow_core/python/data/ops/dataset_ops.py\u001b[0m in \u001b[0;36m__init__\u001b[0;34m(self, input_dataset, map_func)\u001b[0m\n\u001b[1;32m   3956\u001b[0m     \u001b[0mself\u001b[0m\u001b[0;34m.\u001b[0m\u001b[0m_input_dataset\u001b[0m \u001b[0;34m=\u001b[0m \u001b[0minput_dataset\u001b[0m\u001b[0;34m\u001b[0m\u001b[0;34m\u001b[0m\u001b[0m\n\u001b[1;32m   3957\u001b[0m     self._map_func = StructuredFunctionWrapper(\n\u001b[0;32m-> 3958\u001b[0;31m         map_func, self._transformation_name(), dataset=input_dataset)\n\u001b[0m\u001b[1;32m   3959\u001b[0m     \u001b[0;32mif\u001b[0m \u001b[0;32mnot\u001b[0m \u001b[0misinstance\u001b[0m\u001b[0;34m(\u001b[0m\u001b[0mself\u001b[0m\u001b[0;34m.\u001b[0m\u001b[0m_map_func\u001b[0m\u001b[0;34m.\u001b[0m\u001b[0moutput_structure\u001b[0m\u001b[0;34m,\u001b[0m \u001b[0mDatasetSpec\u001b[0m\u001b[0;34m)\u001b[0m\u001b[0;34m:\u001b[0m\u001b[0;34m\u001b[0m\u001b[0;34m\u001b[0m\u001b[0m\n\u001b[1;32m   3960\u001b[0m       raise TypeError(\n",
      "\u001b[0;32m/usr/lib/python3.6/site-packages/tensorflow_core/python/data/ops/dataset_ops.py\u001b[0m in \u001b[0;36m__init__\u001b[0;34m(self, func, transformation_name, dataset, input_classes, input_shapes, input_types, input_structure, add_to_graph, use_legacy_function, defun_kwargs)\u001b[0m\n\u001b[1;32m   3145\u001b[0m       \u001b[0;32mwith\u001b[0m \u001b[0mtracking\u001b[0m\u001b[0;34m.\u001b[0m\u001b[0mresource_tracker_scope\u001b[0m\u001b[0;34m(\u001b[0m\u001b[0mresource_tracker\u001b[0m\u001b[0;34m)\u001b[0m\u001b[0;34m:\u001b[0m\u001b[0;34m\u001b[0m\u001b[0;34m\u001b[0m\u001b[0m\n\u001b[1;32m   3146\u001b[0m         \u001b[0;31m# TODO(b/141462134): Switch to using garbage collection.\u001b[0m\u001b[0;34m\u001b[0m\u001b[0;34m\u001b[0m\u001b[0;34m\u001b[0m\u001b[0m\n\u001b[0;32m-> 3147\u001b[0;31m         \u001b[0mself\u001b[0m\u001b[0;34m.\u001b[0m\u001b[0m_function\u001b[0m \u001b[0;34m=\u001b[0m \u001b[0mwrapper_fn\u001b[0m\u001b[0;34m.\u001b[0m\u001b[0m_get_concrete_function_internal\u001b[0m\u001b[0;34m(\u001b[0m\u001b[0;34m)\u001b[0m\u001b[0;34m\u001b[0m\u001b[0;34m\u001b[0m\u001b[0m\n\u001b[0m\u001b[1;32m   3148\u001b[0m \u001b[0;34m\u001b[0m\u001b[0m\n\u001b[1;32m   3149\u001b[0m         \u001b[0;32mif\u001b[0m \u001b[0madd_to_graph\u001b[0m\u001b[0;34m:\u001b[0m\u001b[0;34m\u001b[0m\u001b[0;34m\u001b[0m\u001b[0m\n",
      "\u001b[0;32m/usr/lib/python3.6/site-packages/tensorflow_core/python/eager/function.py\u001b[0m in \u001b[0;36m_get_concrete_function_internal\u001b[0;34m(self, *args, **kwargs)\u001b[0m\n\u001b[1;32m   2393\u001b[0m     \u001b[0;34m\"\"\"Bypasses error checking when getting a graph function.\"\"\"\u001b[0m\u001b[0;34m\u001b[0m\u001b[0;34m\u001b[0m\u001b[0m\n\u001b[1;32m   2394\u001b[0m     graph_function = self._get_concrete_function_internal_garbage_collected(\n\u001b[0;32m-> 2395\u001b[0;31m         *args, **kwargs)\n\u001b[0m\u001b[1;32m   2396\u001b[0m     \u001b[0;31m# We're returning this concrete function to someone, and they may keep a\u001b[0m\u001b[0;34m\u001b[0m\u001b[0;34m\u001b[0m\u001b[0;34m\u001b[0m\u001b[0m\n\u001b[1;32m   2397\u001b[0m     \u001b[0;31m# reference to the FuncGraph without keeping a reference to the\u001b[0m\u001b[0;34m\u001b[0m\u001b[0;34m\u001b[0m\u001b[0;34m\u001b[0m\u001b[0m\n",
      "\u001b[0;32m/usr/lib/python3.6/site-packages/tensorflow_core/python/eager/function.py\u001b[0m in \u001b[0;36m_get_concrete_function_internal_garbage_collected\u001b[0;34m(self, *args, **kwargs)\u001b[0m\n\u001b[1;32m   2387\u001b[0m       \u001b[0margs\u001b[0m\u001b[0;34m,\u001b[0m \u001b[0mkwargs\u001b[0m \u001b[0;34m=\u001b[0m \u001b[0;32mNone\u001b[0m\u001b[0;34m,\u001b[0m \u001b[0;32mNone\u001b[0m\u001b[0;34m\u001b[0m\u001b[0;34m\u001b[0m\u001b[0m\n\u001b[1;32m   2388\u001b[0m     \u001b[0;32mwith\u001b[0m \u001b[0mself\u001b[0m\u001b[0;34m.\u001b[0m\u001b[0m_lock\u001b[0m\u001b[0;34m:\u001b[0m\u001b[0;34m\u001b[0m\u001b[0;34m\u001b[0m\u001b[0m\n\u001b[0;32m-> 2389\u001b[0;31m       \u001b[0mgraph_function\u001b[0m\u001b[0;34m,\u001b[0m \u001b[0m_\u001b[0m\u001b[0;34m,\u001b[0m \u001b[0m_\u001b[0m \u001b[0;34m=\u001b[0m \u001b[0mself\u001b[0m\u001b[0;34m.\u001b[0m\u001b[0m_maybe_define_function\u001b[0m\u001b[0;34m(\u001b[0m\u001b[0margs\u001b[0m\u001b[0;34m,\u001b[0m \u001b[0mkwargs\u001b[0m\u001b[0;34m)\u001b[0m\u001b[0;34m\u001b[0m\u001b[0;34m\u001b[0m\u001b[0m\n\u001b[0m\u001b[1;32m   2390\u001b[0m     \u001b[0;32mreturn\u001b[0m \u001b[0mgraph_function\u001b[0m\u001b[0;34m\u001b[0m\u001b[0;34m\u001b[0m\u001b[0m\n\u001b[1;32m   2391\u001b[0m \u001b[0;34m\u001b[0m\u001b[0m\n",
      "\u001b[0;32m/usr/lib/python3.6/site-packages/tensorflow_core/python/eager/function.py\u001b[0m in \u001b[0;36m_maybe_define_function\u001b[0;34m(self, args, kwargs)\u001b[0m\n\u001b[1;32m   2701\u001b[0m \u001b[0;34m\u001b[0m\u001b[0m\n\u001b[1;32m   2702\u001b[0m       \u001b[0mself\u001b[0m\u001b[0;34m.\u001b[0m\u001b[0m_function_cache\u001b[0m\u001b[0;34m.\u001b[0m\u001b[0mmissed\u001b[0m\u001b[0;34m.\u001b[0m\u001b[0madd\u001b[0m\u001b[0;34m(\u001b[0m\u001b[0mcall_context_key\u001b[0m\u001b[0;34m)\u001b[0m\u001b[0;34m\u001b[0m\u001b[0;34m\u001b[0m\u001b[0m\n\u001b[0;32m-> 2703\u001b[0;31m       \u001b[0mgraph_function\u001b[0m \u001b[0;34m=\u001b[0m \u001b[0mself\u001b[0m\u001b[0;34m.\u001b[0m\u001b[0m_create_graph_function\u001b[0m\u001b[0;34m(\u001b[0m\u001b[0margs\u001b[0m\u001b[0;34m,\u001b[0m \u001b[0mkwargs\u001b[0m\u001b[0;34m)\u001b[0m\u001b[0;34m\u001b[0m\u001b[0;34m\u001b[0m\u001b[0m\n\u001b[0m\u001b[1;32m   2704\u001b[0m       \u001b[0mself\u001b[0m\u001b[0;34m.\u001b[0m\u001b[0m_function_cache\u001b[0m\u001b[0;34m.\u001b[0m\u001b[0mprimary\u001b[0m\u001b[0;34m[\u001b[0m\u001b[0mcache_key\u001b[0m\u001b[0;34m]\u001b[0m \u001b[0;34m=\u001b[0m \u001b[0mgraph_function\u001b[0m\u001b[0;34m\u001b[0m\u001b[0;34m\u001b[0m\u001b[0m\n\u001b[1;32m   2705\u001b[0m       \u001b[0;32mreturn\u001b[0m \u001b[0mgraph_function\u001b[0m\u001b[0;34m,\u001b[0m \u001b[0margs\u001b[0m\u001b[0;34m,\u001b[0m \u001b[0mkwargs\u001b[0m\u001b[0;34m\u001b[0m\u001b[0;34m\u001b[0m\u001b[0m\n",
      "\u001b[0;32m/usr/lib/python3.6/site-packages/tensorflow_core/python/eager/function.py\u001b[0m in \u001b[0;36m_create_graph_function\u001b[0;34m(self, args, kwargs, override_flat_arg_shapes)\u001b[0m\n\u001b[1;32m   2591\u001b[0m             \u001b[0marg_names\u001b[0m\u001b[0;34m=\u001b[0m\u001b[0marg_names\u001b[0m\u001b[0;34m,\u001b[0m\u001b[0;34m\u001b[0m\u001b[0;34m\u001b[0m\u001b[0m\n\u001b[1;32m   2592\u001b[0m             \u001b[0moverride_flat_arg_shapes\u001b[0m\u001b[0;34m=\u001b[0m\u001b[0moverride_flat_arg_shapes\u001b[0m\u001b[0;34m,\u001b[0m\u001b[0;34m\u001b[0m\u001b[0;34m\u001b[0m\u001b[0m\n\u001b[0;32m-> 2593\u001b[0;31m             capture_by_value=self._capture_by_value),\n\u001b[0m\u001b[1;32m   2594\u001b[0m         \u001b[0mself\u001b[0m\u001b[0;34m.\u001b[0m\u001b[0m_function_attributes\u001b[0m\u001b[0;34m,\u001b[0m\u001b[0;34m\u001b[0m\u001b[0;34m\u001b[0m\u001b[0m\n\u001b[1;32m   2595\u001b[0m         \u001b[0;31m# Tell the ConcreteFunction to clean up its graph once it goes out of\u001b[0m\u001b[0;34m\u001b[0m\u001b[0;34m\u001b[0m\u001b[0;34m\u001b[0m\u001b[0m\n",
      "\u001b[0;32m/usr/lib/python3.6/site-packages/tensorflow_core/python/framework/func_graph.py\u001b[0m in \u001b[0;36mfunc_graph_from_py_func\u001b[0;34m(name, python_func, args, kwargs, signature, func_graph, autograph, autograph_options, add_control_dependencies, arg_names, op_return_value, collections, capture_by_value, override_flat_arg_shapes)\u001b[0m\n\u001b[1;32m    896\u001b[0m       \u001b[0mkwarg_shapes\u001b[0m \u001b[0;34m=\u001b[0m \u001b[0;32mNone\u001b[0m\u001b[0;34m\u001b[0m\u001b[0;34m\u001b[0m\u001b[0m\n\u001b[1;32m    897\u001b[0m     func_args = _get_defun_inputs_from_args(\n\u001b[0;32m--> 898\u001b[0;31m         args, arg_names, flat_shapes=arg_shapes)\n\u001b[0m\u001b[1;32m    899\u001b[0m     func_kwargs = _get_defun_inputs_from_kwargs(\n\u001b[1;32m    900\u001b[0m         kwargs, flat_shapes=kwarg_shapes)\n",
      "\u001b[0;32m/usr/lib/python3.6/site-packages/tensorflow_core/python/framework/func_graph.py\u001b[0m in \u001b[0;36m_get_defun_inputs_from_args\u001b[0;34m(args, names, flat_shapes)\u001b[0m\n\u001b[1;32m   1125\u001b[0m   \u001b[0;34m\"\"\"Maps Python function positional args to graph-construction inputs.\"\"\"\u001b[0m\u001b[0;34m\u001b[0m\u001b[0;34m\u001b[0m\u001b[0m\n\u001b[1;32m   1126\u001b[0m   return _get_defun_inputs(\n\u001b[0;32m-> 1127\u001b[0;31m       args, names, structure=args, flat_shapes=flat_shapes)\n\u001b[0m\u001b[1;32m   1128\u001b[0m \u001b[0;34m\u001b[0m\u001b[0m\n\u001b[1;32m   1129\u001b[0m \u001b[0;34m\u001b[0m\u001b[0m\n",
      "\u001b[0;32m/usr/lib/python3.6/site-packages/tensorflow_core/python/framework/func_graph.py\u001b[0m in \u001b[0;36m_get_defun_inputs\u001b[0;34m(args, names, structure, flat_shapes)\u001b[0m\n\u001b[1;32m   1205\u001b[0m           placeholder = graph_placeholder(\n\u001b[1;32m   1206\u001b[0m               \u001b[0marg\u001b[0m\u001b[0;34m.\u001b[0m\u001b[0mdtype\u001b[0m\u001b[0;34m,\u001b[0m \u001b[0mplaceholder_shape\u001b[0m\u001b[0;34m,\u001b[0m\u001b[0;34m\u001b[0m\u001b[0;34m\u001b[0m\u001b[0m\n\u001b[0;32m-> 1207\u001b[0;31m               name=requested_name)\n\u001b[0m\u001b[1;32m   1208\u001b[0m         \u001b[0;32mexcept\u001b[0m \u001b[0mValueError\u001b[0m\u001b[0;34m:\u001b[0m\u001b[0;34m\u001b[0m\u001b[0;34m\u001b[0m\u001b[0m\n\u001b[1;32m   1209\u001b[0m           \u001b[0;31m# Sometimes parameter names are not valid op names, so fall back to\u001b[0m\u001b[0;34m\u001b[0m\u001b[0;34m\u001b[0m\u001b[0;34m\u001b[0m\u001b[0m\n",
      "\u001b[0;32m/usr/lib/python3.6/site-packages/tensorflow_core/python/eager/graph_only_ops.py\u001b[0m in \u001b[0;36mgraph_placeholder\u001b[0;34m(dtype, shape, name)\u001b[0m\n\u001b[1;32m     36\u001b[0m   op = g._create_op_internal(  # pylint: disable=protected-access\n\u001b[1;32m     37\u001b[0m       \u001b[0;34m\"Placeholder\"\u001b[0m\u001b[0;34m,\u001b[0m \u001b[0;34m[\u001b[0m\u001b[0;34m]\u001b[0m\u001b[0;34m,\u001b[0m \u001b[0;34m[\u001b[0m\u001b[0mdtype\u001b[0m\u001b[0;34m]\u001b[0m\u001b[0;34m,\u001b[0m \u001b[0minput_types\u001b[0m\u001b[0;34m=\u001b[0m\u001b[0;34m[\u001b[0m\u001b[0;34m]\u001b[0m\u001b[0;34m,\u001b[0m\u001b[0;34m\u001b[0m\u001b[0;34m\u001b[0m\u001b[0m\n\u001b[0;32m---> 38\u001b[0;31m       attrs={\"dtype\": dtype_value, \"shape\": shape}, name=name)\n\u001b[0m\u001b[1;32m     39\u001b[0m   \u001b[0mresult\u001b[0m\u001b[0;34m,\u001b[0m \u001b[0;34m=\u001b[0m \u001b[0mop\u001b[0m\u001b[0;34m.\u001b[0m\u001b[0moutputs\u001b[0m\u001b[0;34m\u001b[0m\u001b[0;34m\u001b[0m\u001b[0m\n\u001b[1;32m     40\u001b[0m   \u001b[0;32mreturn\u001b[0m \u001b[0mresult\u001b[0m\u001b[0;34m\u001b[0m\u001b[0;34m\u001b[0m\u001b[0m\n",
      "\u001b[0;32m/usr/lib/python3.6/site-packages/tensorflow_core/python/framework/func_graph.py\u001b[0m in \u001b[0;36m_create_op_internal\u001b[0;34m(self, op_type, inputs, dtypes, input_types, name, attrs, op_def, compute_device)\u001b[0m\n\u001b[1;32m    593\u001b[0m     return super(FuncGraph, self)._create_op_internal(  # pylint: disable=protected-access\n\u001b[1;32m    594\u001b[0m         \u001b[0mop_type\u001b[0m\u001b[0;34m,\u001b[0m \u001b[0minputs\u001b[0m\u001b[0;34m,\u001b[0m \u001b[0mdtypes\u001b[0m\u001b[0;34m,\u001b[0m \u001b[0minput_types\u001b[0m\u001b[0;34m,\u001b[0m \u001b[0mname\u001b[0m\u001b[0;34m,\u001b[0m \u001b[0mattrs\u001b[0m\u001b[0;34m,\u001b[0m \u001b[0mop_def\u001b[0m\u001b[0;34m,\u001b[0m\u001b[0;34m\u001b[0m\u001b[0;34m\u001b[0m\u001b[0m\n\u001b[0;32m--> 595\u001b[0;31m         compute_device)\n\u001b[0m\u001b[1;32m    596\u001b[0m \u001b[0;34m\u001b[0m\u001b[0m\n\u001b[1;32m    597\u001b[0m   \u001b[0;32mdef\u001b[0m \u001b[0mcapture\u001b[0m\u001b[0;34m(\u001b[0m\u001b[0mself\u001b[0m\u001b[0;34m,\u001b[0m \u001b[0mtensor\u001b[0m\u001b[0;34m,\u001b[0m \u001b[0mname\u001b[0m\u001b[0;34m=\u001b[0m\u001b[0;32mNone\u001b[0m\u001b[0;34m,\u001b[0m \u001b[0mshape\u001b[0m\u001b[0;34m=\u001b[0m\u001b[0;32mNone\u001b[0m\u001b[0;34m)\u001b[0m\u001b[0;34m:\u001b[0m\u001b[0;34m\u001b[0m\u001b[0;34m\u001b[0m\u001b[0m\n",
      "\u001b[0;32m/usr/lib/python3.6/site-packages/tensorflow_core/python/framework/ops.py\u001b[0m in \u001b[0;36m_create_op_internal\u001b[0;34m(self, op_type, inputs, dtypes, input_types, name, attrs, op_def, compute_device)\u001b[0m\n\u001b[1;32m   3320\u001b[0m           \u001b[0minput_types\u001b[0m\u001b[0;34m=\u001b[0m\u001b[0minput_types\u001b[0m\u001b[0;34m,\u001b[0m\u001b[0;34m\u001b[0m\u001b[0;34m\u001b[0m\u001b[0m\n\u001b[1;32m   3321\u001b[0m           \u001b[0moriginal_op\u001b[0m\u001b[0;34m=\u001b[0m\u001b[0mself\u001b[0m\u001b[0;34m.\u001b[0m\u001b[0m_default_original_op\u001b[0m\u001b[0;34m,\u001b[0m\u001b[0;34m\u001b[0m\u001b[0;34m\u001b[0m\u001b[0m\n\u001b[0;32m-> 3322\u001b[0;31m           op_def=op_def)\n\u001b[0m\u001b[1;32m   3323\u001b[0m       \u001b[0mself\u001b[0m\u001b[0;34m.\u001b[0m\u001b[0m_create_op_helper\u001b[0m\u001b[0;34m(\u001b[0m\u001b[0mret\u001b[0m\u001b[0;34m,\u001b[0m \u001b[0mcompute_device\u001b[0m\u001b[0;34m=\u001b[0m\u001b[0mcompute_device\u001b[0m\u001b[0;34m)\u001b[0m\u001b[0;34m\u001b[0m\u001b[0;34m\u001b[0m\u001b[0m\n\u001b[1;32m   3324\u001b[0m     \u001b[0;32mreturn\u001b[0m \u001b[0mret\u001b[0m\u001b[0;34m\u001b[0m\u001b[0;34m\u001b[0m\u001b[0m\n",
      "\u001b[0;32m/usr/lib/python3.6/site-packages/tensorflow_core/python/framework/ops.py\u001b[0m in \u001b[0;36m__init__\u001b[0;34m(self, node_def, g, inputs, output_types, control_inputs, input_types, original_op, op_def)\u001b[0m\n\u001b[1;32m   1778\u001b[0m     \u001b[0;32melse\u001b[0m\u001b[0;34m:\u001b[0m\u001b[0;34m\u001b[0m\u001b[0;34m\u001b[0m\u001b[0m\n\u001b[1;32m   1779\u001b[0m       \u001b[0;32mif\u001b[0m \u001b[0mop_def\u001b[0m \u001b[0;32mis\u001b[0m \u001b[0;32mNone\u001b[0m\u001b[0;34m:\u001b[0m\u001b[0;34m\u001b[0m\u001b[0;34m\u001b[0m\u001b[0m\n\u001b[0;32m-> 1780\u001b[0;31m         \u001b[0mop_def\u001b[0m \u001b[0;34m=\u001b[0m \u001b[0mself\u001b[0m\u001b[0;34m.\u001b[0m\u001b[0m_graph\u001b[0m\u001b[0;34m.\u001b[0m\u001b[0m_get_op_def\u001b[0m\u001b[0;34m(\u001b[0m\u001b[0mnode_def\u001b[0m\u001b[0;34m.\u001b[0m\u001b[0mop\u001b[0m\u001b[0;34m)\u001b[0m\u001b[0;34m\u001b[0m\u001b[0;34m\u001b[0m\u001b[0m\n\u001b[0m\u001b[1;32m   1781\u001b[0m       \u001b[0;31m# TODO(skyewm): op_def_library.apply_op() flattens the incoming inputs.\u001b[0m\u001b[0;34m\u001b[0m\u001b[0;34m\u001b[0m\u001b[0;34m\u001b[0m\u001b[0m\n\u001b[1;32m   1782\u001b[0m       \u001b[0;31m# Refactor so we don't have to do this here.\u001b[0m\u001b[0;34m\u001b[0m\u001b[0;34m\u001b[0m\u001b[0;34m\u001b[0m\u001b[0m\n",
      "\u001b[0;32m/usr/lib/python3.6/site-packages/tensorflow_core/python/framework/ops.py\u001b[0m in \u001b[0;36m_get_op_def\u001b[0;34m(self, type)\u001b[0m\n\u001b[1;32m   3708\u001b[0m       \u001b[0;32mreturn\u001b[0m \u001b[0mself\u001b[0m\u001b[0;34m.\u001b[0m\u001b[0m_op_def_cache\u001b[0m\u001b[0;34m[\u001b[0m\u001b[0mtype\u001b[0m\u001b[0;34m]\u001b[0m\u001b[0;34m\u001b[0m\u001b[0;34m\u001b[0m\u001b[0m\n\u001b[1;32m   3709\u001b[0m     \u001b[0;32mexcept\u001b[0m \u001b[0mKeyError\u001b[0m\u001b[0;34m:\u001b[0m\u001b[0;34m\u001b[0m\u001b[0;34m\u001b[0m\u001b[0m\n\u001b[0;32m-> 3710\u001b[0;31m       \u001b[0;32mwith\u001b[0m \u001b[0mc_api_util\u001b[0m\u001b[0;34m.\u001b[0m\u001b[0mtf_buffer\u001b[0m\u001b[0;34m(\u001b[0m\u001b[0;34m)\u001b[0m \u001b[0;32mas\u001b[0m \u001b[0mbuf\u001b[0m\u001b[0;34m:\u001b[0m\u001b[0;34m\u001b[0m\u001b[0;34m\u001b[0m\u001b[0m\n\u001b[0m\u001b[1;32m   3711\u001b[0m         \u001b[0;31m# pylint: disable=protected-access\u001b[0m\u001b[0;34m\u001b[0m\u001b[0;34m\u001b[0m\u001b[0;34m\u001b[0m\u001b[0m\n\u001b[1;32m   3712\u001b[0m         \u001b[0mc_api\u001b[0m\u001b[0;34m.\u001b[0m\u001b[0mTF_GraphGetOpDef\u001b[0m\u001b[0;34m(\u001b[0m\u001b[0mself\u001b[0m\u001b[0;34m.\u001b[0m\u001b[0m_c_graph\u001b[0m\u001b[0;34m,\u001b[0m \u001b[0mcompat\u001b[0m\u001b[0;34m.\u001b[0m\u001b[0mas_bytes\u001b[0m\u001b[0;34m(\u001b[0m\u001b[0mtype\u001b[0m\u001b[0;34m)\u001b[0m\u001b[0;34m,\u001b[0m \u001b[0mbuf\u001b[0m\u001b[0;34m)\u001b[0m\u001b[0;34m\u001b[0m\u001b[0;34m\u001b[0m\u001b[0m\n",
      "\u001b[0;32m/usr/lib/python3.6/contextlib.py\u001b[0m in \u001b[0;36mhelper\u001b[0;34m(*args, **kwds)\u001b[0m\n\u001b[1;32m    157\u001b[0m     \u001b[0;34m@\u001b[0m\u001b[0mwraps\u001b[0m\u001b[0;34m(\u001b[0m\u001b[0mfunc\u001b[0m\u001b[0;34m)\u001b[0m\u001b[0;34m\u001b[0m\u001b[0;34m\u001b[0m\u001b[0m\n\u001b[1;32m    158\u001b[0m     \u001b[0;32mdef\u001b[0m \u001b[0mhelper\u001b[0m\u001b[0;34m(\u001b[0m\u001b[0;34m*\u001b[0m\u001b[0margs\u001b[0m\u001b[0;34m,\u001b[0m \u001b[0;34m**\u001b[0m\u001b[0mkwds\u001b[0m\u001b[0;34m)\u001b[0m\u001b[0;34m:\u001b[0m\u001b[0;34m\u001b[0m\u001b[0;34m\u001b[0m\u001b[0m\n\u001b[0;32m--> 159\u001b[0;31m         \u001b[0;32mreturn\u001b[0m \u001b[0m_GeneratorContextManager\u001b[0m\u001b[0;34m(\u001b[0m\u001b[0mfunc\u001b[0m\u001b[0;34m,\u001b[0m \u001b[0margs\u001b[0m\u001b[0;34m,\u001b[0m \u001b[0mkwds\u001b[0m\u001b[0;34m)\u001b[0m\u001b[0;34m\u001b[0m\u001b[0;34m\u001b[0m\u001b[0m\n\u001b[0m\u001b[1;32m    160\u001b[0m     \u001b[0;32mreturn\u001b[0m \u001b[0mhelper\u001b[0m\u001b[0;34m\u001b[0m\u001b[0;34m\u001b[0m\u001b[0m\n\u001b[1;32m    161\u001b[0m \u001b[0;34m\u001b[0m\u001b[0m\n",
      "\u001b[0;32m/usr/lib/python3.6/contextlib.py\u001b[0m in \u001b[0;36m__init__\u001b[0;34m(self, func, args, kwds)\u001b[0m\n\u001b[1;32m     64\u001b[0m         \u001b[0;32mif\u001b[0m \u001b[0mdoc\u001b[0m \u001b[0;32mis\u001b[0m \u001b[0;32mNone\u001b[0m\u001b[0;34m:\u001b[0m\u001b[0;34m\u001b[0m\u001b[0;34m\u001b[0m\u001b[0m\n\u001b[1;32m     65\u001b[0m             \u001b[0mdoc\u001b[0m \u001b[0;34m=\u001b[0m \u001b[0mtype\u001b[0m\u001b[0;34m(\u001b[0m\u001b[0mself\u001b[0m\u001b[0;34m)\u001b[0m\u001b[0;34m.\u001b[0m\u001b[0m__doc__\u001b[0m\u001b[0;34m\u001b[0m\u001b[0;34m\u001b[0m\u001b[0m\n\u001b[0;32m---> 66\u001b[0;31m         \u001b[0mself\u001b[0m\u001b[0;34m.\u001b[0m\u001b[0m__doc__\u001b[0m \u001b[0;34m=\u001b[0m \u001b[0mdoc\u001b[0m\u001b[0;34m\u001b[0m\u001b[0;34m\u001b[0m\u001b[0m\n\u001b[0m\u001b[1;32m     67\u001b[0m         \u001b[0;31m# Unfortunately, this still doesn't provide good help output when\u001b[0m\u001b[0;34m\u001b[0m\u001b[0;34m\u001b[0m\u001b[0;34m\u001b[0m\u001b[0m\n\u001b[1;32m     68\u001b[0m         \u001b[0;31m# inspecting the created context manager instances, since pydoc\u001b[0m\u001b[0;34m\u001b[0m\u001b[0;34m\u001b[0m\u001b[0;34m\u001b[0m\u001b[0m\n",
      "\u001b[0;31mKeyboardInterrupt\u001b[0m: "
     ]
    }
   ],
   "source": [
    "predicted=[]\n",
    "length=len(x_train_single)\n",
    "for i in range (length-10):\n",
    "    if i%100==0:\n",
    "        print(i)\n",
    "    predicted.append(single_step_model.predict(x_train_single[i:i+10])[9][0])"
   ]
  },
  {
   "cell_type": "code",
   "execution_count": 36,
   "metadata": {},
   "outputs": [
    {
     "data": {
      "text/plain": [
       "[<matplotlib.lines.Line2D at 0x7ff428123978>]"
      ]
     },
     "execution_count": 36,
     "metadata": {},
     "output_type": "execute_result"
    },
    {
     "data": {
      "image/png": "[encoded data removed]",
      "text/plain": [
       "<Figure size 432x288 with 1 Axes>"
      ]
     },
     "metadata": {
      "needs_background": "light"
     },
     "output_type": "display_data"
    }
   ],
   "source": [
    "# 04/24 first \n",
    "\n",
    "plt.plot(predicted[100000:])"
   ]
  },
  {
   "cell_type": "code",
   "execution_count": 43,
   "metadata": {},
   "outputs": [
    {
     "data": {
      "text/plain": [
       "[<matplotlib.lines.Line2D at 0x7f0530fb3940>]"
      ]
     },
     "execution_count": 43,
     "metadata": {},
     "output_type": "execute_result"
    },
    {
     "data": {
      "image/png": "[encoded data removed]",
      "text/plain": [
       "<Figure size 432x288 with 1 Axes>"
      ]
     },
     "metadata": {
      "needs_background": "light"
     },
     "output_type": "display_data"
    }
   ],
   "source": [
    "plt.plot(y_train_single[100000:])"
   ]
  },
  {
   "cell_type": "code",
   "execution_count": null,
   "metadata": {},
   "outputs": [],
   "source": [
    "y_pred=single_step_model.predict_classes(x_train_single)\n",
    "con_mat = tf.math.confusion_matrix(labels=y_train_single, predictions=y_pred).numpy()"
   ]
  },
  {
   "cell_type": "code",
   "execution_count": 27,
   "metadata": {},
   "outputs": [
    {
     "data": {
      "text/plain": [
       "array([[100651,      0],\n",
       "       [  1985,      0]], dtype=int32)"
      ]
     },
     "execution_count": 27,
     "metadata": {},
     "output_type": "execute_result"
    }
   ],
   "source": [
    "con_mat"
   ]
  },
  {
   "cell_type": "code",
   "execution_count": 2,
   "metadata": {},
   "outputs": [
    {
     "ename": "NameError",
     "evalue": "name 'con_mat' is not defined",
     "output_type": "error",
     "traceback": [
      "\u001b[0;31m---------------------------------------------------------------------------\u001b[0m",
      "\u001b[0;31mNameError\u001b[0m                                 Traceback (most recent call last)",
      "\u001b[0;32m<ipython-input-2-827739e7f2d3>\u001b[0m in \u001b[0;36m<module>\u001b[0;34m\u001b[0m\n\u001b[0;32m----> 1\u001b[0;31m \u001b[0mcon_mat\u001b[0m\u001b[0;34m\u001b[0m\u001b[0;34m\u001b[0m\u001b[0m\n\u001b[0m",
      "\u001b[0;31mNameError\u001b[0m: name 'con_mat' is not defined"
     ]
    }
   ],
   "source": [
    "con_mat"
   ]
  },
  {
   "cell_type": "code",
   "execution_count": 34,
   "metadata": {},
   "outputs": [],
   "source": [
    "acc=(86111+20573)/len(x_train_single)"
   ]
  },
  {
   "cell_type": "code",
   "execution_count": 3,
   "metadata": {},
   "outputs": [
    {
     "ename": "NameError",
     "evalue": "name 'acc' is not defined",
     "output_type": "error",
     "traceback": [
      "\u001b[0;31m---------------------------------------------------------------------------\u001b[0m",
      "\u001b[0;31mNameError\u001b[0m                                 Traceback (most recent call last)",
      "\u001b[0;32m<ipython-input-3-0a304da0f193>\u001b[0m in \u001b[0;36m<module>\u001b[0;34m\u001b[0m\n\u001b[0;32m----> 1\u001b[0;31m \u001b[0macc\u001b[0m\u001b[0;34m\u001b[0m\u001b[0;34m\u001b[0m\u001b[0m\n\u001b[0m",
      "\u001b[0;31mNameError\u001b[0m: name 'acc' is not defined"
     ]
    }
   ],
   "source": [
    "acc"
   ]
  },
  {
   "cell_type": "code",
   "execution_count": 26,
   "metadata": {},
   "outputs": [],
   "source": [
    "def confusionMatrix(model, X, Y):\n",
    "    y_pred=model.predict_classes(X)\n",
    "    con_mat=tf.math.confusion_matrix(labels=Y, predictions=y_pred).numpy()\n",
    "    return con_mat"
   ]
  },
  {
   "cell_type": "code",
   "execution_count": null,
   "metadata": {},
   "outputs": [],
   "source": [
    "print(confusionMatrix(single_step_model, xVal, yVal))"
   ]
  },
  {
   "cell_type": "code",
   "execution_count": null,
   "metadata": {},
   "outputs": [],
   "source": []
  }
 ],
 "metadata": {
  "kernelspec": {
   "display_name": "Python 3",
   "language": "python",
   "name": "python3"
  },
  "language_info": {
   "codemirror_mode": {
    "name": "ipython",
    "version": 3
   },
   "file_extension": ".py",
   "mimetype": "text/x-python",
   "name": "python",
   "nbconvert_exporter": "python",
   "pygments_lexer": "ipython3",
   "version": "3.6.9"
  }
 },
 "nbformat": 4,
 "nbformat_minor": 4
}
